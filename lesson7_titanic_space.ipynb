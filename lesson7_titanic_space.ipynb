{
 "cells": [
  {
   "cell_type": "code",
   "execution_count": 1,
   "metadata": {
    "collapsed": true,
    "ExecuteTime": {
     "end_time": "2023-05-24T15:02:57.988717133Z",
     "start_time": "2023-05-24T15:02:57.581389747Z"
    }
   },
   "outputs": [],
   "source": [
    "import pandas as pd"
   ]
  },
  {
   "cell_type": "code",
   "execution_count": 2,
   "outputs": [],
   "source": [
    "# Load a dataset into a Pandas Dataframe, make attributes as str\n",
    "df = pd.read_csv(\"train.csv\", sep=',', dtype=str)"
   ],
   "metadata": {
    "collapsed": false,
    "ExecuteTime": {
     "end_time": "2023-05-24T15:02:59.742864474Z",
     "start_time": "2023-05-24T15:02:59.576259305Z"
    }
   }
  },
  {
   "cell_type": "code",
   "execution_count": 3,
   "outputs": [
    {
     "data": {
      "text/plain": "(8693, 14)"
     },
     "execution_count": 3,
     "metadata": {},
     "output_type": "execute_result"
    }
   ],
   "source": [
    "df.shape"
   ],
   "metadata": {
    "collapsed": false,
    "ExecuteTime": {
     "end_time": "2023-05-24T15:03:00.832201772Z",
     "start_time": "2023-05-24T15:03:00.654595005Z"
    }
   }
  },
  {
   "cell_type": "code",
   "execution_count": 4,
   "outputs": [
    {
     "name": "stdout",
     "output_type": "stream",
     "text": [
      "<class 'pandas.core.frame.DataFrame'>\n",
      "RangeIndex: 8693 entries, 0 to 8692\n",
      "Data columns (total 14 columns):\n",
      " #   Column        Non-Null Count  Dtype \n",
      "---  ------        --------------  ----- \n",
      " 0   PassengerId   8693 non-null   object\n",
      " 1   HomePlanet    8492 non-null   object\n",
      " 2   CryoSleep     8476 non-null   object\n",
      " 3   Cabin         8494 non-null   object\n",
      " 4   Destination   8511 non-null   object\n",
      " 5   Age           8514 non-null   object\n",
      " 6   VIP           8490 non-null   object\n",
      " 7   RoomService   8512 non-null   object\n",
      " 8   FoodCourt     8510 non-null   object\n",
      " 9   ShoppingMall  8485 non-null   object\n",
      " 10  Spa           8510 non-null   object\n",
      " 11  VRDeck        8505 non-null   object\n",
      " 12  Name          8493 non-null   object\n",
      " 13  Transported   8693 non-null   object\n",
      "dtypes: object(14)\n",
      "memory usage: 950.9+ KB\n"
     ]
    }
   ],
   "source": [
    "df.info()"
   ],
   "metadata": {
    "collapsed": false,
    "ExecuteTime": {
     "end_time": "2023-05-24T15:03:01.535996019Z",
     "start_time": "2023-05-24T15:03:01.445199155Z"
    }
   }
  },
  {
   "cell_type": "code",
   "execution_count": 5,
   "outputs": [
    {
     "data": {
      "text/plain": "  PassengerId HomePlanet CryoSleep  Cabin    Destination   Age    VIP  \\\n0     0001_01     Europa     False  B/0/P    TRAPPIST-1e  39.0  False   \n1     0002_01      Earth     False  F/0/S    TRAPPIST-1e  24.0  False   \n2     0003_01     Europa     False  A/0/S    TRAPPIST-1e  58.0   True   \n3     0003_02     Europa     False  A/0/S    TRAPPIST-1e  33.0  False   \n4     0004_01      Earth     False  F/1/S    TRAPPIST-1e  16.0  False   \n5     0005_01      Earth     False  F/0/P  PSO J318.5-22  44.0  False   \n6     0006_01      Earth     False  F/2/S    TRAPPIST-1e  26.0  False   \n7     0006_02      Earth      True  G/0/S    TRAPPIST-1e  28.0  False   \n8     0007_01      Earth     False  F/3/S    TRAPPIST-1e  35.0  False   \n9     0008_01     Europa      True  B/1/P    55 Cancri e  14.0  False   \n\n  RoomService FoodCourt ShoppingMall     Spa VRDeck                Name  \\\n0         0.0       0.0          0.0     0.0    0.0     Maham Ofracculy   \n1       109.0       9.0         25.0   549.0   44.0        Juanna Vines   \n2        43.0    3576.0          0.0  6715.0   49.0       Altark Susent   \n3         0.0    1283.0        371.0  3329.0  193.0        Solam Susent   \n4       303.0      70.0        151.0   565.0    2.0   Willy Santantines   \n5         0.0     483.0          0.0   291.0    0.0   Sandie Hinetthews   \n6        42.0    1539.0          3.0     0.0    0.0  Billex Jacostaffey   \n7         0.0       0.0          0.0     0.0    NaN  Candra Jacostaffey   \n8         0.0     785.0         17.0   216.0    0.0       Andona Beston   \n9         0.0       0.0          0.0     0.0    0.0      Erraiam Flatic   \n\n  Transported  \n0       False  \n1        True  \n2       False  \n3       False  \n4        True  \n5        True  \n6        True  \n7        True  \n8        True  \n9        True  ",
      "text/html": "<div>\n<style scoped>\n    .dataframe tbody tr th:only-of-type {\n        vertical-align: middle;\n    }\n\n    .dataframe tbody tr th {\n        vertical-align: top;\n    }\n\n    .dataframe thead th {\n        text-align: right;\n    }\n</style>\n<table border=\"1\" class=\"dataframe\">\n  <thead>\n    <tr style=\"text-align: right;\">\n      <th></th>\n      <th>PassengerId</th>\n      <th>HomePlanet</th>\n      <th>CryoSleep</th>\n      <th>Cabin</th>\n      <th>Destination</th>\n      <th>Age</th>\n      <th>VIP</th>\n      <th>RoomService</th>\n      <th>FoodCourt</th>\n      <th>ShoppingMall</th>\n      <th>Spa</th>\n      <th>VRDeck</th>\n      <th>Name</th>\n      <th>Transported</th>\n    </tr>\n  </thead>\n  <tbody>\n    <tr>\n      <th>0</th>\n      <td>0001_01</td>\n      <td>Europa</td>\n      <td>False</td>\n      <td>B/0/P</td>\n      <td>TRAPPIST-1e</td>\n      <td>39.0</td>\n      <td>False</td>\n      <td>0.0</td>\n      <td>0.0</td>\n      <td>0.0</td>\n      <td>0.0</td>\n      <td>0.0</td>\n      <td>Maham Ofracculy</td>\n      <td>False</td>\n    </tr>\n    <tr>\n      <th>1</th>\n      <td>0002_01</td>\n      <td>Earth</td>\n      <td>False</td>\n      <td>F/0/S</td>\n      <td>TRAPPIST-1e</td>\n      <td>24.0</td>\n      <td>False</td>\n      <td>109.0</td>\n      <td>9.0</td>\n      <td>25.0</td>\n      <td>549.0</td>\n      <td>44.0</td>\n      <td>Juanna Vines</td>\n      <td>True</td>\n    </tr>\n    <tr>\n      <th>2</th>\n      <td>0003_01</td>\n      <td>Europa</td>\n      <td>False</td>\n      <td>A/0/S</td>\n      <td>TRAPPIST-1e</td>\n      <td>58.0</td>\n      <td>True</td>\n      <td>43.0</td>\n      <td>3576.0</td>\n      <td>0.0</td>\n      <td>6715.0</td>\n      <td>49.0</td>\n      <td>Altark Susent</td>\n      <td>False</td>\n    </tr>\n    <tr>\n      <th>3</th>\n      <td>0003_02</td>\n      <td>Europa</td>\n      <td>False</td>\n      <td>A/0/S</td>\n      <td>TRAPPIST-1e</td>\n      <td>33.0</td>\n      <td>False</td>\n      <td>0.0</td>\n      <td>1283.0</td>\n      <td>371.0</td>\n      <td>3329.0</td>\n      <td>193.0</td>\n      <td>Solam Susent</td>\n      <td>False</td>\n    </tr>\n    <tr>\n      <th>4</th>\n      <td>0004_01</td>\n      <td>Earth</td>\n      <td>False</td>\n      <td>F/1/S</td>\n      <td>TRAPPIST-1e</td>\n      <td>16.0</td>\n      <td>False</td>\n      <td>303.0</td>\n      <td>70.0</td>\n      <td>151.0</td>\n      <td>565.0</td>\n      <td>2.0</td>\n      <td>Willy Santantines</td>\n      <td>True</td>\n    </tr>\n    <tr>\n      <th>5</th>\n      <td>0005_01</td>\n      <td>Earth</td>\n      <td>False</td>\n      <td>F/0/P</td>\n      <td>PSO J318.5-22</td>\n      <td>44.0</td>\n      <td>False</td>\n      <td>0.0</td>\n      <td>483.0</td>\n      <td>0.0</td>\n      <td>291.0</td>\n      <td>0.0</td>\n      <td>Sandie Hinetthews</td>\n      <td>True</td>\n    </tr>\n    <tr>\n      <th>6</th>\n      <td>0006_01</td>\n      <td>Earth</td>\n      <td>False</td>\n      <td>F/2/S</td>\n      <td>TRAPPIST-1e</td>\n      <td>26.0</td>\n      <td>False</td>\n      <td>42.0</td>\n      <td>1539.0</td>\n      <td>3.0</td>\n      <td>0.0</td>\n      <td>0.0</td>\n      <td>Billex Jacostaffey</td>\n      <td>True</td>\n    </tr>\n    <tr>\n      <th>7</th>\n      <td>0006_02</td>\n      <td>Earth</td>\n      <td>True</td>\n      <td>G/0/S</td>\n      <td>TRAPPIST-1e</td>\n      <td>28.0</td>\n      <td>False</td>\n      <td>0.0</td>\n      <td>0.0</td>\n      <td>0.0</td>\n      <td>0.0</td>\n      <td>NaN</td>\n      <td>Candra Jacostaffey</td>\n      <td>True</td>\n    </tr>\n    <tr>\n      <th>8</th>\n      <td>0007_01</td>\n      <td>Earth</td>\n      <td>False</td>\n      <td>F/3/S</td>\n      <td>TRAPPIST-1e</td>\n      <td>35.0</td>\n      <td>False</td>\n      <td>0.0</td>\n      <td>785.0</td>\n      <td>17.0</td>\n      <td>216.0</td>\n      <td>0.0</td>\n      <td>Andona Beston</td>\n      <td>True</td>\n    </tr>\n    <tr>\n      <th>9</th>\n      <td>0008_01</td>\n      <td>Europa</td>\n      <td>True</td>\n      <td>B/1/P</td>\n      <td>55 Cancri e</td>\n      <td>14.0</td>\n      <td>False</td>\n      <td>0.0</td>\n      <td>0.0</td>\n      <td>0.0</td>\n      <td>0.0</td>\n      <td>0.0</td>\n      <td>Erraiam Flatic</td>\n      <td>True</td>\n    </tr>\n  </tbody>\n</table>\n</div>"
     },
     "execution_count": 5,
     "metadata": {},
     "output_type": "execute_result"
    }
   ],
   "source": [
    "# First 10 raws\n",
    "df.head(10)"
   ],
   "metadata": {
    "collapsed": false,
    "ExecuteTime": {
     "end_time": "2023-05-24T15:03:03.674268607Z",
     "start_time": "2023-05-24T15:03:03.573350222Z"
    }
   }
  },
  {
   "cell_type": "code",
   "execution_count": 6,
   "outputs": [
    {
     "data": {
      "text/plain": "     PassengerId HomePlanet CryoSleep     Cabin    Destination   Age    VIP  \\\n8683     9272_02      Earth     False  F/1894/P    TRAPPIST-1e  21.0  False   \n8684     9274_01        NaN      True  G/1508/P    TRAPPIST-1e  23.0  False   \n8685     9275_01     Europa     False    A/97/P    TRAPPIST-1e   0.0  False   \n8686     9275_02     Europa     False    A/97/P    TRAPPIST-1e  32.0  False   \n8687     9275_03     Europa       NaN    A/97/P    TRAPPIST-1e  30.0  False   \n8688     9276_01     Europa     False    A/98/P    55 Cancri e  41.0   True   \n8689     9278_01      Earth      True  G/1499/S  PSO J318.5-22  18.0  False   \n8690     9279_01      Earth     False  G/1500/S    TRAPPIST-1e  26.0  False   \n8691     9280_01     Europa     False   E/608/S    55 Cancri e  32.0  False   \n8692     9280_02     Europa     False   E/608/S    TRAPPIST-1e  44.0  False   \n\n     RoomService FoodCourt ShoppingMall     Spa  VRDeck               Name  \\\n8683        86.0       3.0        149.0   208.0   329.0       Gordo Simson   \n8684         0.0       0.0          0.0     0.0     0.0    Chelsa Bullisey   \n8685         0.0       0.0          0.0     0.0     0.0    Polaton Conable   \n8686         1.0    1146.0          0.0    50.0    34.0      Diram Conable   \n8687         0.0    3208.0          0.0     2.0   330.0    Atlasym Conable   \n8688         0.0    6819.0          0.0  1643.0    74.0  Gravior Noxnuther   \n8689         0.0       0.0          0.0     0.0     0.0    Kurta Mondalley   \n8690         0.0       0.0       1872.0     1.0     0.0       Fayey Connon   \n8691         0.0    1049.0          0.0   353.0  3235.0   Celeon Hontichre   \n8692       126.0    4688.0          0.0     0.0    12.0   Propsh Hontichre   \n\n     Transported  \n8683       False  \n8684        True  \n8685        True  \n8686       False  \n8687        True  \n8688       False  \n8689       False  \n8690        True  \n8691       False  \n8692        True  ",
      "text/html": "<div>\n<style scoped>\n    .dataframe tbody tr th:only-of-type {\n        vertical-align: middle;\n    }\n\n    .dataframe tbody tr th {\n        vertical-align: top;\n    }\n\n    .dataframe thead th {\n        text-align: right;\n    }\n</style>\n<table border=\"1\" class=\"dataframe\">\n  <thead>\n    <tr style=\"text-align: right;\">\n      <th></th>\n      <th>PassengerId</th>\n      <th>HomePlanet</th>\n      <th>CryoSleep</th>\n      <th>Cabin</th>\n      <th>Destination</th>\n      <th>Age</th>\n      <th>VIP</th>\n      <th>RoomService</th>\n      <th>FoodCourt</th>\n      <th>ShoppingMall</th>\n      <th>Spa</th>\n      <th>VRDeck</th>\n      <th>Name</th>\n      <th>Transported</th>\n    </tr>\n  </thead>\n  <tbody>\n    <tr>\n      <th>8683</th>\n      <td>9272_02</td>\n      <td>Earth</td>\n      <td>False</td>\n      <td>F/1894/P</td>\n      <td>TRAPPIST-1e</td>\n      <td>21.0</td>\n      <td>False</td>\n      <td>86.0</td>\n      <td>3.0</td>\n      <td>149.0</td>\n      <td>208.0</td>\n      <td>329.0</td>\n      <td>Gordo Simson</td>\n      <td>False</td>\n    </tr>\n    <tr>\n      <th>8684</th>\n      <td>9274_01</td>\n      <td>NaN</td>\n      <td>True</td>\n      <td>G/1508/P</td>\n      <td>TRAPPIST-1e</td>\n      <td>23.0</td>\n      <td>False</td>\n      <td>0.0</td>\n      <td>0.0</td>\n      <td>0.0</td>\n      <td>0.0</td>\n      <td>0.0</td>\n      <td>Chelsa Bullisey</td>\n      <td>True</td>\n    </tr>\n    <tr>\n      <th>8685</th>\n      <td>9275_01</td>\n      <td>Europa</td>\n      <td>False</td>\n      <td>A/97/P</td>\n      <td>TRAPPIST-1e</td>\n      <td>0.0</td>\n      <td>False</td>\n      <td>0.0</td>\n      <td>0.0</td>\n      <td>0.0</td>\n      <td>0.0</td>\n      <td>0.0</td>\n      <td>Polaton Conable</td>\n      <td>True</td>\n    </tr>\n    <tr>\n      <th>8686</th>\n      <td>9275_02</td>\n      <td>Europa</td>\n      <td>False</td>\n      <td>A/97/P</td>\n      <td>TRAPPIST-1e</td>\n      <td>32.0</td>\n      <td>False</td>\n      <td>1.0</td>\n      <td>1146.0</td>\n      <td>0.0</td>\n      <td>50.0</td>\n      <td>34.0</td>\n      <td>Diram Conable</td>\n      <td>False</td>\n    </tr>\n    <tr>\n      <th>8687</th>\n      <td>9275_03</td>\n      <td>Europa</td>\n      <td>NaN</td>\n      <td>A/97/P</td>\n      <td>TRAPPIST-1e</td>\n      <td>30.0</td>\n      <td>False</td>\n      <td>0.0</td>\n      <td>3208.0</td>\n      <td>0.0</td>\n      <td>2.0</td>\n      <td>330.0</td>\n      <td>Atlasym Conable</td>\n      <td>True</td>\n    </tr>\n    <tr>\n      <th>8688</th>\n      <td>9276_01</td>\n      <td>Europa</td>\n      <td>False</td>\n      <td>A/98/P</td>\n      <td>55 Cancri e</td>\n      <td>41.0</td>\n      <td>True</td>\n      <td>0.0</td>\n      <td>6819.0</td>\n      <td>0.0</td>\n      <td>1643.0</td>\n      <td>74.0</td>\n      <td>Gravior Noxnuther</td>\n      <td>False</td>\n    </tr>\n    <tr>\n      <th>8689</th>\n      <td>9278_01</td>\n      <td>Earth</td>\n      <td>True</td>\n      <td>G/1499/S</td>\n      <td>PSO J318.5-22</td>\n      <td>18.0</td>\n      <td>False</td>\n      <td>0.0</td>\n      <td>0.0</td>\n      <td>0.0</td>\n      <td>0.0</td>\n      <td>0.0</td>\n      <td>Kurta Mondalley</td>\n      <td>False</td>\n    </tr>\n    <tr>\n      <th>8690</th>\n      <td>9279_01</td>\n      <td>Earth</td>\n      <td>False</td>\n      <td>G/1500/S</td>\n      <td>TRAPPIST-1e</td>\n      <td>26.0</td>\n      <td>False</td>\n      <td>0.0</td>\n      <td>0.0</td>\n      <td>1872.0</td>\n      <td>1.0</td>\n      <td>0.0</td>\n      <td>Fayey Connon</td>\n      <td>True</td>\n    </tr>\n    <tr>\n      <th>8691</th>\n      <td>9280_01</td>\n      <td>Europa</td>\n      <td>False</td>\n      <td>E/608/S</td>\n      <td>55 Cancri e</td>\n      <td>32.0</td>\n      <td>False</td>\n      <td>0.0</td>\n      <td>1049.0</td>\n      <td>0.0</td>\n      <td>353.0</td>\n      <td>3235.0</td>\n      <td>Celeon Hontichre</td>\n      <td>False</td>\n    </tr>\n    <tr>\n      <th>8692</th>\n      <td>9280_02</td>\n      <td>Europa</td>\n      <td>False</td>\n      <td>E/608/S</td>\n      <td>TRAPPIST-1e</td>\n      <td>44.0</td>\n      <td>False</td>\n      <td>126.0</td>\n      <td>4688.0</td>\n      <td>0.0</td>\n      <td>0.0</td>\n      <td>12.0</td>\n      <td>Propsh Hontichre</td>\n      <td>True</td>\n    </tr>\n  </tbody>\n</table>\n</div>"
     },
     "execution_count": 6,
     "metadata": {},
     "output_type": "execute_result"
    }
   ],
   "source": [
    "# Last 10 raws\n",
    "df.tail(10)"
   ],
   "metadata": {
    "collapsed": false,
    "ExecuteTime": {
     "end_time": "2023-05-24T15:03:05.392282784Z",
     "start_time": "2023-05-24T15:03:05.332747684Z"
    }
   }
  },
  {
   "cell_type": "code",
   "execution_count": 7,
   "outputs": [
    {
     "data": {
      "text/plain": "     PassengerId HomePlanet CryoSleep     Cabin    Destination   Age    VIP  \\\n6407     6766_01      Earth     False  G/1098/P  PSO J318.5-22  16.0  False   \n6209     6565_01       Mars     False   E/437/S    TRAPPIST-1e  40.0  False   \n3259     3496_02       Mars     False   F/722/P    TRAPPIST-1e  27.0  False   \n3197     3443_01      Earth     False   F/648/S    TRAPPIST-1e  38.0  False   \n7406     7914_02      Earth     False  G/1278/P    TRAPPIST-1e  24.0  False   \n7263     7768_01      Earth     False  F/1484/S    TRAPPIST-1e  14.0  False   \n5855     6200_01     Europa     False   B/238/S    TRAPPIST-1e  27.0  False   \n3368     3622_01     Europa      True   C/119/P    55 Cancri e  54.0  False   \n6003     6355_01      Earth     False  F/1213/S    55 Cancri e  21.0  False   \n3618     3894_01      Earth     False   F/735/S  PSO J318.5-22  18.0  False   \n\n     RoomService FoodCourt ShoppingMall    Spa VRDeck              Name  \\\n6407       399.0       0.0          3.0    0.0  137.0   Viviay Nieldson   \n6209      2081.0       1.0          0.0    0.0   25.0       Lakes Emead   \n3259       542.0       0.0       1231.0    0.0    1.0               NaN   \n3197       792.0       0.0          NaN    1.0   29.0     Marix Poperez   \n7406         0.0      80.0        106.0  344.0    0.0  Marynk Munozaley   \n7263         0.0     268.0        239.0  127.0    0.0    Vivia Ocherman   \n5855         3.0    4654.0          0.0  657.0  214.0     Saxino Duckil   \n3368         0.0       0.0          0.0    0.0    0.0    Hadlam Honatte   \n6003         0.0     641.0          0.0    0.0    0.0   Joanry Foledges   \n3618         0.0     525.0          0.0    0.0   84.0   Stald Vinozarks   \n\n     Transported  \n6407       False  \n6209       False  \n3259       False  \n3197        True  \n7406       False  \n7263        True  \n5855        True  \n3368        True  \n6003        True  \n3618        True  ",
      "text/html": "<div>\n<style scoped>\n    .dataframe tbody tr th:only-of-type {\n        vertical-align: middle;\n    }\n\n    .dataframe tbody tr th {\n        vertical-align: top;\n    }\n\n    .dataframe thead th {\n        text-align: right;\n    }\n</style>\n<table border=\"1\" class=\"dataframe\">\n  <thead>\n    <tr style=\"text-align: right;\">\n      <th></th>\n      <th>PassengerId</th>\n      <th>HomePlanet</th>\n      <th>CryoSleep</th>\n      <th>Cabin</th>\n      <th>Destination</th>\n      <th>Age</th>\n      <th>VIP</th>\n      <th>RoomService</th>\n      <th>FoodCourt</th>\n      <th>ShoppingMall</th>\n      <th>Spa</th>\n      <th>VRDeck</th>\n      <th>Name</th>\n      <th>Transported</th>\n    </tr>\n  </thead>\n  <tbody>\n    <tr>\n      <th>6407</th>\n      <td>6766_01</td>\n      <td>Earth</td>\n      <td>False</td>\n      <td>G/1098/P</td>\n      <td>PSO J318.5-22</td>\n      <td>16.0</td>\n      <td>False</td>\n      <td>399.0</td>\n      <td>0.0</td>\n      <td>3.0</td>\n      <td>0.0</td>\n      <td>137.0</td>\n      <td>Viviay Nieldson</td>\n      <td>False</td>\n    </tr>\n    <tr>\n      <th>6209</th>\n      <td>6565_01</td>\n      <td>Mars</td>\n      <td>False</td>\n      <td>E/437/S</td>\n      <td>TRAPPIST-1e</td>\n      <td>40.0</td>\n      <td>False</td>\n      <td>2081.0</td>\n      <td>1.0</td>\n      <td>0.0</td>\n      <td>0.0</td>\n      <td>25.0</td>\n      <td>Lakes Emead</td>\n      <td>False</td>\n    </tr>\n    <tr>\n      <th>3259</th>\n      <td>3496_02</td>\n      <td>Mars</td>\n      <td>False</td>\n      <td>F/722/P</td>\n      <td>TRAPPIST-1e</td>\n      <td>27.0</td>\n      <td>False</td>\n      <td>542.0</td>\n      <td>0.0</td>\n      <td>1231.0</td>\n      <td>0.0</td>\n      <td>1.0</td>\n      <td>NaN</td>\n      <td>False</td>\n    </tr>\n    <tr>\n      <th>3197</th>\n      <td>3443_01</td>\n      <td>Earth</td>\n      <td>False</td>\n      <td>F/648/S</td>\n      <td>TRAPPIST-1e</td>\n      <td>38.0</td>\n      <td>False</td>\n      <td>792.0</td>\n      <td>0.0</td>\n      <td>NaN</td>\n      <td>1.0</td>\n      <td>29.0</td>\n      <td>Marix Poperez</td>\n      <td>True</td>\n    </tr>\n    <tr>\n      <th>7406</th>\n      <td>7914_02</td>\n      <td>Earth</td>\n      <td>False</td>\n      <td>G/1278/P</td>\n      <td>TRAPPIST-1e</td>\n      <td>24.0</td>\n      <td>False</td>\n      <td>0.0</td>\n      <td>80.0</td>\n      <td>106.0</td>\n      <td>344.0</td>\n      <td>0.0</td>\n      <td>Marynk Munozaley</td>\n      <td>False</td>\n    </tr>\n    <tr>\n      <th>7263</th>\n      <td>7768_01</td>\n      <td>Earth</td>\n      <td>False</td>\n      <td>F/1484/S</td>\n      <td>TRAPPIST-1e</td>\n      <td>14.0</td>\n      <td>False</td>\n      <td>0.0</td>\n      <td>268.0</td>\n      <td>239.0</td>\n      <td>127.0</td>\n      <td>0.0</td>\n      <td>Vivia Ocherman</td>\n      <td>True</td>\n    </tr>\n    <tr>\n      <th>5855</th>\n      <td>6200_01</td>\n      <td>Europa</td>\n      <td>False</td>\n      <td>B/238/S</td>\n      <td>TRAPPIST-1e</td>\n      <td>27.0</td>\n      <td>False</td>\n      <td>3.0</td>\n      <td>4654.0</td>\n      <td>0.0</td>\n      <td>657.0</td>\n      <td>214.0</td>\n      <td>Saxino Duckil</td>\n      <td>True</td>\n    </tr>\n    <tr>\n      <th>3368</th>\n      <td>3622_01</td>\n      <td>Europa</td>\n      <td>True</td>\n      <td>C/119/P</td>\n      <td>55 Cancri e</td>\n      <td>54.0</td>\n      <td>False</td>\n      <td>0.0</td>\n      <td>0.0</td>\n      <td>0.0</td>\n      <td>0.0</td>\n      <td>0.0</td>\n      <td>Hadlam Honatte</td>\n      <td>True</td>\n    </tr>\n    <tr>\n      <th>6003</th>\n      <td>6355_01</td>\n      <td>Earth</td>\n      <td>False</td>\n      <td>F/1213/S</td>\n      <td>55 Cancri e</td>\n      <td>21.0</td>\n      <td>False</td>\n      <td>0.0</td>\n      <td>641.0</td>\n      <td>0.0</td>\n      <td>0.0</td>\n      <td>0.0</td>\n      <td>Joanry Foledges</td>\n      <td>True</td>\n    </tr>\n    <tr>\n      <th>3618</th>\n      <td>3894_01</td>\n      <td>Earth</td>\n      <td>False</td>\n      <td>F/735/S</td>\n      <td>PSO J318.5-22</td>\n      <td>18.0</td>\n      <td>False</td>\n      <td>0.0</td>\n      <td>525.0</td>\n      <td>0.0</td>\n      <td>0.0</td>\n      <td>84.0</td>\n      <td>Stald Vinozarks</td>\n      <td>True</td>\n    </tr>\n  </tbody>\n</table>\n</div>"
     },
     "execution_count": 7,
     "metadata": {},
     "output_type": "execute_result"
    }
   ],
   "source": [
    "# Random 10 raws as a new dataset\n",
    "random_df = df.sample(10)\n",
    "random_df"
   ],
   "metadata": {
    "collapsed": false,
    "ExecuteTime": {
     "end_time": "2023-05-24T15:03:06.583362687Z",
     "start_time": "2023-05-24T15:03:06.484949028Z"
    }
   }
  },
  {
   "cell_type": "code",
   "execution_count": 8,
   "outputs": [
    {
     "name": "stdout",
     "output_type": "stream",
     "text": [
      "<class 'pandas.core.frame.DataFrame'>\n",
      "RangeIndex: 8693 entries, 0 to 8692\n",
      "Data columns (total 14 columns):\n",
      " #   Column        Non-Null Count  Dtype \n",
      "---  ------        --------------  ----- \n",
      " 0   PassengerId   8693 non-null   object\n",
      " 1   HomePlanet    8492 non-null   object\n",
      " 2   CryoSleep     8476 non-null   object\n",
      " 3   Cabin         8494 non-null   object\n",
      " 4   Destination   8511 non-null   object\n",
      " 5   Age           8514 non-null   object\n",
      " 6   VIP           8490 non-null   object\n",
      " 7   RoomService   8512 non-null   object\n",
      " 8   FoodCourt     8510 non-null   object\n",
      " 9   ShoppingMall  8485 non-null   object\n",
      " 10  Spa           8510 non-null   object\n",
      " 11  VRDeck        8505 non-null   object\n",
      " 12  Name          8493 non-null   object\n",
      " 13  Transported   8693 non-null   object\n",
      "dtypes: object(14)\n",
      "memory usage: 950.9+ KB\n"
     ]
    }
   ],
   "source": [
    "df.info()"
   ],
   "metadata": {
    "collapsed": false,
    "ExecuteTime": {
     "end_time": "2023-05-24T15:03:07.907795183Z",
     "start_time": "2023-05-24T15:03:07.766306362Z"
    }
   }
  },
  {
   "cell_type": "markdown",
   "source": [
    "<b>Columns formatting</b>"
   ],
   "metadata": {
    "collapsed": false
   }
  },
  {
   "cell_type": "code",
   "execution_count": 9,
   "outputs": [],
   "source": [
    "#First column is PassengerId\n",
    "# From kaggle: gggg_pp where gggg = group the passenger is travelling with; pp = their number within the group.\n",
    "# So, if gggg is the same = group is True, pp is number of the group\n",
    "# It can show how group attribute can influence on survival, so it is better to separate this column\n",
    "# and make gggg = 1 if group is True, 0 if False\n",
    "\n",
    "df[['Company', 'Number']] = df['PassengerId'].str.split('_', expand=True)"
   ],
   "metadata": {
    "collapsed": false,
    "ExecuteTime": {
     "end_time": "2023-05-24T15:03:10.533932511Z",
     "start_time": "2023-05-24T15:03:10.417462289Z"
    }
   }
  },
  {
   "cell_type": "code",
   "execution_count": 10,
   "outputs": [],
   "source": [
    "# Format to int\n",
    "df[\"Company\"] = df[\"Company\"].astype('int64')\n",
    "df[\"Number\"] = df[\"Number\"].astype('int64')"
   ],
   "metadata": {
    "collapsed": false,
    "ExecuteTime": {
     "end_time": "2023-05-24T15:03:11.701643287Z",
     "start_time": "2023-05-24T15:03:11.569237479Z"
    }
   }
  },
  {
   "cell_type": "code",
   "execution_count": 11,
   "outputs": [
    {
     "data": {
      "text/plain": "     PassengerId HomePlanet CryoSleep     Cabin    Destination   Age    VIP  \\\n0        0001_01     Europa     False     B/0/P    TRAPPIST-1e  39.0  False   \n1        0002_01      Earth     False     F/0/S    TRAPPIST-1e  24.0  False   \n2        0003_01     Europa     False     A/0/S    TRAPPIST-1e  58.0   True   \n3        0003_02     Europa     False     A/0/S    TRAPPIST-1e  33.0  False   \n4        0004_01      Earth     False     F/1/S    TRAPPIST-1e  16.0  False   \n...          ...        ...       ...       ...            ...   ...    ...   \n8688     9276_01     Europa     False    A/98/P    55 Cancri e  41.0   True   \n8689     9278_01      Earth      True  G/1499/S  PSO J318.5-22  18.0  False   \n8690     9279_01      Earth     False  G/1500/S    TRAPPIST-1e  26.0  False   \n8691     9280_01     Europa     False   E/608/S    55 Cancri e  32.0  False   \n8692     9280_02     Europa     False   E/608/S    TRAPPIST-1e  44.0  False   \n\n     RoomService FoodCourt ShoppingMall     Spa  VRDeck               Name  \\\n0            0.0       0.0          0.0     0.0     0.0    Maham Ofracculy   \n1          109.0       9.0         25.0   549.0    44.0       Juanna Vines   \n2           43.0    3576.0          0.0  6715.0    49.0      Altark Susent   \n3            0.0    1283.0        371.0  3329.0   193.0       Solam Susent   \n4          303.0      70.0        151.0   565.0     2.0  Willy Santantines   \n...          ...       ...          ...     ...     ...                ...   \n8688         0.0    6819.0          0.0  1643.0    74.0  Gravior Noxnuther   \n8689         0.0       0.0          0.0     0.0     0.0    Kurta Mondalley   \n8690         0.0       0.0       1872.0     1.0     0.0       Fayey Connon   \n8691         0.0    1049.0          0.0   353.0  3235.0   Celeon Hontichre   \n8692       126.0    4688.0          0.0     0.0    12.0   Propsh Hontichre   \n\n     Transported  Company  Number  \n0          False        1       1  \n1           True        2       1  \n2          False        3       1  \n3          False        3       2  \n4           True        4       1  \n...          ...      ...     ...  \n8688       False     9276       1  \n8689       False     9278       1  \n8690        True     9279       1  \n8691       False     9280       1  \n8692        True     9280       2  \n\n[8693 rows x 16 columns]",
      "text/html": "<div>\n<style scoped>\n    .dataframe tbody tr th:only-of-type {\n        vertical-align: middle;\n    }\n\n    .dataframe tbody tr th {\n        vertical-align: top;\n    }\n\n    .dataframe thead th {\n        text-align: right;\n    }\n</style>\n<table border=\"1\" class=\"dataframe\">\n  <thead>\n    <tr style=\"text-align: right;\">\n      <th></th>\n      <th>PassengerId</th>\n      <th>HomePlanet</th>\n      <th>CryoSleep</th>\n      <th>Cabin</th>\n      <th>Destination</th>\n      <th>Age</th>\n      <th>VIP</th>\n      <th>RoomService</th>\n      <th>FoodCourt</th>\n      <th>ShoppingMall</th>\n      <th>Spa</th>\n      <th>VRDeck</th>\n      <th>Name</th>\n      <th>Transported</th>\n      <th>Company</th>\n      <th>Number</th>\n    </tr>\n  </thead>\n  <tbody>\n    <tr>\n      <th>0</th>\n      <td>0001_01</td>\n      <td>Europa</td>\n      <td>False</td>\n      <td>B/0/P</td>\n      <td>TRAPPIST-1e</td>\n      <td>39.0</td>\n      <td>False</td>\n      <td>0.0</td>\n      <td>0.0</td>\n      <td>0.0</td>\n      <td>0.0</td>\n      <td>0.0</td>\n      <td>Maham Ofracculy</td>\n      <td>False</td>\n      <td>1</td>\n      <td>1</td>\n    </tr>\n    <tr>\n      <th>1</th>\n      <td>0002_01</td>\n      <td>Earth</td>\n      <td>False</td>\n      <td>F/0/S</td>\n      <td>TRAPPIST-1e</td>\n      <td>24.0</td>\n      <td>False</td>\n      <td>109.0</td>\n      <td>9.0</td>\n      <td>25.0</td>\n      <td>549.0</td>\n      <td>44.0</td>\n      <td>Juanna Vines</td>\n      <td>True</td>\n      <td>2</td>\n      <td>1</td>\n    </tr>\n    <tr>\n      <th>2</th>\n      <td>0003_01</td>\n      <td>Europa</td>\n      <td>False</td>\n      <td>A/0/S</td>\n      <td>TRAPPIST-1e</td>\n      <td>58.0</td>\n      <td>True</td>\n      <td>43.0</td>\n      <td>3576.0</td>\n      <td>0.0</td>\n      <td>6715.0</td>\n      <td>49.0</td>\n      <td>Altark Susent</td>\n      <td>False</td>\n      <td>3</td>\n      <td>1</td>\n    </tr>\n    <tr>\n      <th>3</th>\n      <td>0003_02</td>\n      <td>Europa</td>\n      <td>False</td>\n      <td>A/0/S</td>\n      <td>TRAPPIST-1e</td>\n      <td>33.0</td>\n      <td>False</td>\n      <td>0.0</td>\n      <td>1283.0</td>\n      <td>371.0</td>\n      <td>3329.0</td>\n      <td>193.0</td>\n      <td>Solam Susent</td>\n      <td>False</td>\n      <td>3</td>\n      <td>2</td>\n    </tr>\n    <tr>\n      <th>4</th>\n      <td>0004_01</td>\n      <td>Earth</td>\n      <td>False</td>\n      <td>F/1/S</td>\n      <td>TRAPPIST-1e</td>\n      <td>16.0</td>\n      <td>False</td>\n      <td>303.0</td>\n      <td>70.0</td>\n      <td>151.0</td>\n      <td>565.0</td>\n      <td>2.0</td>\n      <td>Willy Santantines</td>\n      <td>True</td>\n      <td>4</td>\n      <td>1</td>\n    </tr>\n    <tr>\n      <th>...</th>\n      <td>...</td>\n      <td>...</td>\n      <td>...</td>\n      <td>...</td>\n      <td>...</td>\n      <td>...</td>\n      <td>...</td>\n      <td>...</td>\n      <td>...</td>\n      <td>...</td>\n      <td>...</td>\n      <td>...</td>\n      <td>...</td>\n      <td>...</td>\n      <td>...</td>\n      <td>...</td>\n    </tr>\n    <tr>\n      <th>8688</th>\n      <td>9276_01</td>\n      <td>Europa</td>\n      <td>False</td>\n      <td>A/98/P</td>\n      <td>55 Cancri e</td>\n      <td>41.0</td>\n      <td>True</td>\n      <td>0.0</td>\n      <td>6819.0</td>\n      <td>0.0</td>\n      <td>1643.0</td>\n      <td>74.0</td>\n      <td>Gravior Noxnuther</td>\n      <td>False</td>\n      <td>9276</td>\n      <td>1</td>\n    </tr>\n    <tr>\n      <th>8689</th>\n      <td>9278_01</td>\n      <td>Earth</td>\n      <td>True</td>\n      <td>G/1499/S</td>\n      <td>PSO J318.5-22</td>\n      <td>18.0</td>\n      <td>False</td>\n      <td>0.0</td>\n      <td>0.0</td>\n      <td>0.0</td>\n      <td>0.0</td>\n      <td>0.0</td>\n      <td>Kurta Mondalley</td>\n      <td>False</td>\n      <td>9278</td>\n      <td>1</td>\n    </tr>\n    <tr>\n      <th>8690</th>\n      <td>9279_01</td>\n      <td>Earth</td>\n      <td>False</td>\n      <td>G/1500/S</td>\n      <td>TRAPPIST-1e</td>\n      <td>26.0</td>\n      <td>False</td>\n      <td>0.0</td>\n      <td>0.0</td>\n      <td>1872.0</td>\n      <td>1.0</td>\n      <td>0.0</td>\n      <td>Fayey Connon</td>\n      <td>True</td>\n      <td>9279</td>\n      <td>1</td>\n    </tr>\n    <tr>\n      <th>8691</th>\n      <td>9280_01</td>\n      <td>Europa</td>\n      <td>False</td>\n      <td>E/608/S</td>\n      <td>55 Cancri e</td>\n      <td>32.0</td>\n      <td>False</td>\n      <td>0.0</td>\n      <td>1049.0</td>\n      <td>0.0</td>\n      <td>353.0</td>\n      <td>3235.0</td>\n      <td>Celeon Hontichre</td>\n      <td>False</td>\n      <td>9280</td>\n      <td>1</td>\n    </tr>\n    <tr>\n      <th>8692</th>\n      <td>9280_02</td>\n      <td>Europa</td>\n      <td>False</td>\n      <td>E/608/S</td>\n      <td>TRAPPIST-1e</td>\n      <td>44.0</td>\n      <td>False</td>\n      <td>126.0</td>\n      <td>4688.0</td>\n      <td>0.0</td>\n      <td>0.0</td>\n      <td>12.0</td>\n      <td>Propsh Hontichre</td>\n      <td>True</td>\n      <td>9280</td>\n      <td>2</td>\n    </tr>\n  </tbody>\n</table>\n<p>8693 rows × 16 columns</p>\n</div>"
     },
     "execution_count": 11,
     "metadata": {},
     "output_type": "execute_result"
    }
   ],
   "source": [
    "df"
   ],
   "metadata": {
    "collapsed": false,
    "ExecuteTime": {
     "end_time": "2023-05-24T15:03:13.322914448Z",
     "start_time": "2023-05-24T15:03:13.191469150Z"
    }
   }
  },
  {
   "cell_type": "code",
   "execution_count": 12,
   "outputs": [
    {
     "data": {
      "text/plain": "     HomePlanet CryoSleep     Cabin    Destination   Age    VIP RoomService  \\\n0        Europa     False     B/0/P    TRAPPIST-1e  39.0  False         0.0   \n1         Earth     False     F/0/S    TRAPPIST-1e  24.0  False       109.0   \n2        Europa     False     A/0/S    TRAPPIST-1e  58.0   True        43.0   \n3        Europa     False     A/0/S    TRAPPIST-1e  33.0  False         0.0   \n4         Earth     False     F/1/S    TRAPPIST-1e  16.0  False       303.0   \n...         ...       ...       ...            ...   ...    ...         ...   \n8688     Europa     False    A/98/P    55 Cancri e  41.0   True         0.0   \n8689      Earth      True  G/1499/S  PSO J318.5-22  18.0  False         0.0   \n8690      Earth     False  G/1500/S    TRAPPIST-1e  26.0  False         0.0   \n8691     Europa     False   E/608/S    55 Cancri e  32.0  False         0.0   \n8692     Europa     False   E/608/S    TRAPPIST-1e  44.0  False       126.0   \n\n     FoodCourt ShoppingMall     Spa  VRDeck               Name Transported  \\\n0          0.0          0.0     0.0     0.0    Maham Ofracculy       False   \n1          9.0         25.0   549.0    44.0       Juanna Vines        True   \n2       3576.0          0.0  6715.0    49.0      Altark Susent       False   \n3       1283.0        371.0  3329.0   193.0       Solam Susent       False   \n4         70.0        151.0   565.0     2.0  Willy Santantines        True   \n...        ...          ...     ...     ...                ...         ...   \n8688    6819.0          0.0  1643.0    74.0  Gravior Noxnuther       False   \n8689       0.0          0.0     0.0     0.0    Kurta Mondalley       False   \n8690       0.0       1872.0     1.0     0.0       Fayey Connon        True   \n8691    1049.0          0.0   353.0  3235.0   Celeon Hontichre       False   \n8692    4688.0          0.0     0.0    12.0   Propsh Hontichre        True   \n\n      Company  Number  \n0           1       1  \n1           2       1  \n2           3       1  \n3           3       2  \n4           4       1  \n...       ...     ...  \n8688     9276       1  \n8689     9278       1  \n8690     9279       1  \n8691     9280       1  \n8692     9280       2  \n\n[8693 rows x 15 columns]",
      "text/html": "<div>\n<style scoped>\n    .dataframe tbody tr th:only-of-type {\n        vertical-align: middle;\n    }\n\n    .dataframe tbody tr th {\n        vertical-align: top;\n    }\n\n    .dataframe thead th {\n        text-align: right;\n    }\n</style>\n<table border=\"1\" class=\"dataframe\">\n  <thead>\n    <tr style=\"text-align: right;\">\n      <th></th>\n      <th>HomePlanet</th>\n      <th>CryoSleep</th>\n      <th>Cabin</th>\n      <th>Destination</th>\n      <th>Age</th>\n      <th>VIP</th>\n      <th>RoomService</th>\n      <th>FoodCourt</th>\n      <th>ShoppingMall</th>\n      <th>Spa</th>\n      <th>VRDeck</th>\n      <th>Name</th>\n      <th>Transported</th>\n      <th>Company</th>\n      <th>Number</th>\n    </tr>\n  </thead>\n  <tbody>\n    <tr>\n      <th>0</th>\n      <td>Europa</td>\n      <td>False</td>\n      <td>B/0/P</td>\n      <td>TRAPPIST-1e</td>\n      <td>39.0</td>\n      <td>False</td>\n      <td>0.0</td>\n      <td>0.0</td>\n      <td>0.0</td>\n      <td>0.0</td>\n      <td>0.0</td>\n      <td>Maham Ofracculy</td>\n      <td>False</td>\n      <td>1</td>\n      <td>1</td>\n    </tr>\n    <tr>\n      <th>1</th>\n      <td>Earth</td>\n      <td>False</td>\n      <td>F/0/S</td>\n      <td>TRAPPIST-1e</td>\n      <td>24.0</td>\n      <td>False</td>\n      <td>109.0</td>\n      <td>9.0</td>\n      <td>25.0</td>\n      <td>549.0</td>\n      <td>44.0</td>\n      <td>Juanna Vines</td>\n      <td>True</td>\n      <td>2</td>\n      <td>1</td>\n    </tr>\n    <tr>\n      <th>2</th>\n      <td>Europa</td>\n      <td>False</td>\n      <td>A/0/S</td>\n      <td>TRAPPIST-1e</td>\n      <td>58.0</td>\n      <td>True</td>\n      <td>43.0</td>\n      <td>3576.0</td>\n      <td>0.0</td>\n      <td>6715.0</td>\n      <td>49.0</td>\n      <td>Altark Susent</td>\n      <td>False</td>\n      <td>3</td>\n      <td>1</td>\n    </tr>\n    <tr>\n      <th>3</th>\n      <td>Europa</td>\n      <td>False</td>\n      <td>A/0/S</td>\n      <td>TRAPPIST-1e</td>\n      <td>33.0</td>\n      <td>False</td>\n      <td>0.0</td>\n      <td>1283.0</td>\n      <td>371.0</td>\n      <td>3329.0</td>\n      <td>193.0</td>\n      <td>Solam Susent</td>\n      <td>False</td>\n      <td>3</td>\n      <td>2</td>\n    </tr>\n    <tr>\n      <th>4</th>\n      <td>Earth</td>\n      <td>False</td>\n      <td>F/1/S</td>\n      <td>TRAPPIST-1e</td>\n      <td>16.0</td>\n      <td>False</td>\n      <td>303.0</td>\n      <td>70.0</td>\n      <td>151.0</td>\n      <td>565.0</td>\n      <td>2.0</td>\n      <td>Willy Santantines</td>\n      <td>True</td>\n      <td>4</td>\n      <td>1</td>\n    </tr>\n    <tr>\n      <th>...</th>\n      <td>...</td>\n      <td>...</td>\n      <td>...</td>\n      <td>...</td>\n      <td>...</td>\n      <td>...</td>\n      <td>...</td>\n      <td>...</td>\n      <td>...</td>\n      <td>...</td>\n      <td>...</td>\n      <td>...</td>\n      <td>...</td>\n      <td>...</td>\n      <td>...</td>\n    </tr>\n    <tr>\n      <th>8688</th>\n      <td>Europa</td>\n      <td>False</td>\n      <td>A/98/P</td>\n      <td>55 Cancri e</td>\n      <td>41.0</td>\n      <td>True</td>\n      <td>0.0</td>\n      <td>6819.0</td>\n      <td>0.0</td>\n      <td>1643.0</td>\n      <td>74.0</td>\n      <td>Gravior Noxnuther</td>\n      <td>False</td>\n      <td>9276</td>\n      <td>1</td>\n    </tr>\n    <tr>\n      <th>8689</th>\n      <td>Earth</td>\n      <td>True</td>\n      <td>G/1499/S</td>\n      <td>PSO J318.5-22</td>\n      <td>18.0</td>\n      <td>False</td>\n      <td>0.0</td>\n      <td>0.0</td>\n      <td>0.0</td>\n      <td>0.0</td>\n      <td>0.0</td>\n      <td>Kurta Mondalley</td>\n      <td>False</td>\n      <td>9278</td>\n      <td>1</td>\n    </tr>\n    <tr>\n      <th>8690</th>\n      <td>Earth</td>\n      <td>False</td>\n      <td>G/1500/S</td>\n      <td>TRAPPIST-1e</td>\n      <td>26.0</td>\n      <td>False</td>\n      <td>0.0</td>\n      <td>0.0</td>\n      <td>1872.0</td>\n      <td>1.0</td>\n      <td>0.0</td>\n      <td>Fayey Connon</td>\n      <td>True</td>\n      <td>9279</td>\n      <td>1</td>\n    </tr>\n    <tr>\n      <th>8691</th>\n      <td>Europa</td>\n      <td>False</td>\n      <td>E/608/S</td>\n      <td>55 Cancri e</td>\n      <td>32.0</td>\n      <td>False</td>\n      <td>0.0</td>\n      <td>1049.0</td>\n      <td>0.0</td>\n      <td>353.0</td>\n      <td>3235.0</td>\n      <td>Celeon Hontichre</td>\n      <td>False</td>\n      <td>9280</td>\n      <td>1</td>\n    </tr>\n    <tr>\n      <th>8692</th>\n      <td>Europa</td>\n      <td>False</td>\n      <td>E/608/S</td>\n      <td>TRAPPIST-1e</td>\n      <td>44.0</td>\n      <td>False</td>\n      <td>126.0</td>\n      <td>4688.0</td>\n      <td>0.0</td>\n      <td>0.0</td>\n      <td>12.0</td>\n      <td>Propsh Hontichre</td>\n      <td>True</td>\n      <td>9280</td>\n      <td>2</td>\n    </tr>\n  </tbody>\n</table>\n<p>8693 rows × 15 columns</p>\n</div>"
     },
     "execution_count": 12,
     "metadata": {},
     "output_type": "execute_result"
    }
   ],
   "source": [
    "# 2 new columns were added to the right of the table\n",
    "# PassengerId column is not necessary anymore, so we can delete it\n",
    "df.drop(\"PassengerId\", axis=1, inplace=True)\n",
    "df"
   ],
   "metadata": {
    "collapsed": false,
    "ExecuteTime": {
     "end_time": "2023-05-24T15:03:14.747027540Z",
     "start_time": "2023-05-24T15:03:14.628477154Z"
    }
   }
  },
  {
   "cell_type": "code",
   "execution_count": 13,
   "outputs": [
    {
     "name": "stdout",
     "output_type": "stream",
     "text": [
      "<class 'pandas.core.series.Series'>\n",
      "RangeIndex: 8693 entries, 0 to 8692\n",
      "Series name: Company\n",
      "Non-Null Count  Dtype\n",
      "--------------  -----\n",
      "8693 non-null   int64\n",
      "dtypes: int64(1)\n",
      "memory usage: 68.0 KB\n"
     ]
    }
   ],
   "source": [
    "df.Company.info()\n",
    "# None of the fields is Null = ok"
   ],
   "metadata": {
    "collapsed": false,
    "ExecuteTime": {
     "end_time": "2023-05-24T15:03:15.897266370Z",
     "start_time": "2023-05-24T15:03:15.844343273Z"
    }
   }
  },
  {
   "cell_type": "code",
   "execution_count": 14,
   "outputs": [
    {
     "name": "stdout",
     "output_type": "stream",
     "text": [
      "<class 'pandas.core.series.Series'>\n",
      "RangeIndex: 8693 entries, 0 to 8692\n",
      "Series name: Number\n",
      "Non-Null Count  Dtype\n",
      "--------------  -----\n",
      "8693 non-null   int64\n",
      "dtypes: int64(1)\n",
      "memory usage: 68.0 KB\n"
     ]
    }
   ],
   "source": [
    "df.Number.info()\n",
    "# None of the fields is Null = ok"
   ],
   "metadata": {
    "collapsed": false,
    "ExecuteTime": {
     "end_time": "2023-05-24T15:03:16.851136224Z",
     "start_time": "2023-05-24T15:03:16.764948485Z"
    }
   }
  },
  {
   "cell_type": "code",
   "execution_count": 15,
   "outputs": [
    {
     "name": "stderr",
     "output_type": "stream",
     "text": [
      "/tmp/ipykernel_6533/3702867390.py:6: SettingWithCopyWarning: \n",
      "A value is trying to be set on a copy of a slice from a DataFrame\n",
      "\n",
      "See the caveats in the documentation: https://pandas.pydata.org/pandas-docs/stable/user_guide/indexing.html#returning-a-view-versus-a-copy\n",
      "  df[\"Number\"][i-j] = df[\"Number\"][i]\n",
      "/tmp/ipykernel_6533/3702867390.py:7: SettingWithCopyWarning: \n",
      "A value is trying to be set on a copy of a slice from a DataFrame\n",
      "\n",
      "See the caveats in the documentation: https://pandas.pydata.org/pandas-docs/stable/user_guide/indexing.html#returning-a-view-versus-a-copy\n",
      "  df[\"Company\"][i-j] = 1\n",
      "/tmp/ipykernel_6533/3702867390.py:10: SettingWithCopyWarning: \n",
      "A value is trying to be set on a copy of a slice from a DataFrame\n",
      "\n",
      "See the caveats in the documentation: https://pandas.pydata.org/pandas-docs/stable/user_guide/indexing.html#returning-a-view-versus-a-copy\n",
      "  df[\"Number\"][i] -= 1\n",
      "/tmp/ipykernel_6533/3702867390.py:12: SettingWithCopyWarning: \n",
      "A value is trying to be set on a copy of a slice from a DataFrame\n",
      "\n",
      "See the caveats in the documentation: https://pandas.pydata.org/pandas-docs/stable/user_guide/indexing.html#returning-a-view-versus-a-copy\n",
      "  df[\"Company\"][i] = 0\n"
     ]
    }
   ],
   "source": [
    "# Simple algorythm to make Company fields = 0 if travelling alone, 1 if with group\n",
    "# Column Number will show how many other passengers are in the group\n",
    "for i in range(len(df.Number)):\n",
    "    if df[\"Number\"][i] != 1:\n",
    "        for j in range(df[\"Number\"][i]):\n",
    "            df[\"Number\"][i-j] = df[\"Number\"][i]\n",
    "            df[\"Company\"][i-j] = 1\n",
    "\n",
    "for i in range(len(df.Number)):\n",
    "    df[\"Number\"][i] -= 1\n",
    "    if df[\"Number\"][i] == 0:\n",
    "        df[\"Company\"][i] = 0"
   ],
   "metadata": {
    "collapsed": false,
    "ExecuteTime": {
     "end_time": "2023-05-24T15:03:30.637965623Z",
     "start_time": "2023-05-24T15:03:17.543470135Z"
    }
   }
  },
  {
   "cell_type": "code",
   "execution_count": 16,
   "outputs": [
    {
     "data": {
      "text/plain": "     HomePlanet CryoSleep     Cabin    Destination   Age    VIP RoomService  \\\n0        Europa     False     B/0/P    TRAPPIST-1e  39.0  False         0.0   \n1         Earth     False     F/0/S    TRAPPIST-1e  24.0  False       109.0   \n2        Europa     False     A/0/S    TRAPPIST-1e  58.0   True        43.0   \n3        Europa     False     A/0/S    TRAPPIST-1e  33.0  False         0.0   \n4         Earth     False     F/1/S    TRAPPIST-1e  16.0  False       303.0   \n...         ...       ...       ...            ...   ...    ...         ...   \n8688     Europa     False    A/98/P    55 Cancri e  41.0   True         0.0   \n8689      Earth      True  G/1499/S  PSO J318.5-22  18.0  False         0.0   \n8690      Earth     False  G/1500/S    TRAPPIST-1e  26.0  False         0.0   \n8691     Europa     False   E/608/S    55 Cancri e  32.0  False         0.0   \n8692     Europa     False   E/608/S    TRAPPIST-1e  44.0  False       126.0   \n\n     FoodCourt ShoppingMall     Spa  VRDeck               Name Transported  \\\n0          0.0          0.0     0.0     0.0    Maham Ofracculy       False   \n1          9.0         25.0   549.0    44.0       Juanna Vines        True   \n2       3576.0          0.0  6715.0    49.0      Altark Susent       False   \n3       1283.0        371.0  3329.0   193.0       Solam Susent       False   \n4         70.0        151.0   565.0     2.0  Willy Santantines        True   \n...        ...          ...     ...     ...                ...         ...   \n8688    6819.0          0.0  1643.0    74.0  Gravior Noxnuther       False   \n8689       0.0          0.0     0.0     0.0    Kurta Mondalley       False   \n8690       0.0       1872.0     1.0     0.0       Fayey Connon        True   \n8691    1049.0          0.0   353.0  3235.0   Celeon Hontichre       False   \n8692    4688.0          0.0     0.0    12.0   Propsh Hontichre        True   \n\n      Company  Number  \n0           0       0  \n1           0       0  \n2           1       1  \n3           1       1  \n4           0       0  \n...       ...     ...  \n8688        0       0  \n8689        0       0  \n8690        0       0  \n8691        1       1  \n8692        1       1  \n\n[8693 rows x 15 columns]",
      "text/html": "<div>\n<style scoped>\n    .dataframe tbody tr th:only-of-type {\n        vertical-align: middle;\n    }\n\n    .dataframe tbody tr th {\n        vertical-align: top;\n    }\n\n    .dataframe thead th {\n        text-align: right;\n    }\n</style>\n<table border=\"1\" class=\"dataframe\">\n  <thead>\n    <tr style=\"text-align: right;\">\n      <th></th>\n      <th>HomePlanet</th>\n      <th>CryoSleep</th>\n      <th>Cabin</th>\n      <th>Destination</th>\n      <th>Age</th>\n      <th>VIP</th>\n      <th>RoomService</th>\n      <th>FoodCourt</th>\n      <th>ShoppingMall</th>\n      <th>Spa</th>\n      <th>VRDeck</th>\n      <th>Name</th>\n      <th>Transported</th>\n      <th>Company</th>\n      <th>Number</th>\n    </tr>\n  </thead>\n  <tbody>\n    <tr>\n      <th>0</th>\n      <td>Europa</td>\n      <td>False</td>\n      <td>B/0/P</td>\n      <td>TRAPPIST-1e</td>\n      <td>39.0</td>\n      <td>False</td>\n      <td>0.0</td>\n      <td>0.0</td>\n      <td>0.0</td>\n      <td>0.0</td>\n      <td>0.0</td>\n      <td>Maham Ofracculy</td>\n      <td>False</td>\n      <td>0</td>\n      <td>0</td>\n    </tr>\n    <tr>\n      <th>1</th>\n      <td>Earth</td>\n      <td>False</td>\n      <td>F/0/S</td>\n      <td>TRAPPIST-1e</td>\n      <td>24.0</td>\n      <td>False</td>\n      <td>109.0</td>\n      <td>9.0</td>\n      <td>25.0</td>\n      <td>549.0</td>\n      <td>44.0</td>\n      <td>Juanna Vines</td>\n      <td>True</td>\n      <td>0</td>\n      <td>0</td>\n    </tr>\n    <tr>\n      <th>2</th>\n      <td>Europa</td>\n      <td>False</td>\n      <td>A/0/S</td>\n      <td>TRAPPIST-1e</td>\n      <td>58.0</td>\n      <td>True</td>\n      <td>43.0</td>\n      <td>3576.0</td>\n      <td>0.0</td>\n      <td>6715.0</td>\n      <td>49.0</td>\n      <td>Altark Susent</td>\n      <td>False</td>\n      <td>1</td>\n      <td>1</td>\n    </tr>\n    <tr>\n      <th>3</th>\n      <td>Europa</td>\n      <td>False</td>\n      <td>A/0/S</td>\n      <td>TRAPPIST-1e</td>\n      <td>33.0</td>\n      <td>False</td>\n      <td>0.0</td>\n      <td>1283.0</td>\n      <td>371.0</td>\n      <td>3329.0</td>\n      <td>193.0</td>\n      <td>Solam Susent</td>\n      <td>False</td>\n      <td>1</td>\n      <td>1</td>\n    </tr>\n    <tr>\n      <th>4</th>\n      <td>Earth</td>\n      <td>False</td>\n      <td>F/1/S</td>\n      <td>TRAPPIST-1e</td>\n      <td>16.0</td>\n      <td>False</td>\n      <td>303.0</td>\n      <td>70.0</td>\n      <td>151.0</td>\n      <td>565.0</td>\n      <td>2.0</td>\n      <td>Willy Santantines</td>\n      <td>True</td>\n      <td>0</td>\n      <td>0</td>\n    </tr>\n    <tr>\n      <th>...</th>\n      <td>...</td>\n      <td>...</td>\n      <td>...</td>\n      <td>...</td>\n      <td>...</td>\n      <td>...</td>\n      <td>...</td>\n      <td>...</td>\n      <td>...</td>\n      <td>...</td>\n      <td>...</td>\n      <td>...</td>\n      <td>...</td>\n      <td>...</td>\n      <td>...</td>\n    </tr>\n    <tr>\n      <th>8688</th>\n      <td>Europa</td>\n      <td>False</td>\n      <td>A/98/P</td>\n      <td>55 Cancri e</td>\n      <td>41.0</td>\n      <td>True</td>\n      <td>0.0</td>\n      <td>6819.0</td>\n      <td>0.0</td>\n      <td>1643.0</td>\n      <td>74.0</td>\n      <td>Gravior Noxnuther</td>\n      <td>False</td>\n      <td>0</td>\n      <td>0</td>\n    </tr>\n    <tr>\n      <th>8689</th>\n      <td>Earth</td>\n      <td>True</td>\n      <td>G/1499/S</td>\n      <td>PSO J318.5-22</td>\n      <td>18.0</td>\n      <td>False</td>\n      <td>0.0</td>\n      <td>0.0</td>\n      <td>0.0</td>\n      <td>0.0</td>\n      <td>0.0</td>\n      <td>Kurta Mondalley</td>\n      <td>False</td>\n      <td>0</td>\n      <td>0</td>\n    </tr>\n    <tr>\n      <th>8690</th>\n      <td>Earth</td>\n      <td>False</td>\n      <td>G/1500/S</td>\n      <td>TRAPPIST-1e</td>\n      <td>26.0</td>\n      <td>False</td>\n      <td>0.0</td>\n      <td>0.0</td>\n      <td>1872.0</td>\n      <td>1.0</td>\n      <td>0.0</td>\n      <td>Fayey Connon</td>\n      <td>True</td>\n      <td>0</td>\n      <td>0</td>\n    </tr>\n    <tr>\n      <th>8691</th>\n      <td>Europa</td>\n      <td>False</td>\n      <td>E/608/S</td>\n      <td>55 Cancri e</td>\n      <td>32.0</td>\n      <td>False</td>\n      <td>0.0</td>\n      <td>1049.0</td>\n      <td>0.0</td>\n      <td>353.0</td>\n      <td>3235.0</td>\n      <td>Celeon Hontichre</td>\n      <td>False</td>\n      <td>1</td>\n      <td>1</td>\n    </tr>\n    <tr>\n      <th>8692</th>\n      <td>Europa</td>\n      <td>False</td>\n      <td>E/608/S</td>\n      <td>TRAPPIST-1e</td>\n      <td>44.0</td>\n      <td>False</td>\n      <td>126.0</td>\n      <td>4688.0</td>\n      <td>0.0</td>\n      <td>0.0</td>\n      <td>12.0</td>\n      <td>Propsh Hontichre</td>\n      <td>True</td>\n      <td>1</td>\n      <td>1</td>\n    </tr>\n  </tbody>\n</table>\n<p>8693 rows × 15 columns</p>\n</div>"
     },
     "execution_count": 16,
     "metadata": {},
     "output_type": "execute_result"
    }
   ],
   "source": [
    "df\n",
    "#check if everything ok"
   ],
   "metadata": {
    "collapsed": false,
    "ExecuteTime": {
     "end_time": "2023-05-24T15:03:30.685041314Z",
     "start_time": "2023-05-24T15:03:30.636586860Z"
    }
   }
  },
  {
   "cell_type": "code",
   "execution_count": 17,
   "outputs": [
    {
     "name": "stdout",
     "output_type": "stream",
     "text": [
      "<class 'pandas.core.series.Series'>\n",
      "RangeIndex: 8693 entries, 0 to 8692\n",
      "Series name: HomePlanet\n",
      "Non-Null Count  Dtype \n",
      "--------------  ----- \n",
      "8492 non-null   object\n",
      "dtypes: object(1)\n",
      "memory usage: 68.0+ KB\n"
     ]
    }
   ],
   "source": [
    "# Next attribute is HomePlanet\n",
    "df.HomePlanet.info()"
   ],
   "metadata": {
    "collapsed": false,
    "ExecuteTime": {
     "end_time": "2023-05-24T15:03:32.845193125Z",
     "start_time": "2023-05-24T15:03:32.735386294Z"
    }
   }
  },
  {
   "cell_type": "code",
   "execution_count": 18,
   "outputs": [
    {
     "data": {
      "text/plain": "Earth     4602\nEuropa    2131\nMars      1759\nNaN        201\nName: HomePlanet, dtype: int64"
     },
     "execution_count": 18,
     "metadata": {},
     "output_type": "execute_result"
    }
   ],
   "source": [
    "# Check quantity of null objects\n",
    "df.HomePlanet.value_counts(dropna=False)"
   ],
   "metadata": {
    "collapsed": false,
    "ExecuteTime": {
     "end_time": "2023-05-24T15:03:33.853928800Z",
     "start_time": "2023-05-24T15:03:33.813838871Z"
    }
   }
  },
  {
   "cell_type": "code",
   "execution_count": 19,
   "outputs": [
    {
     "data": {
      "text/plain": "Earth     4803\nEuropa    2131\nMars      1759\nName: HomePlanet, dtype: int64"
     },
     "execution_count": 19,
     "metadata": {},
     "output_type": "execute_result"
    }
   ],
   "source": [
    "# Just 201 are null, so we can assign it to the biggest one = Earth\n",
    "df[\"HomePlanet\"] = df[\"HomePlanet\"].fillna(\"Earth\")\n",
    "df.HomePlanet.value_counts(dropna=False)"
   ],
   "metadata": {
    "collapsed": false,
    "ExecuteTime": {
     "end_time": "2023-05-24T15:03:35.719364972Z",
     "start_time": "2023-05-24T15:03:35.628188686Z"
    }
   }
  },
  {
   "cell_type": "code",
   "execution_count": 20,
   "outputs": [
    {
     "data": {
      "text/plain": "0    4803\n1    2131\n2    1759\nName: HomePlanet, dtype: int64"
     },
     "execution_count": 20,
     "metadata": {},
     "output_type": "execute_result"
    }
   ],
   "source": [
    "# Now we have 3 types of home planet\n",
    "# Format them to int where Earth = 0, Europa = 1, Mars = 2\n",
    "map_conditions = {\n",
    "    \"Earth\": 0,\n",
    "    \"Europa\": 1,\n",
    "    \"Mars\": 2\n",
    "}\n",
    "\n",
    "df[\"HomePlanet\"] = df[\"HomePlanet\"].map(map_conditions)\n",
    "df.HomePlanet.value_counts(dropna=False)"
   ],
   "metadata": {
    "collapsed": false,
    "ExecuteTime": {
     "end_time": "2023-05-24T15:03:36.741331311Z",
     "start_time": "2023-05-24T15:03:36.650713026Z"
    }
   }
  },
  {
   "cell_type": "code",
   "execution_count": 21,
   "outputs": [
    {
     "data": {
      "text/plain": "      HomePlanet CryoSleep     Cabin    Destination   Age    VIP RoomService  \\\n0              1     False     B/0/P    TRAPPIST-1e  39.0  False         0.0   \n1              0     False     F/0/S    TRAPPIST-1e  24.0  False       109.0   \n2              1     False     A/0/S    TRAPPIST-1e  58.0   True        43.0   \n3              1     False     A/0/S    TRAPPIST-1e  33.0  False         0.0   \n4              0     False     F/1/S    TRAPPIST-1e  16.0  False       303.0   \n...          ...       ...       ...            ...   ...    ...         ...   \n8688           1     False    A/98/P    55 Cancri e  41.0   True         0.0   \n8689           0      True  G/1499/S  PSO J318.5-22  18.0  False         0.0   \n8690           0     False  G/1500/S    TRAPPIST-1e  26.0  False         0.0   \n8691           1     False   E/608/S    55 Cancri e  32.0  False         0.0   \n8692           1     False   E/608/S    TRAPPIST-1e  44.0  False       126.0   \n\n     FoodCourt ShoppingMall     Spa  VRDeck               Name Transported  \\\n0          0.0          0.0     0.0     0.0    Maham Ofracculy       False   \n1          9.0         25.0   549.0    44.0       Juanna Vines        True   \n2       3576.0          0.0  6715.0    49.0      Altark Susent       False   \n3       1283.0        371.0  3329.0   193.0       Solam Susent       False   \n4         70.0        151.0   565.0     2.0  Willy Santantines        True   \n...        ...          ...     ...     ...                ...         ...   \n8688    6819.0          0.0  1643.0    74.0  Gravior Noxnuther       False   \n8689       0.0          0.0     0.0     0.0    Kurta Mondalley       False   \n8690       0.0       1872.0     1.0     0.0       Fayey Connon        True   \n8691    1049.0          0.0   353.0  3235.0   Celeon Hontichre       False   \n8692    4688.0          0.0     0.0    12.0   Propsh Hontichre        True   \n\n      Company  Number  \n0           0       0  \n1           0       0  \n2           1       1  \n3           1       1  \n4           0       0  \n...       ...     ...  \n8688        0       0  \n8689        0       0  \n8690        0       0  \n8691        1       1  \n8692        1       1  \n\n[8693 rows x 15 columns]",
      "text/html": "<div>\n<style scoped>\n    .dataframe tbody tr th:only-of-type {\n        vertical-align: middle;\n    }\n\n    .dataframe tbody tr th {\n        vertical-align: top;\n    }\n\n    .dataframe thead th {\n        text-align: right;\n    }\n</style>\n<table border=\"1\" class=\"dataframe\">\n  <thead>\n    <tr style=\"text-align: right;\">\n      <th></th>\n      <th>HomePlanet</th>\n      <th>CryoSleep</th>\n      <th>Cabin</th>\n      <th>Destination</th>\n      <th>Age</th>\n      <th>VIP</th>\n      <th>RoomService</th>\n      <th>FoodCourt</th>\n      <th>ShoppingMall</th>\n      <th>Spa</th>\n      <th>VRDeck</th>\n      <th>Name</th>\n      <th>Transported</th>\n      <th>Company</th>\n      <th>Number</th>\n    </tr>\n  </thead>\n  <tbody>\n    <tr>\n      <th>0</th>\n      <td>1</td>\n      <td>False</td>\n      <td>B/0/P</td>\n      <td>TRAPPIST-1e</td>\n      <td>39.0</td>\n      <td>False</td>\n      <td>0.0</td>\n      <td>0.0</td>\n      <td>0.0</td>\n      <td>0.0</td>\n      <td>0.0</td>\n      <td>Maham Ofracculy</td>\n      <td>False</td>\n      <td>0</td>\n      <td>0</td>\n    </tr>\n    <tr>\n      <th>1</th>\n      <td>0</td>\n      <td>False</td>\n      <td>F/0/S</td>\n      <td>TRAPPIST-1e</td>\n      <td>24.0</td>\n      <td>False</td>\n      <td>109.0</td>\n      <td>9.0</td>\n      <td>25.0</td>\n      <td>549.0</td>\n      <td>44.0</td>\n      <td>Juanna Vines</td>\n      <td>True</td>\n      <td>0</td>\n      <td>0</td>\n    </tr>\n    <tr>\n      <th>2</th>\n      <td>1</td>\n      <td>False</td>\n      <td>A/0/S</td>\n      <td>TRAPPIST-1e</td>\n      <td>58.0</td>\n      <td>True</td>\n      <td>43.0</td>\n      <td>3576.0</td>\n      <td>0.0</td>\n      <td>6715.0</td>\n      <td>49.0</td>\n      <td>Altark Susent</td>\n      <td>False</td>\n      <td>1</td>\n      <td>1</td>\n    </tr>\n    <tr>\n      <th>3</th>\n      <td>1</td>\n      <td>False</td>\n      <td>A/0/S</td>\n      <td>TRAPPIST-1e</td>\n      <td>33.0</td>\n      <td>False</td>\n      <td>0.0</td>\n      <td>1283.0</td>\n      <td>371.0</td>\n      <td>3329.0</td>\n      <td>193.0</td>\n      <td>Solam Susent</td>\n      <td>False</td>\n      <td>1</td>\n      <td>1</td>\n    </tr>\n    <tr>\n      <th>4</th>\n      <td>0</td>\n      <td>False</td>\n      <td>F/1/S</td>\n      <td>TRAPPIST-1e</td>\n      <td>16.0</td>\n      <td>False</td>\n      <td>303.0</td>\n      <td>70.0</td>\n      <td>151.0</td>\n      <td>565.0</td>\n      <td>2.0</td>\n      <td>Willy Santantines</td>\n      <td>True</td>\n      <td>0</td>\n      <td>0</td>\n    </tr>\n    <tr>\n      <th>...</th>\n      <td>...</td>\n      <td>...</td>\n      <td>...</td>\n      <td>...</td>\n      <td>...</td>\n      <td>...</td>\n      <td>...</td>\n      <td>...</td>\n      <td>...</td>\n      <td>...</td>\n      <td>...</td>\n      <td>...</td>\n      <td>...</td>\n      <td>...</td>\n      <td>...</td>\n    </tr>\n    <tr>\n      <th>8688</th>\n      <td>1</td>\n      <td>False</td>\n      <td>A/98/P</td>\n      <td>55 Cancri e</td>\n      <td>41.0</td>\n      <td>True</td>\n      <td>0.0</td>\n      <td>6819.0</td>\n      <td>0.0</td>\n      <td>1643.0</td>\n      <td>74.0</td>\n      <td>Gravior Noxnuther</td>\n      <td>False</td>\n      <td>0</td>\n      <td>0</td>\n    </tr>\n    <tr>\n      <th>8689</th>\n      <td>0</td>\n      <td>True</td>\n      <td>G/1499/S</td>\n      <td>PSO J318.5-22</td>\n      <td>18.0</td>\n      <td>False</td>\n      <td>0.0</td>\n      <td>0.0</td>\n      <td>0.0</td>\n      <td>0.0</td>\n      <td>0.0</td>\n      <td>Kurta Mondalley</td>\n      <td>False</td>\n      <td>0</td>\n      <td>0</td>\n    </tr>\n    <tr>\n      <th>8690</th>\n      <td>0</td>\n      <td>False</td>\n      <td>G/1500/S</td>\n      <td>TRAPPIST-1e</td>\n      <td>26.0</td>\n      <td>False</td>\n      <td>0.0</td>\n      <td>0.0</td>\n      <td>1872.0</td>\n      <td>1.0</td>\n      <td>0.0</td>\n      <td>Fayey Connon</td>\n      <td>True</td>\n      <td>0</td>\n      <td>0</td>\n    </tr>\n    <tr>\n      <th>8691</th>\n      <td>1</td>\n      <td>False</td>\n      <td>E/608/S</td>\n      <td>55 Cancri e</td>\n      <td>32.0</td>\n      <td>False</td>\n      <td>0.0</td>\n      <td>1049.0</td>\n      <td>0.0</td>\n      <td>353.0</td>\n      <td>3235.0</td>\n      <td>Celeon Hontichre</td>\n      <td>False</td>\n      <td>1</td>\n      <td>1</td>\n    </tr>\n    <tr>\n      <th>8692</th>\n      <td>1</td>\n      <td>False</td>\n      <td>E/608/S</td>\n      <td>TRAPPIST-1e</td>\n      <td>44.0</td>\n      <td>False</td>\n      <td>126.0</td>\n      <td>4688.0</td>\n      <td>0.0</td>\n      <td>0.0</td>\n      <td>12.0</td>\n      <td>Propsh Hontichre</td>\n      <td>True</td>\n      <td>1</td>\n      <td>1</td>\n    </tr>\n  </tbody>\n</table>\n<p>8693 rows × 15 columns</p>\n</div>"
     },
     "execution_count": 21,
     "metadata": {},
     "output_type": "execute_result"
    }
   ],
   "source": [
    "df"
   ],
   "metadata": {
    "collapsed": false,
    "ExecuteTime": {
     "end_time": "2023-05-24T15:03:37.878683965Z",
     "start_time": "2023-05-24T15:03:37.686680833Z"
    }
   }
  },
  {
   "cell_type": "code",
   "execution_count": 22,
   "outputs": [
    {
     "name": "stdout",
     "output_type": "stream",
     "text": [
      "<class 'pandas.core.series.Series'>\n",
      "RangeIndex: 8693 entries, 0 to 8692\n",
      "Series name: CryoSleep\n",
      "Non-Null Count  Dtype \n",
      "--------------  ----- \n",
      "8476 non-null   object\n",
      "dtypes: object(1)\n",
      "memory usage: 68.0+ KB\n"
     ]
    }
   ],
   "source": [
    "# Next is CryoSleep attribute\n",
    "df.CryoSleep.info()"
   ],
   "metadata": {
    "collapsed": false,
    "ExecuteTime": {
     "end_time": "2023-05-24T15:03:38.821204902Z",
     "start_time": "2023-05-24T15:03:38.696585299Z"
    }
   }
  },
  {
   "cell_type": "code",
   "execution_count": 23,
   "outputs": [
    {
     "data": {
      "text/plain": "False    5439\nTrue     3037\nNaN       217\nName: CryoSleep, dtype: int64"
     },
     "execution_count": 23,
     "metadata": {},
     "output_type": "execute_result"
    }
   ],
   "source": [
    "df.CryoSleep.value_counts(dropna=False)"
   ],
   "metadata": {
    "collapsed": false,
    "ExecuteTime": {
     "end_time": "2023-05-24T15:03:39.694006237Z",
     "start_time": "2023-05-24T15:03:39.647515119Z"
    }
   }
  },
  {
   "cell_type": "code",
   "execution_count": 24,
   "outputs": [
    {
     "data": {
      "text/plain": "0    5656\n1    3037\nName: CryoSleep, dtype: int64"
     },
     "execution_count": 24,
     "metadata": {},
     "output_type": "execute_result"
    }
   ],
   "source": [
    "# Reassign NaN to the biggest = False\n",
    "# Format to int where false = 0, true = 1\n",
    "df[\"CryoSleep\"] = df[\"CryoSleep\"].fillna(\"False\")\n",
    "df.CryoSleep = df.CryoSleep.apply(lambda x: 1 if x == \"True\" else 0)\n",
    "df.CryoSleep.value_counts(dropna=False)"
   ],
   "metadata": {
    "collapsed": false,
    "ExecuteTime": {
     "end_time": "2023-05-24T15:03:40.630181361Z",
     "start_time": "2023-05-24T15:03:40.507662378Z"
    }
   }
  },
  {
   "cell_type": "code",
   "execution_count": 25,
   "outputs": [
    {
     "name": "stdout",
     "output_type": "stream",
     "text": [
      "<class 'pandas.core.frame.DataFrame'>\n",
      "RangeIndex: 8693 entries, 0 to 8692\n",
      "Data columns (total 15 columns):\n",
      " #   Column        Non-Null Count  Dtype \n",
      "---  ------        --------------  ----- \n",
      " 0   HomePlanet    8693 non-null   int64 \n",
      " 1   CryoSleep     8693 non-null   int64 \n",
      " 2   Cabin         8494 non-null   object\n",
      " 3   Destination   8511 non-null   object\n",
      " 4   Age           8514 non-null   object\n",
      " 5   VIP           8490 non-null   object\n",
      " 6   RoomService   8512 non-null   object\n",
      " 7   FoodCourt     8510 non-null   object\n",
      " 8   ShoppingMall  8485 non-null   object\n",
      " 9   Spa           8510 non-null   object\n",
      " 10  VRDeck        8505 non-null   object\n",
      " 11  Name          8493 non-null   object\n",
      " 12  Transported   8693 non-null   object\n",
      " 13  Company       8693 non-null   int64 \n",
      " 14  Number        8693 non-null   int64 \n",
      "dtypes: int64(4), object(11)\n",
      "memory usage: 1018.8+ KB\n"
     ]
    }
   ],
   "source": [
    "df.info()\n",
    "# All is good"
   ],
   "metadata": {
    "collapsed": false,
    "ExecuteTime": {
     "end_time": "2023-05-24T15:03:41.997268450Z",
     "start_time": "2023-05-24T15:03:41.876909877Z"
    }
   }
  },
  {
   "cell_type": "code",
   "execution_count": 26,
   "outputs": [],
   "source": [
    "# Next is Cabin attribute\n",
    "# From kaggle: Takes the form deck/num/side, where side can be either P for Port (right) or S for Starboard (left).\n",
    "# Can be useful to check if any dependence on part of the ship\n",
    "# Separate in tree columns and delete Cabin column\n",
    "df[['Deck', 'Num', 'Side']] = df['Cabin'].str.split('/', expand=True)\n",
    "df.drop(\"Cabin\", axis=1, inplace=True)"
   ],
   "metadata": {
    "collapsed": false,
    "ExecuteTime": {
     "end_time": "2023-05-24T15:03:43.047345539Z",
     "start_time": "2023-05-24T15:03:42.988480816Z"
    }
   }
  },
  {
   "cell_type": "code",
   "execution_count": 27,
   "outputs": [
    {
     "data": {
      "text/plain": "      HomePlanet  CryoSleep    Destination   Age    VIP RoomService FoodCourt  \\\n0              1          0    TRAPPIST-1e  39.0  False         0.0       0.0   \n1              0          0    TRAPPIST-1e  24.0  False       109.0       9.0   \n2              1          0    TRAPPIST-1e  58.0   True        43.0    3576.0   \n3              1          0    TRAPPIST-1e  33.0  False         0.0    1283.0   \n4              0          0    TRAPPIST-1e  16.0  False       303.0      70.0   \n...          ...        ...            ...   ...    ...         ...       ...   \n8688           1          0    55 Cancri e  41.0   True         0.0    6819.0   \n8689           0          1  PSO J318.5-22  18.0  False         0.0       0.0   \n8690           0          0    TRAPPIST-1e  26.0  False         0.0       0.0   \n8691           1          0    55 Cancri e  32.0  False         0.0    1049.0   \n8692           1          0    TRAPPIST-1e  44.0  False       126.0    4688.0   \n\n     ShoppingMall     Spa  VRDeck               Name Transported  Company  \\\n0             0.0     0.0     0.0    Maham Ofracculy       False        0   \n1            25.0   549.0    44.0       Juanna Vines        True        0   \n2             0.0  6715.0    49.0      Altark Susent       False        1   \n3           371.0  3329.0   193.0       Solam Susent       False        1   \n4           151.0   565.0     2.0  Willy Santantines        True        0   \n...           ...     ...     ...                ...         ...      ...   \n8688          0.0  1643.0    74.0  Gravior Noxnuther       False        0   \n8689          0.0     0.0     0.0    Kurta Mondalley       False        0   \n8690       1872.0     1.0     0.0       Fayey Connon        True        0   \n8691          0.0   353.0  3235.0   Celeon Hontichre       False        1   \n8692          0.0     0.0    12.0   Propsh Hontichre        True        1   \n\n      Number Deck Side  \n0          0    B    P  \n1          0    F    S  \n2          1    A    S  \n3          1    A    S  \n4          0    F    S  \n...      ...  ...  ...  \n8688       0    A    P  \n8689       0    G    S  \n8690       0    G    S  \n8691       1    E    S  \n8692       1    E    S  \n\n[8693 rows x 16 columns]",
      "text/html": "<div>\n<style scoped>\n    .dataframe tbody tr th:only-of-type {\n        vertical-align: middle;\n    }\n\n    .dataframe tbody tr th {\n        vertical-align: top;\n    }\n\n    .dataframe thead th {\n        text-align: right;\n    }\n</style>\n<table border=\"1\" class=\"dataframe\">\n  <thead>\n    <tr style=\"text-align: right;\">\n      <th></th>\n      <th>HomePlanet</th>\n      <th>CryoSleep</th>\n      <th>Destination</th>\n      <th>Age</th>\n      <th>VIP</th>\n      <th>RoomService</th>\n      <th>FoodCourt</th>\n      <th>ShoppingMall</th>\n      <th>Spa</th>\n      <th>VRDeck</th>\n      <th>Name</th>\n      <th>Transported</th>\n      <th>Company</th>\n      <th>Number</th>\n      <th>Deck</th>\n      <th>Side</th>\n    </tr>\n  </thead>\n  <tbody>\n    <tr>\n      <th>0</th>\n      <td>1</td>\n      <td>0</td>\n      <td>TRAPPIST-1e</td>\n      <td>39.0</td>\n      <td>False</td>\n      <td>0.0</td>\n      <td>0.0</td>\n      <td>0.0</td>\n      <td>0.0</td>\n      <td>0.0</td>\n      <td>Maham Ofracculy</td>\n      <td>False</td>\n      <td>0</td>\n      <td>0</td>\n      <td>B</td>\n      <td>P</td>\n    </tr>\n    <tr>\n      <th>1</th>\n      <td>0</td>\n      <td>0</td>\n      <td>TRAPPIST-1e</td>\n      <td>24.0</td>\n      <td>False</td>\n      <td>109.0</td>\n      <td>9.0</td>\n      <td>25.0</td>\n      <td>549.0</td>\n      <td>44.0</td>\n      <td>Juanna Vines</td>\n      <td>True</td>\n      <td>0</td>\n      <td>0</td>\n      <td>F</td>\n      <td>S</td>\n    </tr>\n    <tr>\n      <th>2</th>\n      <td>1</td>\n      <td>0</td>\n      <td>TRAPPIST-1e</td>\n      <td>58.0</td>\n      <td>True</td>\n      <td>43.0</td>\n      <td>3576.0</td>\n      <td>0.0</td>\n      <td>6715.0</td>\n      <td>49.0</td>\n      <td>Altark Susent</td>\n      <td>False</td>\n      <td>1</td>\n      <td>1</td>\n      <td>A</td>\n      <td>S</td>\n    </tr>\n    <tr>\n      <th>3</th>\n      <td>1</td>\n      <td>0</td>\n      <td>TRAPPIST-1e</td>\n      <td>33.0</td>\n      <td>False</td>\n      <td>0.0</td>\n      <td>1283.0</td>\n      <td>371.0</td>\n      <td>3329.0</td>\n      <td>193.0</td>\n      <td>Solam Susent</td>\n      <td>False</td>\n      <td>1</td>\n      <td>1</td>\n      <td>A</td>\n      <td>S</td>\n    </tr>\n    <tr>\n      <th>4</th>\n      <td>0</td>\n      <td>0</td>\n      <td>TRAPPIST-1e</td>\n      <td>16.0</td>\n      <td>False</td>\n      <td>303.0</td>\n      <td>70.0</td>\n      <td>151.0</td>\n      <td>565.0</td>\n      <td>2.0</td>\n      <td>Willy Santantines</td>\n      <td>True</td>\n      <td>0</td>\n      <td>0</td>\n      <td>F</td>\n      <td>S</td>\n    </tr>\n    <tr>\n      <th>...</th>\n      <td>...</td>\n      <td>...</td>\n      <td>...</td>\n      <td>...</td>\n      <td>...</td>\n      <td>...</td>\n      <td>...</td>\n      <td>...</td>\n      <td>...</td>\n      <td>...</td>\n      <td>...</td>\n      <td>...</td>\n      <td>...</td>\n      <td>...</td>\n      <td>...</td>\n      <td>...</td>\n    </tr>\n    <tr>\n      <th>8688</th>\n      <td>1</td>\n      <td>0</td>\n      <td>55 Cancri e</td>\n      <td>41.0</td>\n      <td>True</td>\n      <td>0.0</td>\n      <td>6819.0</td>\n      <td>0.0</td>\n      <td>1643.0</td>\n      <td>74.0</td>\n      <td>Gravior Noxnuther</td>\n      <td>False</td>\n      <td>0</td>\n      <td>0</td>\n      <td>A</td>\n      <td>P</td>\n    </tr>\n    <tr>\n      <th>8689</th>\n      <td>0</td>\n      <td>1</td>\n      <td>PSO J318.5-22</td>\n      <td>18.0</td>\n      <td>False</td>\n      <td>0.0</td>\n      <td>0.0</td>\n      <td>0.0</td>\n      <td>0.0</td>\n      <td>0.0</td>\n      <td>Kurta Mondalley</td>\n      <td>False</td>\n      <td>0</td>\n      <td>0</td>\n      <td>G</td>\n      <td>S</td>\n    </tr>\n    <tr>\n      <th>8690</th>\n      <td>0</td>\n      <td>0</td>\n      <td>TRAPPIST-1e</td>\n      <td>26.0</td>\n      <td>False</td>\n      <td>0.0</td>\n      <td>0.0</td>\n      <td>1872.0</td>\n      <td>1.0</td>\n      <td>0.0</td>\n      <td>Fayey Connon</td>\n      <td>True</td>\n      <td>0</td>\n      <td>0</td>\n      <td>G</td>\n      <td>S</td>\n    </tr>\n    <tr>\n      <th>8691</th>\n      <td>1</td>\n      <td>0</td>\n      <td>55 Cancri e</td>\n      <td>32.0</td>\n      <td>False</td>\n      <td>0.0</td>\n      <td>1049.0</td>\n      <td>0.0</td>\n      <td>353.0</td>\n      <td>3235.0</td>\n      <td>Celeon Hontichre</td>\n      <td>False</td>\n      <td>1</td>\n      <td>1</td>\n      <td>E</td>\n      <td>S</td>\n    </tr>\n    <tr>\n      <th>8692</th>\n      <td>1</td>\n      <td>0</td>\n      <td>TRAPPIST-1e</td>\n      <td>44.0</td>\n      <td>False</td>\n      <td>126.0</td>\n      <td>4688.0</td>\n      <td>0.0</td>\n      <td>0.0</td>\n      <td>12.0</td>\n      <td>Propsh Hontichre</td>\n      <td>True</td>\n      <td>1</td>\n      <td>1</td>\n      <td>E</td>\n      <td>S</td>\n    </tr>\n  </tbody>\n</table>\n<p>8693 rows × 16 columns</p>\n</div>"
     },
     "execution_count": 27,
     "metadata": {},
     "output_type": "execute_result"
    }
   ],
   "source": [
    "# Num column doesn't look useful, so delete it either\n",
    "df.drop(\"Num\", axis=1, inplace=True)\n",
    "df"
   ],
   "metadata": {
    "collapsed": false,
    "ExecuteTime": {
     "end_time": "2023-05-24T15:03:43.926539353Z",
     "start_time": "2023-05-24T15:03:43.830732929Z"
    }
   }
  },
  {
   "cell_type": "code",
   "execution_count": 28,
   "outputs": [
    {
     "data": {
      "text/plain": "F      2794\nG      2559\nE       876\nB       779\nC       747\nD       478\nA       256\nNaN     199\nT         5\nName: Deck, dtype: int64"
     },
     "execution_count": 28,
     "metadata": {},
     "output_type": "execute_result"
    }
   ],
   "source": [
    "# Analyse Deck attribute\n",
    "df.Deck.value_counts(dropna=False)"
   ],
   "metadata": {
    "collapsed": false,
    "ExecuteTime": {
     "end_time": "2023-05-24T15:03:45.074957409Z",
     "start_time": "2023-05-24T15:03:45.026384828Z"
    }
   }
  },
  {
   "cell_type": "code",
   "execution_count": 29,
   "outputs": [
    {
     "data": {
      "text/plain": "F    2998\nG    2559\nE     876\nB     779\nC     747\nD     478\nA     256\nName: Deck, dtype: int64"
     },
     "execution_count": 29,
     "metadata": {},
     "output_type": "execute_result"
    }
   ],
   "source": [
    "# Considering that usual aircraft has A-F rows, T seems to be an error value\n",
    "# T looks like F, so it is better to reassign it to F\n",
    "# Reassign 'Nan' to the biggest value = F\n",
    "df[\"Deck\"] = df[\"Deck\"].fillna(\"F\")\n",
    "df.Deck = df.Deck.apply(lambda x: \"F\" if x == \"T\" else x)\n",
    "df.Deck.value_counts(dropna=False)"
   ],
   "metadata": {
    "collapsed": false,
    "ExecuteTime": {
     "end_time": "2023-05-24T15:03:46.067255855Z",
     "start_time": "2023-05-24T15:03:45.991205270Z"
    }
   }
  },
  {
   "cell_type": "code",
   "execution_count": 30,
   "outputs": [
    {
     "data": {
      "text/plain": "5    2998\n6    2559\n4     876\n1     779\n2     747\n3     478\n0     256\nName: Deck, dtype: int64"
     },
     "execution_count": 30,
     "metadata": {},
     "output_type": "execute_result"
    }
   ],
   "source": [
    "# 7 different values - format them to int where A = 0, B = 1 ... G = 6\n",
    "map_conditions = {\n",
    "    \"A\": 0,\n",
    "    \"B\": 1,\n",
    "    \"C\": 2,\n",
    "    \"D\": 3,\n",
    "    \"E\": 4,\n",
    "    \"F\": 5,\n",
    "    \"G\": 6\n",
    "}\n",
    "df[\"Deck\"] = df[\"Deck\"].map(map_conditions)\n",
    "df.Deck.value_counts(dropna=False)"
   ],
   "metadata": {
    "collapsed": false,
    "ExecuteTime": {
     "end_time": "2023-05-24T15:03:48.080947866Z",
     "start_time": "2023-05-24T15:03:47.998708680Z"
    }
   }
  },
  {
   "cell_type": "code",
   "execution_count": 31,
   "outputs": [
    {
     "data": {
      "text/plain": "      HomePlanet  CryoSleep    Destination   Age    VIP RoomService FoodCourt  \\\n0              1          0    TRAPPIST-1e  39.0  False         0.0       0.0   \n1              0          0    TRAPPIST-1e  24.0  False       109.0       9.0   \n2              1          0    TRAPPIST-1e  58.0   True        43.0    3576.0   \n3              1          0    TRAPPIST-1e  33.0  False         0.0    1283.0   \n4              0          0    TRAPPIST-1e  16.0  False       303.0      70.0   \n...          ...        ...            ...   ...    ...         ...       ...   \n8688           1          0    55 Cancri e  41.0   True         0.0    6819.0   \n8689           0          1  PSO J318.5-22  18.0  False         0.0       0.0   \n8690           0          0    TRAPPIST-1e  26.0  False         0.0       0.0   \n8691           1          0    55 Cancri e  32.0  False         0.0    1049.0   \n8692           1          0    TRAPPIST-1e  44.0  False       126.0    4688.0   \n\n     ShoppingMall     Spa  VRDeck               Name Transported  Company  \\\n0             0.0     0.0     0.0    Maham Ofracculy       False        0   \n1            25.0   549.0    44.0       Juanna Vines        True        0   \n2             0.0  6715.0    49.0      Altark Susent       False        1   \n3           371.0  3329.0   193.0       Solam Susent       False        1   \n4           151.0   565.0     2.0  Willy Santantines        True        0   \n...           ...     ...     ...                ...         ...      ...   \n8688          0.0  1643.0    74.0  Gravior Noxnuther       False        0   \n8689          0.0     0.0     0.0    Kurta Mondalley       False        0   \n8690       1872.0     1.0     0.0       Fayey Connon        True        0   \n8691          0.0   353.0  3235.0   Celeon Hontichre       False        1   \n8692          0.0     0.0    12.0   Propsh Hontichre        True        1   \n\n      Number  Deck Side  \n0          0     1    P  \n1          0     5    S  \n2          1     0    S  \n3          1     0    S  \n4          0     5    S  \n...      ...   ...  ...  \n8688       0     0    P  \n8689       0     6    S  \n8690       0     6    S  \n8691       1     4    S  \n8692       1     4    S  \n\n[8693 rows x 16 columns]",
      "text/html": "<div>\n<style scoped>\n    .dataframe tbody tr th:only-of-type {\n        vertical-align: middle;\n    }\n\n    .dataframe tbody tr th {\n        vertical-align: top;\n    }\n\n    .dataframe thead th {\n        text-align: right;\n    }\n</style>\n<table border=\"1\" class=\"dataframe\">\n  <thead>\n    <tr style=\"text-align: right;\">\n      <th></th>\n      <th>HomePlanet</th>\n      <th>CryoSleep</th>\n      <th>Destination</th>\n      <th>Age</th>\n      <th>VIP</th>\n      <th>RoomService</th>\n      <th>FoodCourt</th>\n      <th>ShoppingMall</th>\n      <th>Spa</th>\n      <th>VRDeck</th>\n      <th>Name</th>\n      <th>Transported</th>\n      <th>Company</th>\n      <th>Number</th>\n      <th>Deck</th>\n      <th>Side</th>\n    </tr>\n  </thead>\n  <tbody>\n    <tr>\n      <th>0</th>\n      <td>1</td>\n      <td>0</td>\n      <td>TRAPPIST-1e</td>\n      <td>39.0</td>\n      <td>False</td>\n      <td>0.0</td>\n      <td>0.0</td>\n      <td>0.0</td>\n      <td>0.0</td>\n      <td>0.0</td>\n      <td>Maham Ofracculy</td>\n      <td>False</td>\n      <td>0</td>\n      <td>0</td>\n      <td>1</td>\n      <td>P</td>\n    </tr>\n    <tr>\n      <th>1</th>\n      <td>0</td>\n      <td>0</td>\n      <td>TRAPPIST-1e</td>\n      <td>24.0</td>\n      <td>False</td>\n      <td>109.0</td>\n      <td>9.0</td>\n      <td>25.0</td>\n      <td>549.0</td>\n      <td>44.0</td>\n      <td>Juanna Vines</td>\n      <td>True</td>\n      <td>0</td>\n      <td>0</td>\n      <td>5</td>\n      <td>S</td>\n    </tr>\n    <tr>\n      <th>2</th>\n      <td>1</td>\n      <td>0</td>\n      <td>TRAPPIST-1e</td>\n      <td>58.0</td>\n      <td>True</td>\n      <td>43.0</td>\n      <td>3576.0</td>\n      <td>0.0</td>\n      <td>6715.0</td>\n      <td>49.0</td>\n      <td>Altark Susent</td>\n      <td>False</td>\n      <td>1</td>\n      <td>1</td>\n      <td>0</td>\n      <td>S</td>\n    </tr>\n    <tr>\n      <th>3</th>\n      <td>1</td>\n      <td>0</td>\n      <td>TRAPPIST-1e</td>\n      <td>33.0</td>\n      <td>False</td>\n      <td>0.0</td>\n      <td>1283.0</td>\n      <td>371.0</td>\n      <td>3329.0</td>\n      <td>193.0</td>\n      <td>Solam Susent</td>\n      <td>False</td>\n      <td>1</td>\n      <td>1</td>\n      <td>0</td>\n      <td>S</td>\n    </tr>\n    <tr>\n      <th>4</th>\n      <td>0</td>\n      <td>0</td>\n      <td>TRAPPIST-1e</td>\n      <td>16.0</td>\n      <td>False</td>\n      <td>303.0</td>\n      <td>70.0</td>\n      <td>151.0</td>\n      <td>565.0</td>\n      <td>2.0</td>\n      <td>Willy Santantines</td>\n      <td>True</td>\n      <td>0</td>\n      <td>0</td>\n      <td>5</td>\n      <td>S</td>\n    </tr>\n    <tr>\n      <th>...</th>\n      <td>...</td>\n      <td>...</td>\n      <td>...</td>\n      <td>...</td>\n      <td>...</td>\n      <td>...</td>\n      <td>...</td>\n      <td>...</td>\n      <td>...</td>\n      <td>...</td>\n      <td>...</td>\n      <td>...</td>\n      <td>...</td>\n      <td>...</td>\n      <td>...</td>\n      <td>...</td>\n    </tr>\n    <tr>\n      <th>8688</th>\n      <td>1</td>\n      <td>0</td>\n      <td>55 Cancri e</td>\n      <td>41.0</td>\n      <td>True</td>\n      <td>0.0</td>\n      <td>6819.0</td>\n      <td>0.0</td>\n      <td>1643.0</td>\n      <td>74.0</td>\n      <td>Gravior Noxnuther</td>\n      <td>False</td>\n      <td>0</td>\n      <td>0</td>\n      <td>0</td>\n      <td>P</td>\n    </tr>\n    <tr>\n      <th>8689</th>\n      <td>0</td>\n      <td>1</td>\n      <td>PSO J318.5-22</td>\n      <td>18.0</td>\n      <td>False</td>\n      <td>0.0</td>\n      <td>0.0</td>\n      <td>0.0</td>\n      <td>0.0</td>\n      <td>0.0</td>\n      <td>Kurta Mondalley</td>\n      <td>False</td>\n      <td>0</td>\n      <td>0</td>\n      <td>6</td>\n      <td>S</td>\n    </tr>\n    <tr>\n      <th>8690</th>\n      <td>0</td>\n      <td>0</td>\n      <td>TRAPPIST-1e</td>\n      <td>26.0</td>\n      <td>False</td>\n      <td>0.0</td>\n      <td>0.0</td>\n      <td>1872.0</td>\n      <td>1.0</td>\n      <td>0.0</td>\n      <td>Fayey Connon</td>\n      <td>True</td>\n      <td>0</td>\n      <td>0</td>\n      <td>6</td>\n      <td>S</td>\n    </tr>\n    <tr>\n      <th>8691</th>\n      <td>1</td>\n      <td>0</td>\n      <td>55 Cancri e</td>\n      <td>32.0</td>\n      <td>False</td>\n      <td>0.0</td>\n      <td>1049.0</td>\n      <td>0.0</td>\n      <td>353.0</td>\n      <td>3235.0</td>\n      <td>Celeon Hontichre</td>\n      <td>False</td>\n      <td>1</td>\n      <td>1</td>\n      <td>4</td>\n      <td>S</td>\n    </tr>\n    <tr>\n      <th>8692</th>\n      <td>1</td>\n      <td>0</td>\n      <td>TRAPPIST-1e</td>\n      <td>44.0</td>\n      <td>False</td>\n      <td>126.0</td>\n      <td>4688.0</td>\n      <td>0.0</td>\n      <td>0.0</td>\n      <td>12.0</td>\n      <td>Propsh Hontichre</td>\n      <td>True</td>\n      <td>1</td>\n      <td>1</td>\n      <td>4</td>\n      <td>S</td>\n    </tr>\n  </tbody>\n</table>\n<p>8693 rows × 16 columns</p>\n</div>"
     },
     "execution_count": 31,
     "metadata": {},
     "output_type": "execute_result"
    }
   ],
   "source": [
    "df"
   ],
   "metadata": {
    "collapsed": false,
    "ExecuteTime": {
     "end_time": "2023-05-24T15:03:51.380761400Z",
     "start_time": "2023-05-24T15:03:51.231228685Z"
    }
   }
  },
  {
   "cell_type": "code",
   "execution_count": 32,
   "outputs": [
    {
     "data": {
      "text/plain": "S      4288\nP      4206\nNaN     199\nName: Side, dtype: int64"
     },
     "execution_count": 32,
     "metadata": {},
     "output_type": "execute_result"
    }
   ],
   "source": [
    "# Next is Side\n",
    "df.Side.value_counts(dropna=False)"
   ],
   "metadata": {
    "collapsed": false,
    "ExecuteTime": {
     "end_time": "2023-05-24T15:03:52.653365565Z",
     "start_time": "2023-05-24T15:03:52.604369918Z"
    }
   }
  },
  {
   "cell_type": "code",
   "execution_count": 33,
   "outputs": [
    {
     "data": {
      "text/plain": "0    4487\n1    4206\nName: Side, dtype: int64"
     },
     "execution_count": 33,
     "metadata": {},
     "output_type": "execute_result"
    }
   ],
   "source": [
    "# S and P have almost different values\n",
    "# Add NaN to S\n",
    "# Format to int where S = 0, P = 1\n",
    "df[\"Side\"] = df[\"Side\"].fillna(\"S\")\n",
    "df.Side = df.Side.apply(lambda x: 0 if x == \"S\" else 1)\n",
    "df.Side.value_counts(dropna=False)"
   ],
   "metadata": {
    "collapsed": false,
    "ExecuteTime": {
     "end_time": "2023-05-24T15:03:53.622771829Z",
     "start_time": "2023-05-24T15:03:53.494088457Z"
    }
   }
  },
  {
   "cell_type": "code",
   "execution_count": 34,
   "outputs": [
    {
     "data": {
      "text/plain": "      HomePlanet  CryoSleep    Destination   Age    VIP RoomService FoodCourt  \\\n0              1          0    TRAPPIST-1e  39.0  False         0.0       0.0   \n1              0          0    TRAPPIST-1e  24.0  False       109.0       9.0   \n2              1          0    TRAPPIST-1e  58.0   True        43.0    3576.0   \n3              1          0    TRAPPIST-1e  33.0  False         0.0    1283.0   \n4              0          0    TRAPPIST-1e  16.0  False       303.0      70.0   \n...          ...        ...            ...   ...    ...         ...       ...   \n8688           1          0    55 Cancri e  41.0   True         0.0    6819.0   \n8689           0          1  PSO J318.5-22  18.0  False         0.0       0.0   \n8690           0          0    TRAPPIST-1e  26.0  False         0.0       0.0   \n8691           1          0    55 Cancri e  32.0  False         0.0    1049.0   \n8692           1          0    TRAPPIST-1e  44.0  False       126.0    4688.0   \n\n     ShoppingMall     Spa  VRDeck               Name Transported  Company  \\\n0             0.0     0.0     0.0    Maham Ofracculy       False        0   \n1            25.0   549.0    44.0       Juanna Vines        True        0   \n2             0.0  6715.0    49.0      Altark Susent       False        1   \n3           371.0  3329.0   193.0       Solam Susent       False        1   \n4           151.0   565.0     2.0  Willy Santantines        True        0   \n...           ...     ...     ...                ...         ...      ...   \n8688          0.0  1643.0    74.0  Gravior Noxnuther       False        0   \n8689          0.0     0.0     0.0    Kurta Mondalley       False        0   \n8690       1872.0     1.0     0.0       Fayey Connon        True        0   \n8691          0.0   353.0  3235.0   Celeon Hontichre       False        1   \n8692          0.0     0.0    12.0   Propsh Hontichre        True        1   \n\n      Number  Deck  Side  \n0          0     1     1  \n1          0     5     0  \n2          1     0     0  \n3          1     0     0  \n4          0     5     0  \n...      ...   ...   ...  \n8688       0     0     1  \n8689       0     6     0  \n8690       0     6     0  \n8691       1     4     0  \n8692       1     4     0  \n\n[8693 rows x 16 columns]",
      "text/html": "<div>\n<style scoped>\n    .dataframe tbody tr th:only-of-type {\n        vertical-align: middle;\n    }\n\n    .dataframe tbody tr th {\n        vertical-align: top;\n    }\n\n    .dataframe thead th {\n        text-align: right;\n    }\n</style>\n<table border=\"1\" class=\"dataframe\">\n  <thead>\n    <tr style=\"text-align: right;\">\n      <th></th>\n      <th>HomePlanet</th>\n      <th>CryoSleep</th>\n      <th>Destination</th>\n      <th>Age</th>\n      <th>VIP</th>\n      <th>RoomService</th>\n      <th>FoodCourt</th>\n      <th>ShoppingMall</th>\n      <th>Spa</th>\n      <th>VRDeck</th>\n      <th>Name</th>\n      <th>Transported</th>\n      <th>Company</th>\n      <th>Number</th>\n      <th>Deck</th>\n      <th>Side</th>\n    </tr>\n  </thead>\n  <tbody>\n    <tr>\n      <th>0</th>\n      <td>1</td>\n      <td>0</td>\n      <td>TRAPPIST-1e</td>\n      <td>39.0</td>\n      <td>False</td>\n      <td>0.0</td>\n      <td>0.0</td>\n      <td>0.0</td>\n      <td>0.0</td>\n      <td>0.0</td>\n      <td>Maham Ofracculy</td>\n      <td>False</td>\n      <td>0</td>\n      <td>0</td>\n      <td>1</td>\n      <td>1</td>\n    </tr>\n    <tr>\n      <th>1</th>\n      <td>0</td>\n      <td>0</td>\n      <td>TRAPPIST-1e</td>\n      <td>24.0</td>\n      <td>False</td>\n      <td>109.0</td>\n      <td>9.0</td>\n      <td>25.0</td>\n      <td>549.0</td>\n      <td>44.0</td>\n      <td>Juanna Vines</td>\n      <td>True</td>\n      <td>0</td>\n      <td>0</td>\n      <td>5</td>\n      <td>0</td>\n    </tr>\n    <tr>\n      <th>2</th>\n      <td>1</td>\n      <td>0</td>\n      <td>TRAPPIST-1e</td>\n      <td>58.0</td>\n      <td>True</td>\n      <td>43.0</td>\n      <td>3576.0</td>\n      <td>0.0</td>\n      <td>6715.0</td>\n      <td>49.0</td>\n      <td>Altark Susent</td>\n      <td>False</td>\n      <td>1</td>\n      <td>1</td>\n      <td>0</td>\n      <td>0</td>\n    </tr>\n    <tr>\n      <th>3</th>\n      <td>1</td>\n      <td>0</td>\n      <td>TRAPPIST-1e</td>\n      <td>33.0</td>\n      <td>False</td>\n      <td>0.0</td>\n      <td>1283.0</td>\n      <td>371.0</td>\n      <td>3329.0</td>\n      <td>193.0</td>\n      <td>Solam Susent</td>\n      <td>False</td>\n      <td>1</td>\n      <td>1</td>\n      <td>0</td>\n      <td>0</td>\n    </tr>\n    <tr>\n      <th>4</th>\n      <td>0</td>\n      <td>0</td>\n      <td>TRAPPIST-1e</td>\n      <td>16.0</td>\n      <td>False</td>\n      <td>303.0</td>\n      <td>70.0</td>\n      <td>151.0</td>\n      <td>565.0</td>\n      <td>2.0</td>\n      <td>Willy Santantines</td>\n      <td>True</td>\n      <td>0</td>\n      <td>0</td>\n      <td>5</td>\n      <td>0</td>\n    </tr>\n    <tr>\n      <th>...</th>\n      <td>...</td>\n      <td>...</td>\n      <td>...</td>\n      <td>...</td>\n      <td>...</td>\n      <td>...</td>\n      <td>...</td>\n      <td>...</td>\n      <td>...</td>\n      <td>...</td>\n      <td>...</td>\n      <td>...</td>\n      <td>...</td>\n      <td>...</td>\n      <td>...</td>\n      <td>...</td>\n    </tr>\n    <tr>\n      <th>8688</th>\n      <td>1</td>\n      <td>0</td>\n      <td>55 Cancri e</td>\n      <td>41.0</td>\n      <td>True</td>\n      <td>0.0</td>\n      <td>6819.0</td>\n      <td>0.0</td>\n      <td>1643.0</td>\n      <td>74.0</td>\n      <td>Gravior Noxnuther</td>\n      <td>False</td>\n      <td>0</td>\n      <td>0</td>\n      <td>0</td>\n      <td>1</td>\n    </tr>\n    <tr>\n      <th>8689</th>\n      <td>0</td>\n      <td>1</td>\n      <td>PSO J318.5-22</td>\n      <td>18.0</td>\n      <td>False</td>\n      <td>0.0</td>\n      <td>0.0</td>\n      <td>0.0</td>\n      <td>0.0</td>\n      <td>0.0</td>\n      <td>Kurta Mondalley</td>\n      <td>False</td>\n      <td>0</td>\n      <td>0</td>\n      <td>6</td>\n      <td>0</td>\n    </tr>\n    <tr>\n      <th>8690</th>\n      <td>0</td>\n      <td>0</td>\n      <td>TRAPPIST-1e</td>\n      <td>26.0</td>\n      <td>False</td>\n      <td>0.0</td>\n      <td>0.0</td>\n      <td>1872.0</td>\n      <td>1.0</td>\n      <td>0.0</td>\n      <td>Fayey Connon</td>\n      <td>True</td>\n      <td>0</td>\n      <td>0</td>\n      <td>6</td>\n      <td>0</td>\n    </tr>\n    <tr>\n      <th>8691</th>\n      <td>1</td>\n      <td>0</td>\n      <td>55 Cancri e</td>\n      <td>32.0</td>\n      <td>False</td>\n      <td>0.0</td>\n      <td>1049.0</td>\n      <td>0.0</td>\n      <td>353.0</td>\n      <td>3235.0</td>\n      <td>Celeon Hontichre</td>\n      <td>False</td>\n      <td>1</td>\n      <td>1</td>\n      <td>4</td>\n      <td>0</td>\n    </tr>\n    <tr>\n      <th>8692</th>\n      <td>1</td>\n      <td>0</td>\n      <td>TRAPPIST-1e</td>\n      <td>44.0</td>\n      <td>False</td>\n      <td>126.0</td>\n      <td>4688.0</td>\n      <td>0.0</td>\n      <td>0.0</td>\n      <td>12.0</td>\n      <td>Propsh Hontichre</td>\n      <td>True</td>\n      <td>1</td>\n      <td>1</td>\n      <td>4</td>\n      <td>0</td>\n    </tr>\n  </tbody>\n</table>\n<p>8693 rows × 16 columns</p>\n</div>"
     },
     "execution_count": 34,
     "metadata": {},
     "output_type": "execute_result"
    }
   ],
   "source": [
    "df"
   ],
   "metadata": {
    "collapsed": false,
    "ExecuteTime": {
     "end_time": "2023-05-24T15:03:54.641868821Z",
     "start_time": "2023-05-24T15:03:54.524346003Z"
    }
   }
  },
  {
   "cell_type": "code",
   "execution_count": 35,
   "outputs": [
    {
     "name": "stdout",
     "output_type": "stream",
     "text": [
      "<class 'pandas.core.series.Series'>\n",
      "RangeIndex: 8693 entries, 0 to 8692\n",
      "Series name: Destination\n",
      "Non-Null Count  Dtype \n",
      "--------------  ----- \n",
      "8511 non-null   object\n",
      "dtypes: object(1)\n",
      "memory usage: 68.0+ KB\n"
     ]
    }
   ],
   "source": [
    "# Next one is Destination attribute\n",
    "df.Destination.info()"
   ],
   "metadata": {
    "collapsed": false,
    "ExecuteTime": {
     "end_time": "2023-05-24T15:03:55.396872268Z",
     "start_time": "2023-05-24T15:03:55.344854824Z"
    }
   }
  },
  {
   "cell_type": "code",
   "execution_count": 36,
   "outputs": [
    {
     "data": {
      "text/plain": "TRAPPIST-1e      5915\n55 Cancri e      1800\nPSO J318.5-22     796\nNaN               182\nName: Destination, dtype: int64"
     },
     "execution_count": 36,
     "metadata": {},
     "output_type": "execute_result"
    }
   ],
   "source": [
    "df.Destination.value_counts(dropna=False)"
   ],
   "metadata": {
    "collapsed": false,
    "ExecuteTime": {
     "end_time": "2023-05-24T15:03:56.369454888Z",
     "start_time": "2023-05-24T15:03:56.283428910Z"
    }
   }
  },
  {
   "cell_type": "code",
   "execution_count": 37,
   "outputs": [
    {
     "data": {
      "text/plain": "TRAPPIST-1e      6097\n55 Cancri e      1800\nPSO J318.5-22     796\nName: Destination, dtype: int64"
     },
     "execution_count": 37,
     "metadata": {},
     "output_type": "execute_result"
    }
   ],
   "source": [
    "# Reassign NaN to the biggest = TRAPPIST-1e\n",
    "df[\"Destination\"] = df[\"Destination\"].fillna(\"TRAPPIST-1e\")\n",
    "df.Destination.value_counts(dropna=False)"
   ],
   "metadata": {
    "collapsed": false,
    "ExecuteTime": {
     "end_time": "2023-05-24T15:03:57.530226832Z",
     "start_time": "2023-05-24T15:03:57.427446777Z"
    }
   }
  },
  {
   "cell_type": "code",
   "execution_count": 38,
   "outputs": [
    {
     "data": {
      "text/plain": "0    6097\n1    1800\n2     796\nName: Destination, dtype: int64"
     },
     "execution_count": 38,
     "metadata": {},
     "output_type": "execute_result"
    }
   ],
   "source": [
    "# 3 types of results\n",
    "# Format them to int where TRAPPIST-1e is 0, 55 Cancri e is 1, and PSO J318.5-22 is 2\n",
    "map_conditions = {\n",
    "    \"TRAPPIST-1e\": 0,\n",
    "    \"55 Cancri e\": 1,\n",
    "    \"PSO J318.5-22\": 2\n",
    "}\n",
    "df[\"Destination\"] = df[\"Destination\"].map(map_conditions)\n",
    "df.Destination.value_counts(dropna=False)"
   ],
   "metadata": {
    "collapsed": false,
    "ExecuteTime": {
     "end_time": "2023-05-24T15:03:58.412536898Z",
     "start_time": "2023-05-24T15:03:58.279922228Z"
    }
   }
  },
  {
   "cell_type": "code",
   "execution_count": 39,
   "outputs": [
    {
     "name": "stdout",
     "output_type": "stream",
     "text": [
      "<class 'pandas.core.frame.DataFrame'>\n",
      "RangeIndex: 8693 entries, 0 to 8692\n",
      "Data columns (total 16 columns):\n",
      " #   Column        Non-Null Count  Dtype \n",
      "---  ------        --------------  ----- \n",
      " 0   HomePlanet    8693 non-null   int64 \n",
      " 1   CryoSleep     8693 non-null   int64 \n",
      " 2   Destination   8693 non-null   int64 \n",
      " 3   Age           8514 non-null   object\n",
      " 4   VIP           8490 non-null   object\n",
      " 5   RoomService   8512 non-null   object\n",
      " 6   FoodCourt     8510 non-null   object\n",
      " 7   ShoppingMall  8485 non-null   object\n",
      " 8   Spa           8510 non-null   object\n",
      " 9   VRDeck        8505 non-null   object\n",
      " 10  Name          8493 non-null   object\n",
      " 11  Transported   8693 non-null   object\n",
      " 12  Company       8693 non-null   int64 \n",
      " 13  Number        8693 non-null   int64 \n",
      " 14  Deck          8693 non-null   int64 \n",
      " 15  Side          8693 non-null   int64 \n",
      "dtypes: int64(7), object(9)\n",
      "memory usage: 1.1+ MB\n"
     ]
    }
   ],
   "source": [
    "df.info()"
   ],
   "metadata": {
    "collapsed": false,
    "ExecuteTime": {
     "end_time": "2023-05-24T15:03:59.545842110Z",
     "start_time": "2023-05-24T15:03:59.409857005Z"
    }
   }
  },
  {
   "cell_type": "code",
   "execution_count": 40,
   "outputs": [],
   "source": [
    "# Age will do later"
   ],
   "metadata": {
    "collapsed": false,
    "ExecuteTime": {
     "end_time": "2023-05-24T15:04:00.318460790Z",
     "start_time": "2023-05-24T15:04:00.240009362Z"
    }
   }
  },
  {
   "cell_type": "code",
   "execution_count": 41,
   "outputs": [
    {
     "name": "stdout",
     "output_type": "stream",
     "text": [
      "<class 'pandas.core.series.Series'>\n",
      "RangeIndex: 8693 entries, 0 to 8692\n",
      "Series name: VIP\n",
      "Non-Null Count  Dtype \n",
      "--------------  ----- \n",
      "8490 non-null   object\n",
      "dtypes: object(1)\n",
      "memory usage: 68.0+ KB\n"
     ]
    }
   ],
   "source": [
    "# Next is VIP column\n",
    "df.VIP.info()"
   ],
   "metadata": {
    "collapsed": false,
    "ExecuteTime": {
     "end_time": "2023-05-24T15:04:01.150748003Z",
     "start_time": "2023-05-24T15:04:01.043099633Z"
    }
   }
  },
  {
   "cell_type": "code",
   "execution_count": 42,
   "outputs": [
    {
     "data": {
      "text/plain": "False    8291\nNaN       203\nTrue      199\nName: VIP, dtype: int64"
     },
     "execution_count": 42,
     "metadata": {},
     "output_type": "execute_result"
    }
   ],
   "source": [
    "df.VIP.value_counts(dropna=False)"
   ],
   "metadata": {
    "collapsed": false,
    "ExecuteTime": {
     "end_time": "2023-05-24T15:04:03.341739769Z",
     "start_time": "2023-05-24T15:04:03.290400029Z"
    }
   }
  },
  {
   "cell_type": "code",
   "execution_count": 43,
   "outputs": [
    {
     "data": {
      "text/plain": "False    8494\nTrue      199\nName: VIP, dtype: int64"
     },
     "execution_count": 43,
     "metadata": {},
     "output_type": "execute_result"
    }
   ],
   "source": [
    "#NaN can be reassigned to False\n",
    "df[\"VIP\"] = df[\"VIP\"].fillna(\"False\")\n",
    "df.VIP.value_counts(dropna=False)"
   ],
   "metadata": {
    "collapsed": false,
    "ExecuteTime": {
     "end_time": "2023-05-24T15:04:04.057780737Z",
     "start_time": "2023-05-24T15:04:03.995525494Z"
    }
   }
  },
  {
   "cell_type": "code",
   "execution_count": 44,
   "outputs": [
    {
     "data": {
      "text/plain": "0    8494\n1     199\nName: VIP, dtype: int64"
     },
     "execution_count": 44,
     "metadata": {},
     "output_type": "execute_result"
    }
   ],
   "source": [
    "# First observation: almost all VIP passengers died\n",
    "# Format to in where False = 0, True = 1\n",
    "df.VIP = df.VIP.apply(lambda x: 0 if x == \"False\" else 1)\n",
    "df.VIP.value_counts(dropna=False)"
   ],
   "metadata": {
    "collapsed": false,
    "ExecuteTime": {
     "end_time": "2023-05-24T15:04:04.927947921Z",
     "start_time": "2023-05-24T15:04:04.822806542Z"
    }
   }
  },
  {
   "cell_type": "code",
   "execution_count": 45,
   "outputs": [
    {
     "name": "stdout",
     "output_type": "stream",
     "text": [
      "<class 'pandas.core.frame.DataFrame'>\n",
      "RangeIndex: 8693 entries, 0 to 8692\n",
      "Data columns (total 16 columns):\n",
      " #   Column        Non-Null Count  Dtype \n",
      "---  ------        --------------  ----- \n",
      " 0   HomePlanet    8693 non-null   int64 \n",
      " 1   CryoSleep     8693 non-null   int64 \n",
      " 2   Destination   8693 non-null   int64 \n",
      " 3   Age           8514 non-null   object\n",
      " 4   VIP           8693 non-null   int64 \n",
      " 5   RoomService   8512 non-null   object\n",
      " 6   FoodCourt     8510 non-null   object\n",
      " 7   ShoppingMall  8485 non-null   object\n",
      " 8   Spa           8510 non-null   object\n",
      " 9   VRDeck        8505 non-null   object\n",
      " 10  Name          8493 non-null   object\n",
      " 11  Transported   8693 non-null   object\n",
      " 12  Company       8693 non-null   int64 \n",
      " 13  Number        8693 non-null   int64 \n",
      " 14  Deck          8693 non-null   int64 \n",
      " 15  Side          8693 non-null   int64 \n",
      "dtypes: int64(8), object(8)\n",
      "memory usage: 1.1+ MB\n"
     ]
    }
   ],
   "source": [
    "df.info()"
   ],
   "metadata": {
    "collapsed": false,
    "ExecuteTime": {
     "end_time": "2023-05-24T15:04:05.849480767Z",
     "start_time": "2023-05-24T15:04:05.703487266Z"
    }
   }
  },
  {
   "cell_type": "code",
   "execution_count": 46,
   "outputs": [
    {
     "data": {
      "text/plain": "0.0       5577\nNaN        181\n1.0        117\n2.0         79\n3.0         61\n          ... \n1612.0       1\n2598.0       1\n632.0        1\n378.0        1\n745.0        1\nName: RoomService, Length: 1274, dtype: int64"
     },
     "execution_count": 46,
     "metadata": {},
     "output_type": "execute_result"
    }
   ],
   "source": [
    "# Next is RoomService attribute\n",
    "df.RoomService.value_counts(dropna=False)"
   ],
   "metadata": {
    "collapsed": false,
    "ExecuteTime": {
     "end_time": "2023-05-24T15:04:06.536761657Z",
     "start_time": "2023-05-24T15:04:06.488666831Z"
    }
   }
  },
  {
   "cell_type": "code",
   "execution_count": 47,
   "outputs": [
    {
     "data": {
      "text/plain": "0    5758\n1    2935\nName: RoomService, dtype: int64"
     },
     "execution_count": 47,
     "metadata": {},
     "output_type": "execute_result"
    }
   ],
   "source": [
    "# Nan to the biggest -> 0.0\n",
    "# Amounts doesn't seem to be useful, so we can assign 0 (false) if no service used\n",
    "# 1 (True) if any\n",
    "df[\"RoomService\"] = df[\"RoomService\"].fillna(\"0.0\")\n",
    "df.RoomService = df.RoomService.apply(lambda x: 0 if x == \"0.0\" else 1)\n",
    "df.RoomService.value_counts(dropna=False)"
   ],
   "metadata": {
    "collapsed": false,
    "ExecuteTime": {
     "end_time": "2023-05-24T15:04:07.303658424Z",
     "start_time": "2023-05-24T15:04:07.193447103Z"
    }
   }
  },
  {
   "cell_type": "code",
   "execution_count": 48,
   "outputs": [
    {
     "data": {
      "text/plain": "0.0       5456\nNaN        183\n1.0        116\n2.0         75\n3.0         53\n          ... \n3846.0       1\n5193.0       1\n312.0        1\n827.0        1\n4688.0       1\nName: FoodCourt, Length: 1508, dtype: int64"
     },
     "execution_count": 48,
     "metadata": {},
     "output_type": "execute_result"
    }
   ],
   "source": [
    "# The same for FoodCourt, ShoppingMall, Spa, VRDeck\n",
    "df.FoodCourt.value_counts(dropna=False)"
   ],
   "metadata": {
    "collapsed": false,
    "ExecuteTime": {
     "end_time": "2023-05-24T15:04:08.060885937Z",
     "start_time": "2023-05-24T15:04:07.918019667Z"
    }
   }
  },
  {
   "cell_type": "code",
   "execution_count": 49,
   "outputs": [
    {
     "data": {
      "text/plain": "0.0       5587\nNaN        208\n1.0        153\n2.0         80\n3.0         59\n          ... \n3627.0       1\n2074.0       1\n871.0        1\n742.0        1\n1872.0       1\nName: ShoppingMall, Length: 1116, dtype: int64"
     },
     "execution_count": 49,
     "metadata": {},
     "output_type": "execute_result"
    }
   ],
   "source": [
    "df.ShoppingMall.value_counts(dropna=False)"
   ],
   "metadata": {
    "collapsed": false,
    "ExecuteTime": {
     "end_time": "2023-05-24T15:04:08.884465388Z",
     "start_time": "2023-05-24T15:04:08.817725289Z"
    }
   }
  },
  {
   "cell_type": "code",
   "execution_count": 50,
   "outputs": [
    {
     "data": {
      "text/plain": "0.0       5324\nNaN        183\n1.0        146\n2.0        105\n3.0         53\n          ... \n273.0        1\n2581.0       1\n2948.0       1\n3778.0       1\n1643.0       1\nName: Spa, Length: 1328, dtype: int64"
     },
     "execution_count": 50,
     "metadata": {},
     "output_type": "execute_result"
    }
   ],
   "source": [
    "df.Spa.value_counts(dropna=False)"
   ],
   "metadata": {
    "collapsed": false,
    "ExecuteTime": {
     "end_time": "2023-05-24T15:04:09.645963734Z",
     "start_time": "2023-05-24T15:04:09.587363528Z"
    }
   }
  },
  {
   "cell_type": "code",
   "execution_count": 51,
   "outputs": [
    {
     "data": {
      "text/plain": "0.0       5495\nNaN        188\n1.0        139\n2.0         70\n3.0         56\n          ... \n297.0        1\n1788.0       1\n1113.0       1\n9244.0       1\n3235.0       1\nName: VRDeck, Length: 1307, dtype: int64"
     },
     "execution_count": 51,
     "metadata": {},
     "output_type": "execute_result"
    }
   ],
   "source": [
    "df.VRDeck.value_counts(dropna=False)"
   ],
   "metadata": {
    "collapsed": false,
    "ExecuteTime": {
     "end_time": "2023-05-24T15:04:10.366879385Z",
     "start_time": "2023-05-24T15:04:10.310843508Z"
    }
   }
  },
  {
   "cell_type": "code",
   "execution_count": 52,
   "outputs": [],
   "source": [
    "# The same for FoodCourt, ShoppingMall, Spa, VRDeck as for RoomService\n",
    "df[\"FoodCourt\"] = df[\"FoodCourt\"].fillna(\"0.0\")\n",
    "df.FoodCourt = df.FoodCourt.apply(lambda x: 0 if x == \"0.0\" else 1)\n",
    "\n",
    "df[\"ShoppingMall\"] = df[\"ShoppingMall\"].fillna(\"0.0\")\n",
    "df.ShoppingMall = df.ShoppingMall.apply(lambda x: 0 if x == \"0.0\" else 1)\n",
    "\n",
    "df[\"Spa\"] = df[\"Spa\"].fillna(\"0.0\")\n",
    "df.Spa = df.Spa.apply(lambda x: 0 if x == \"0.0\" else 1)\n",
    "\n",
    "df[\"VRDeck\"] = df[\"VRDeck\"].fillna(\"0.0\")\n",
    "df.VRDeck = df.VRDeck.apply(lambda x: 0 if x == \"0.0\" else 1)"
   ],
   "metadata": {
    "collapsed": false,
    "ExecuteTime": {
     "end_time": "2023-05-24T15:04:11.187682396Z",
     "start_time": "2023-05-24T15:04:11.060809767Z"
    }
   }
  },
  {
   "cell_type": "code",
   "execution_count": 53,
   "outputs": [
    {
     "data": {
      "text/plain": "0    5639\n1    3054\nName: FoodCourt, dtype: int64"
     },
     "execution_count": 53,
     "metadata": {},
     "output_type": "execute_result"
    }
   ],
   "source": [
    "df.FoodCourt.value_counts(dropna=False)"
   ],
   "metadata": {
    "collapsed": false,
    "ExecuteTime": {
     "end_time": "2023-05-24T15:04:11.968763555Z",
     "start_time": "2023-05-24T15:04:11.889315905Z"
    }
   }
  },
  {
   "cell_type": "code",
   "execution_count": 54,
   "outputs": [
    {
     "data": {
      "text/plain": "0    5795\n1    2898\nName: ShoppingMall, dtype: int64"
     },
     "execution_count": 54,
     "metadata": {},
     "output_type": "execute_result"
    }
   ],
   "source": [
    "df.ShoppingMall.value_counts(dropna=False)"
   ],
   "metadata": {
    "collapsed": false,
    "ExecuteTime": {
     "end_time": "2023-05-24T15:04:13.060890723Z",
     "start_time": "2023-05-24T15:04:12.990355711Z"
    }
   }
  },
  {
   "cell_type": "code",
   "execution_count": 55,
   "outputs": [
    {
     "data": {
      "text/plain": "0    5507\n1    3186\nName: Spa, dtype: int64"
     },
     "execution_count": 55,
     "metadata": {},
     "output_type": "execute_result"
    }
   ],
   "source": [
    "df.Spa.value_counts(dropna=False)"
   ],
   "metadata": {
    "collapsed": false,
    "ExecuteTime": {
     "end_time": "2023-05-24T15:04:13.878159614Z",
     "start_time": "2023-05-24T15:04:13.815456281Z"
    }
   }
  },
  {
   "cell_type": "code",
   "execution_count": 56,
   "outputs": [
    {
     "data": {
      "text/plain": "0    5683\n1    3010\nName: VRDeck, dtype: int64"
     },
     "execution_count": 56,
     "metadata": {},
     "output_type": "execute_result"
    }
   ],
   "source": [
    "df.VRDeck.value_counts(dropna=False)"
   ],
   "metadata": {
    "collapsed": false,
    "ExecuteTime": {
     "end_time": "2023-05-24T15:04:14.722442882Z",
     "start_time": "2023-05-24T15:04:14.647980504Z"
    }
   }
  },
  {
   "cell_type": "code",
   "execution_count": 57,
   "outputs": [
    {
     "name": "stdout",
     "output_type": "stream",
     "text": [
      "<class 'pandas.core.frame.DataFrame'>\n",
      "RangeIndex: 8693 entries, 0 to 8692\n",
      "Data columns (total 16 columns):\n",
      " #   Column        Non-Null Count  Dtype \n",
      "---  ------        --------------  ----- \n",
      " 0   HomePlanet    8693 non-null   int64 \n",
      " 1   CryoSleep     8693 non-null   int64 \n",
      " 2   Destination   8693 non-null   int64 \n",
      " 3   Age           8514 non-null   object\n",
      " 4   VIP           8693 non-null   int64 \n",
      " 5   RoomService   8693 non-null   int64 \n",
      " 6   FoodCourt     8693 non-null   int64 \n",
      " 7   ShoppingMall  8693 non-null   int64 \n",
      " 8   Spa           8693 non-null   int64 \n",
      " 9   VRDeck        8693 non-null   int64 \n",
      " 10  Name          8493 non-null   object\n",
      " 11  Transported   8693 non-null   object\n",
      " 12  Company       8693 non-null   int64 \n",
      " 13  Number        8693 non-null   int64 \n",
      " 14  Deck          8693 non-null   int64 \n",
      " 15  Side          8693 non-null   int64 \n",
      "dtypes: int64(13), object(3)\n",
      "memory usage: 1.1+ MB\n"
     ]
    }
   ],
   "source": [
    "df.info()"
   ],
   "metadata": {
    "collapsed": false,
    "ExecuteTime": {
     "end_time": "2023-05-24T15:04:15.543013703Z",
     "start_time": "2023-05-24T15:04:15.415049887Z"
    }
   }
  },
  {
   "cell_type": "code",
   "execution_count": 58,
   "outputs": [
    {
     "data": {
      "text/plain": "      HomePlanet  CryoSleep  Destination   Age  VIP  RoomService  FoodCourt  \\\n0              1          0            0  39.0    0            0          0   \n1              0          0            0  24.0    0            1          1   \n2              1          0            0  58.0    1            1          1   \n3              1          0            0  33.0    0            0          1   \n4              0          0            0  16.0    0            1          1   \n...          ...        ...          ...   ...  ...          ...        ...   \n8688           1          0            1  41.0    1            0          1   \n8689           0          1            2  18.0    0            0          0   \n8690           0          0            0  26.0    0            0          0   \n8691           1          0            1  32.0    0            0          1   \n8692           1          0            0  44.0    0            1          1   \n\n      ShoppingMall  Spa  VRDeck               Name Transported  Company  \\\n0                0    0       0    Maham Ofracculy       False        0   \n1                1    1       1       Juanna Vines        True        0   \n2                0    1       1      Altark Susent       False        1   \n3                1    1       1       Solam Susent       False        1   \n4                1    1       1  Willy Santantines        True        0   \n...            ...  ...     ...                ...         ...      ...   \n8688             0    1       1  Gravior Noxnuther       False        0   \n8689             0    0       0    Kurta Mondalley       False        0   \n8690             1    1       0       Fayey Connon        True        0   \n8691             0    1       1   Celeon Hontichre       False        1   \n8692             0    0       1   Propsh Hontichre        True        1   \n\n      Number  Deck  Side  \n0          0     1     1  \n1          0     5     0  \n2          1     0     0  \n3          1     0     0  \n4          0     5     0  \n...      ...   ...   ...  \n8688       0     0     1  \n8689       0     6     0  \n8690       0     6     0  \n8691       1     4     0  \n8692       1     4     0  \n\n[8693 rows x 16 columns]",
      "text/html": "<div>\n<style scoped>\n    .dataframe tbody tr th:only-of-type {\n        vertical-align: middle;\n    }\n\n    .dataframe tbody tr th {\n        vertical-align: top;\n    }\n\n    .dataframe thead th {\n        text-align: right;\n    }\n</style>\n<table border=\"1\" class=\"dataframe\">\n  <thead>\n    <tr style=\"text-align: right;\">\n      <th></th>\n      <th>HomePlanet</th>\n      <th>CryoSleep</th>\n      <th>Destination</th>\n      <th>Age</th>\n      <th>VIP</th>\n      <th>RoomService</th>\n      <th>FoodCourt</th>\n      <th>ShoppingMall</th>\n      <th>Spa</th>\n      <th>VRDeck</th>\n      <th>Name</th>\n      <th>Transported</th>\n      <th>Company</th>\n      <th>Number</th>\n      <th>Deck</th>\n      <th>Side</th>\n    </tr>\n  </thead>\n  <tbody>\n    <tr>\n      <th>0</th>\n      <td>1</td>\n      <td>0</td>\n      <td>0</td>\n      <td>39.0</td>\n      <td>0</td>\n      <td>0</td>\n      <td>0</td>\n      <td>0</td>\n      <td>0</td>\n      <td>0</td>\n      <td>Maham Ofracculy</td>\n      <td>False</td>\n      <td>0</td>\n      <td>0</td>\n      <td>1</td>\n      <td>1</td>\n    </tr>\n    <tr>\n      <th>1</th>\n      <td>0</td>\n      <td>0</td>\n      <td>0</td>\n      <td>24.0</td>\n      <td>0</td>\n      <td>1</td>\n      <td>1</td>\n      <td>1</td>\n      <td>1</td>\n      <td>1</td>\n      <td>Juanna Vines</td>\n      <td>True</td>\n      <td>0</td>\n      <td>0</td>\n      <td>5</td>\n      <td>0</td>\n    </tr>\n    <tr>\n      <th>2</th>\n      <td>1</td>\n      <td>0</td>\n      <td>0</td>\n      <td>58.0</td>\n      <td>1</td>\n      <td>1</td>\n      <td>1</td>\n      <td>0</td>\n      <td>1</td>\n      <td>1</td>\n      <td>Altark Susent</td>\n      <td>False</td>\n      <td>1</td>\n      <td>1</td>\n      <td>0</td>\n      <td>0</td>\n    </tr>\n    <tr>\n      <th>3</th>\n      <td>1</td>\n      <td>0</td>\n      <td>0</td>\n      <td>33.0</td>\n      <td>0</td>\n      <td>0</td>\n      <td>1</td>\n      <td>1</td>\n      <td>1</td>\n      <td>1</td>\n      <td>Solam Susent</td>\n      <td>False</td>\n      <td>1</td>\n      <td>1</td>\n      <td>0</td>\n      <td>0</td>\n    </tr>\n    <tr>\n      <th>4</th>\n      <td>0</td>\n      <td>0</td>\n      <td>0</td>\n      <td>16.0</td>\n      <td>0</td>\n      <td>1</td>\n      <td>1</td>\n      <td>1</td>\n      <td>1</td>\n      <td>1</td>\n      <td>Willy Santantines</td>\n      <td>True</td>\n      <td>0</td>\n      <td>0</td>\n      <td>5</td>\n      <td>0</td>\n    </tr>\n    <tr>\n      <th>...</th>\n      <td>...</td>\n      <td>...</td>\n      <td>...</td>\n      <td>...</td>\n      <td>...</td>\n      <td>...</td>\n      <td>...</td>\n      <td>...</td>\n      <td>...</td>\n      <td>...</td>\n      <td>...</td>\n      <td>...</td>\n      <td>...</td>\n      <td>...</td>\n      <td>...</td>\n      <td>...</td>\n    </tr>\n    <tr>\n      <th>8688</th>\n      <td>1</td>\n      <td>0</td>\n      <td>1</td>\n      <td>41.0</td>\n      <td>1</td>\n      <td>0</td>\n      <td>1</td>\n      <td>0</td>\n      <td>1</td>\n      <td>1</td>\n      <td>Gravior Noxnuther</td>\n      <td>False</td>\n      <td>0</td>\n      <td>0</td>\n      <td>0</td>\n      <td>1</td>\n    </tr>\n    <tr>\n      <th>8689</th>\n      <td>0</td>\n      <td>1</td>\n      <td>2</td>\n      <td>18.0</td>\n      <td>0</td>\n      <td>0</td>\n      <td>0</td>\n      <td>0</td>\n      <td>0</td>\n      <td>0</td>\n      <td>Kurta Mondalley</td>\n      <td>False</td>\n      <td>0</td>\n      <td>0</td>\n      <td>6</td>\n      <td>0</td>\n    </tr>\n    <tr>\n      <th>8690</th>\n      <td>0</td>\n      <td>0</td>\n      <td>0</td>\n      <td>26.0</td>\n      <td>0</td>\n      <td>0</td>\n      <td>0</td>\n      <td>1</td>\n      <td>1</td>\n      <td>0</td>\n      <td>Fayey Connon</td>\n      <td>True</td>\n      <td>0</td>\n      <td>0</td>\n      <td>6</td>\n      <td>0</td>\n    </tr>\n    <tr>\n      <th>8691</th>\n      <td>1</td>\n      <td>0</td>\n      <td>1</td>\n      <td>32.0</td>\n      <td>0</td>\n      <td>0</td>\n      <td>1</td>\n      <td>0</td>\n      <td>1</td>\n      <td>1</td>\n      <td>Celeon Hontichre</td>\n      <td>False</td>\n      <td>1</td>\n      <td>1</td>\n      <td>4</td>\n      <td>0</td>\n    </tr>\n    <tr>\n      <th>8692</th>\n      <td>1</td>\n      <td>0</td>\n      <td>0</td>\n      <td>44.0</td>\n      <td>0</td>\n      <td>1</td>\n      <td>1</td>\n      <td>0</td>\n      <td>0</td>\n      <td>1</td>\n      <td>Propsh Hontichre</td>\n      <td>True</td>\n      <td>1</td>\n      <td>1</td>\n      <td>4</td>\n      <td>0</td>\n    </tr>\n  </tbody>\n</table>\n<p>8693 rows × 16 columns</p>\n</div>"
     },
     "execution_count": 58,
     "metadata": {},
     "output_type": "execute_result"
    }
   ],
   "source": [
    "df"
   ],
   "metadata": {
    "collapsed": false,
    "ExecuteTime": {
     "end_time": "2023-05-24T15:04:16.853429556Z",
     "start_time": "2023-05-24T15:04:16.714832487Z"
    }
   }
  },
  {
   "cell_type": "code",
   "execution_count": 59,
   "outputs": [
    {
     "data": {
      "text/plain": "True     4378\nFalse    4315\nName: Transported, dtype: int64"
     },
     "execution_count": 59,
     "metadata": {},
     "output_type": "execute_result"
    }
   ],
   "source": [
    "# Next is Transported attribute\n",
    "df.Transported.value_counts(dropna=False)"
   ],
   "metadata": {
    "collapsed": false,
    "ExecuteTime": {
     "end_time": "2023-05-24T15:04:17.708904726Z",
     "start_time": "2023-05-24T15:04:17.657300913Z"
    }
   }
  },
  {
   "cell_type": "code",
   "execution_count": 60,
   "outputs": [
    {
     "data": {
      "text/plain": "1    4378\n0    4315\nName: Transported, dtype: int64"
     },
     "execution_count": 60,
     "metadata": {},
     "output_type": "execute_result"
    }
   ],
   "source": [
    "# Format to int where False = 0, True = 1\n",
    "df.Transported = df.Transported.apply(lambda x: 0 if x == \"False\" else 1)\n",
    "df.Transported.value_counts(dropna=False)"
   ],
   "metadata": {
    "collapsed": false,
    "ExecuteTime": {
     "end_time": "2023-05-24T15:04:19.038979574Z",
     "start_time": "2023-05-24T15:04:18.953578296Z"
    }
   }
  },
  {
   "cell_type": "code",
   "execution_count": 61,
   "outputs": [
    {
     "name": "stdout",
     "output_type": "stream",
     "text": [
      "<class 'pandas.core.frame.DataFrame'>\n",
      "RangeIndex: 8693 entries, 0 to 8692\n",
      "Data columns (total 16 columns):\n",
      " #   Column        Non-Null Count  Dtype \n",
      "---  ------        --------------  ----- \n",
      " 0   HomePlanet    8693 non-null   int64 \n",
      " 1   CryoSleep     8693 non-null   int64 \n",
      " 2   Destination   8693 non-null   int64 \n",
      " 3   Age           8514 non-null   object\n",
      " 4   VIP           8693 non-null   int64 \n",
      " 5   RoomService   8693 non-null   int64 \n",
      " 6   FoodCourt     8693 non-null   int64 \n",
      " 7   ShoppingMall  8693 non-null   int64 \n",
      " 8   Spa           8693 non-null   int64 \n",
      " 9   VRDeck        8693 non-null   int64 \n",
      " 10  Name          8493 non-null   object\n",
      " 11  Transported   8693 non-null   int64 \n",
      " 12  Company       8693 non-null   int64 \n",
      " 13  Number        8693 non-null   int64 \n",
      " 14  Deck          8693 non-null   int64 \n",
      " 15  Side          8693 non-null   int64 \n",
      "dtypes: int64(14), object(2)\n",
      "memory usage: 1.1+ MB\n"
     ]
    }
   ],
   "source": [
    "df.info()"
   ],
   "metadata": {
    "collapsed": false,
    "ExecuteTime": {
     "end_time": "2023-05-24T15:04:20.884749839Z",
     "start_time": "2023-05-24T15:04:20.811562229Z"
    }
   }
  },
  {
   "cell_type": "code",
   "execution_count": 62,
   "outputs": [
    {
     "name": "stdout",
     "output_type": "stream",
     "text": [
      "<class 'pandas.core.series.Series'>\n",
      "RangeIndex: 8693 entries, 0 to 8692\n",
      "Series name: Age\n",
      "Non-Null Count  Dtype \n",
      "--------------  ----- \n",
      "8514 non-null   object\n",
      "dtypes: object(1)\n",
      "memory usage: 68.0+ KB\n"
     ]
    }
   ],
   "source": [
    "df.Age.info()"
   ],
   "metadata": {
    "collapsed": false,
    "ExecuteTime": {
     "end_time": "2023-05-24T15:04:22.156967881Z",
     "start_time": "2023-05-24T15:04:22.027599441Z"
    }
   }
  },
  {
   "cell_type": "code",
   "execution_count": 63,
   "outputs": [],
   "source": [
    "# Age str -> float\n",
    "df[\"Age\"] = df[\"Age\"].astype(\"float64\")"
   ],
   "metadata": {
    "collapsed": false,
    "ExecuteTime": {
     "end_time": "2023-05-24T15:04:23.152125718Z",
     "start_time": "2023-05-24T15:04:23.098092601Z"
    }
   }
  },
  {
   "cell_type": "code",
   "execution_count": 64,
   "outputs": [
    {
     "data": {
      "text/plain": "0       False\n1       False\n2       False\n3       False\n4       False\n        ...  \n8688    False\n8689    False\n8690    False\n8691    False\n8692    False\nName: Age, Length: 8693, dtype: bool"
     },
     "execution_count": 64,
     "metadata": {},
     "output_type": "execute_result"
    }
   ],
   "source": [
    "# Check not float values\n",
    "df[\"Age\"].isna()"
   ],
   "metadata": {
    "collapsed": false,
    "ExecuteTime": {
     "end_time": "2023-05-24T15:04:26.561524408Z",
     "start_time": "2023-05-24T15:04:26.419862441Z"
    }
   }
  },
  {
   "cell_type": "code",
   "execution_count": 65,
   "outputs": [],
   "source": [
    "# Calculate mean value and replace False\n",
    "med_val = df[\"Age\"].mean()\n",
    "df[\"Age\"] = df[\"Age\"].fillna(med_val)"
   ],
   "metadata": {
    "collapsed": false,
    "ExecuteTime": {
     "end_time": "2023-05-24T15:04:27.840698299Z",
     "start_time": "2023-05-24T15:04:27.754273358Z"
    }
   }
  },
  {
   "cell_type": "code",
   "execution_count": 66,
   "outputs": [
    {
     "data": {
      "text/plain": "28.827930467465354"
     },
     "execution_count": 66,
     "metadata": {},
     "output_type": "execute_result"
    }
   ],
   "source": [
    "df[\"Age\"].mean()"
   ],
   "metadata": {
    "collapsed": false,
    "ExecuteTime": {
     "end_time": "2023-05-24T15:04:29.980886188Z",
     "start_time": "2023-05-24T15:04:29.920074069Z"
    }
   }
  },
  {
   "cell_type": "code",
   "execution_count": 67,
   "outputs": [
    {
     "name": "stdout",
     "output_type": "stream",
     "text": [
      "<class 'pandas.core.frame.DataFrame'>\n",
      "RangeIndex: 8693 entries, 0 to 8692\n",
      "Data columns (total 16 columns):\n",
      " #   Column        Non-Null Count  Dtype  \n",
      "---  ------        --------------  -----  \n",
      " 0   HomePlanet    8693 non-null   int64  \n",
      " 1   CryoSleep     8693 non-null   int64  \n",
      " 2   Destination   8693 non-null   int64  \n",
      " 3   Age           8693 non-null   float64\n",
      " 4   VIP           8693 non-null   int64  \n",
      " 5   RoomService   8693 non-null   int64  \n",
      " 6   FoodCourt     8693 non-null   int64  \n",
      " 7   ShoppingMall  8693 non-null   int64  \n",
      " 8   Spa           8693 non-null   int64  \n",
      " 9   VRDeck        8693 non-null   int64  \n",
      " 10  Name          8493 non-null   object \n",
      " 11  Transported   8693 non-null   int64  \n",
      " 12  Company       8693 non-null   int64  \n",
      " 13  Number        8693 non-null   int64  \n",
      " 14  Deck          8693 non-null   int64  \n",
      " 15  Side          8693 non-null   int64  \n",
      "dtypes: float64(1), int64(14), object(1)\n",
      "memory usage: 1.1+ MB\n"
     ]
    }
   ],
   "source": [
    "df.info()\n",
    "# Looks good"
   ],
   "metadata": {
    "collapsed": false,
    "ExecuteTime": {
     "end_time": "2023-05-24T15:04:31.020953292Z",
     "start_time": "2023-05-24T15:04:30.945030497Z"
    }
   }
  },
  {
   "cell_type": "markdown",
   "source": [],
   "metadata": {
    "collapsed": false
   }
  },
  {
   "cell_type": "markdown",
   "source": [
    "<b>Simple try to amalyse data and make conclusions</b>"
   ],
   "metadata": {
    "collapsed": false
   }
  },
  {
   "cell_type": "code",
   "execution_count": 68,
   "outputs": [
    {
     "data": {
      "text/plain": "      HomePlanet  CryoSleep  Destination   Age  VIP  RoomService  FoodCourt  \\\n0              1          0            0  39.0    0            0          0   \n1              0          0            0  24.0    0            1          1   \n2              1          0            0  58.0    1            1          1   \n3              1          0            0  33.0    0            0          1   \n4              0          0            0  16.0    0            1          1   \n...          ...        ...          ...   ...  ...          ...        ...   \n8688           1          0            1  41.0    1            0          1   \n8689           0          1            2  18.0    0            0          0   \n8690           0          0            0  26.0    0            0          0   \n8691           1          0            1  32.0    0            0          1   \n8692           1          0            0  44.0    0            1          1   \n\n      ShoppingMall  Spa  VRDeck               Name  Transported  Company  \\\n0                0    0       0    Maham Ofracculy            0        0   \n1                1    1       1       Juanna Vines            1        0   \n2                0    1       1      Altark Susent            0        1   \n3                1    1       1       Solam Susent            0        1   \n4                1    1       1  Willy Santantines            1        0   \n...            ...  ...     ...                ...          ...      ...   \n8688             0    1       1  Gravior Noxnuther            0        0   \n8689             0    0       0    Kurta Mondalley            0        0   \n8690             1    1       0       Fayey Connon            1        0   \n8691             0    1       1   Celeon Hontichre            0        1   \n8692             0    0       1   Propsh Hontichre            1        1   \n\n      Number  Deck  Side  \n0          0     1     1  \n1          0     5     0  \n2          1     0     0  \n3          1     0     0  \n4          0     5     0  \n...      ...   ...   ...  \n8688       0     0     1  \n8689       0     6     0  \n8690       0     6     0  \n8691       1     4     0  \n8692       1     4     0  \n\n[8693 rows x 16 columns]",
      "text/html": "<div>\n<style scoped>\n    .dataframe tbody tr th:only-of-type {\n        vertical-align: middle;\n    }\n\n    .dataframe tbody tr th {\n        vertical-align: top;\n    }\n\n    .dataframe thead th {\n        text-align: right;\n    }\n</style>\n<table border=\"1\" class=\"dataframe\">\n  <thead>\n    <tr style=\"text-align: right;\">\n      <th></th>\n      <th>HomePlanet</th>\n      <th>CryoSleep</th>\n      <th>Destination</th>\n      <th>Age</th>\n      <th>VIP</th>\n      <th>RoomService</th>\n      <th>FoodCourt</th>\n      <th>ShoppingMall</th>\n      <th>Spa</th>\n      <th>VRDeck</th>\n      <th>Name</th>\n      <th>Transported</th>\n      <th>Company</th>\n      <th>Number</th>\n      <th>Deck</th>\n      <th>Side</th>\n    </tr>\n  </thead>\n  <tbody>\n    <tr>\n      <th>0</th>\n      <td>1</td>\n      <td>0</td>\n      <td>0</td>\n      <td>39.0</td>\n      <td>0</td>\n      <td>0</td>\n      <td>0</td>\n      <td>0</td>\n      <td>0</td>\n      <td>0</td>\n      <td>Maham Ofracculy</td>\n      <td>0</td>\n      <td>0</td>\n      <td>0</td>\n      <td>1</td>\n      <td>1</td>\n    </tr>\n    <tr>\n      <th>1</th>\n      <td>0</td>\n      <td>0</td>\n      <td>0</td>\n      <td>24.0</td>\n      <td>0</td>\n      <td>1</td>\n      <td>1</td>\n      <td>1</td>\n      <td>1</td>\n      <td>1</td>\n      <td>Juanna Vines</td>\n      <td>1</td>\n      <td>0</td>\n      <td>0</td>\n      <td>5</td>\n      <td>0</td>\n    </tr>\n    <tr>\n      <th>2</th>\n      <td>1</td>\n      <td>0</td>\n      <td>0</td>\n      <td>58.0</td>\n      <td>1</td>\n      <td>1</td>\n      <td>1</td>\n      <td>0</td>\n      <td>1</td>\n      <td>1</td>\n      <td>Altark Susent</td>\n      <td>0</td>\n      <td>1</td>\n      <td>1</td>\n      <td>0</td>\n      <td>0</td>\n    </tr>\n    <tr>\n      <th>3</th>\n      <td>1</td>\n      <td>0</td>\n      <td>0</td>\n      <td>33.0</td>\n      <td>0</td>\n      <td>0</td>\n      <td>1</td>\n      <td>1</td>\n      <td>1</td>\n      <td>1</td>\n      <td>Solam Susent</td>\n      <td>0</td>\n      <td>1</td>\n      <td>1</td>\n      <td>0</td>\n      <td>0</td>\n    </tr>\n    <tr>\n      <th>4</th>\n      <td>0</td>\n      <td>0</td>\n      <td>0</td>\n      <td>16.0</td>\n      <td>0</td>\n      <td>1</td>\n      <td>1</td>\n      <td>1</td>\n      <td>1</td>\n      <td>1</td>\n      <td>Willy Santantines</td>\n      <td>1</td>\n      <td>0</td>\n      <td>0</td>\n      <td>5</td>\n      <td>0</td>\n    </tr>\n    <tr>\n      <th>...</th>\n      <td>...</td>\n      <td>...</td>\n      <td>...</td>\n      <td>...</td>\n      <td>...</td>\n      <td>...</td>\n      <td>...</td>\n      <td>...</td>\n      <td>...</td>\n      <td>...</td>\n      <td>...</td>\n      <td>...</td>\n      <td>...</td>\n      <td>...</td>\n      <td>...</td>\n      <td>...</td>\n    </tr>\n    <tr>\n      <th>8688</th>\n      <td>1</td>\n      <td>0</td>\n      <td>1</td>\n      <td>41.0</td>\n      <td>1</td>\n      <td>0</td>\n      <td>1</td>\n      <td>0</td>\n      <td>1</td>\n      <td>1</td>\n      <td>Gravior Noxnuther</td>\n      <td>0</td>\n      <td>0</td>\n      <td>0</td>\n      <td>0</td>\n      <td>1</td>\n    </tr>\n    <tr>\n      <th>8689</th>\n      <td>0</td>\n      <td>1</td>\n      <td>2</td>\n      <td>18.0</td>\n      <td>0</td>\n      <td>0</td>\n      <td>0</td>\n      <td>0</td>\n      <td>0</td>\n      <td>0</td>\n      <td>Kurta Mondalley</td>\n      <td>0</td>\n      <td>0</td>\n      <td>0</td>\n      <td>6</td>\n      <td>0</td>\n    </tr>\n    <tr>\n      <th>8690</th>\n      <td>0</td>\n      <td>0</td>\n      <td>0</td>\n      <td>26.0</td>\n      <td>0</td>\n      <td>0</td>\n      <td>0</td>\n      <td>1</td>\n      <td>1</td>\n      <td>0</td>\n      <td>Fayey Connon</td>\n      <td>1</td>\n      <td>0</td>\n      <td>0</td>\n      <td>6</td>\n      <td>0</td>\n    </tr>\n    <tr>\n      <th>8691</th>\n      <td>1</td>\n      <td>0</td>\n      <td>1</td>\n      <td>32.0</td>\n      <td>0</td>\n      <td>0</td>\n      <td>1</td>\n      <td>0</td>\n      <td>1</td>\n      <td>1</td>\n      <td>Celeon Hontichre</td>\n      <td>0</td>\n      <td>1</td>\n      <td>1</td>\n      <td>4</td>\n      <td>0</td>\n    </tr>\n    <tr>\n      <th>8692</th>\n      <td>1</td>\n      <td>0</td>\n      <td>0</td>\n      <td>44.0</td>\n      <td>0</td>\n      <td>1</td>\n      <td>1</td>\n      <td>0</td>\n      <td>0</td>\n      <td>1</td>\n      <td>Propsh Hontichre</td>\n      <td>1</td>\n      <td>1</td>\n      <td>1</td>\n      <td>4</td>\n      <td>0</td>\n    </tr>\n  </tbody>\n</table>\n<p>8693 rows × 16 columns</p>\n</div>"
     },
     "execution_count": 68,
     "metadata": {},
     "output_type": "execute_result"
    }
   ],
   "source": [
    "# Final table\n",
    "df"
   ],
   "metadata": {
    "collapsed": false,
    "ExecuteTime": {
     "end_time": "2023-05-24T15:04:36.202374047Z",
     "start_time": "2023-05-24T15:04:36.040892486Z"
    }
   }
  },
  {
   "cell_type": "code",
   "execution_count": 69,
   "outputs": [
    {
     "data": {
      "text/plain": "            Transported\nHomePlanet             \n0                  2054\n1                  1404\n2                   920",
      "text/html": "<div>\n<style scoped>\n    .dataframe tbody tr th:only-of-type {\n        vertical-align: middle;\n    }\n\n    .dataframe tbody tr th {\n        vertical-align: top;\n    }\n\n    .dataframe thead th {\n        text-align: right;\n    }\n</style>\n<table border=\"1\" class=\"dataframe\">\n  <thead>\n    <tr style=\"text-align: right;\">\n      <th></th>\n      <th>Transported</th>\n    </tr>\n    <tr>\n      <th>HomePlanet</th>\n      <th></th>\n    </tr>\n  </thead>\n  <tbody>\n    <tr>\n      <th>0</th>\n      <td>2054</td>\n    </tr>\n    <tr>\n      <th>1</th>\n      <td>1404</td>\n    </tr>\n    <tr>\n      <th>2</th>\n      <td>920</td>\n    </tr>\n  </tbody>\n</table>\n</div>"
     },
     "execution_count": 69,
     "metadata": {},
     "output_type": "execute_result"
    }
   ],
   "source": [
    "# Looking for dependence between HomePlanet and survival\n",
    "df[[\"HomePlanet\", \"Transported\"]].groupby(\"HomePlanet\").agg(\"sum\")"
   ],
   "metadata": {
    "collapsed": false,
    "ExecuteTime": {
     "end_time": "2023-05-24T15:04:37.397030011Z",
     "start_time": "2023-05-24T15:04:37.275801134Z"
    }
   }
  },
  {
   "cell_type": "code",
   "execution_count": 70,
   "outputs": [
    {
     "data": {
      "text/plain": "0    4803\n1    2131\n2    1759\nName: HomePlanet, dtype: int64"
     },
     "execution_count": 70,
     "metadata": {},
     "output_type": "execute_result"
    }
   ],
   "source": [
    "df.HomePlanet.value_counts()"
   ],
   "metadata": {
    "collapsed": false,
    "ExecuteTime": {
     "end_time": "2023-05-24T15:04:38.470501632Z",
     "start_time": "2023-05-24T15:04:38.406007121Z"
    }
   }
  },
  {
   "cell_type": "markdown",
   "source": [
    "No obvious dependence between home planet and survival rate\n",
    "50% of survivals for each planet"
   ],
   "metadata": {
    "collapsed": false
   }
  },
  {
   "cell_type": "code",
   "execution_count": 71,
   "outputs": [
    {
     "data": {
      "text/plain": "           Transported\nCryoSleep             \n0                 1895\n1                 2483",
      "text/html": "<div>\n<style scoped>\n    .dataframe tbody tr th:only-of-type {\n        vertical-align: middle;\n    }\n\n    .dataframe tbody tr th {\n        vertical-align: top;\n    }\n\n    .dataframe thead th {\n        text-align: right;\n    }\n</style>\n<table border=\"1\" class=\"dataframe\">\n  <thead>\n    <tr style=\"text-align: right;\">\n      <th></th>\n      <th>Transported</th>\n    </tr>\n    <tr>\n      <th>CryoSleep</th>\n      <th></th>\n    </tr>\n  </thead>\n  <tbody>\n    <tr>\n      <th>0</th>\n      <td>1895</td>\n    </tr>\n    <tr>\n      <th>1</th>\n      <td>2483</td>\n    </tr>\n  </tbody>\n</table>\n</div>"
     },
     "execution_count": 71,
     "metadata": {},
     "output_type": "execute_result"
    }
   ],
   "source": [
    "# Looking for dependence between cryo sleep and survival\n",
    "df[[\"CryoSleep\", \"Transported\"]].groupby(\"CryoSleep\").agg(\"sum\")"
   ],
   "metadata": {
    "collapsed": false,
    "ExecuteTime": {
     "end_time": "2023-05-24T15:04:40.404903858Z",
     "start_time": "2023-05-24T15:04:40.238984530Z"
    }
   }
  },
  {
   "cell_type": "code",
   "execution_count": 72,
   "outputs": [
    {
     "data": {
      "text/plain": "0    5656\n1    3037\nName: CryoSleep, dtype: int64"
     },
     "execution_count": 72,
     "metadata": {},
     "output_type": "execute_result"
    }
   ],
   "source": [
    "df.CryoSleep.value_counts()"
   ],
   "metadata": {
    "collapsed": false,
    "ExecuteTime": {
     "end_time": "2023-05-24T15:04:41.652111878Z",
     "start_time": "2023-05-24T15:04:41.567665366Z"
    }
   }
  },
  {
   "cell_type": "markdown",
   "source": [
    "Survival percentage is higher for passengers who were in cryo sleep"
   ],
   "metadata": {
    "collapsed": false
   }
  },
  {
   "cell_type": "code",
   "execution_count": 73,
   "outputs": [
    {
     "data": {
      "text/plain": "             Transported\nDestination             \n0                   2879\n1                   1098\n2                    401",
      "text/html": "<div>\n<style scoped>\n    .dataframe tbody tr th:only-of-type {\n        vertical-align: middle;\n    }\n\n    .dataframe tbody tr th {\n        vertical-align: top;\n    }\n\n    .dataframe thead th {\n        text-align: right;\n    }\n</style>\n<table border=\"1\" class=\"dataframe\">\n  <thead>\n    <tr style=\"text-align: right;\">\n      <th></th>\n      <th>Transported</th>\n    </tr>\n    <tr>\n      <th>Destination</th>\n      <th></th>\n    </tr>\n  </thead>\n  <tbody>\n    <tr>\n      <th>0</th>\n      <td>2879</td>\n    </tr>\n    <tr>\n      <th>1</th>\n      <td>1098</td>\n    </tr>\n    <tr>\n      <th>2</th>\n      <td>401</td>\n    </tr>\n  </tbody>\n</table>\n</div>"
     },
     "execution_count": 73,
     "metadata": {},
     "output_type": "execute_result"
    }
   ],
   "source": [
    "df[[\"Destination\", \"Transported\"]].groupby(\"Destination\").agg(\"sum\")"
   ],
   "metadata": {
    "collapsed": false,
    "ExecuteTime": {
     "end_time": "2023-05-24T15:04:44.547088998Z",
     "start_time": "2023-05-24T15:04:44.360321158Z"
    }
   }
  },
  {
   "cell_type": "code",
   "execution_count": 74,
   "outputs": [
    {
     "data": {
      "text/plain": "0    6097\n1    1800\n2     796\nName: Destination, dtype: int64"
     },
     "execution_count": 74,
     "metadata": {},
     "output_type": "execute_result"
    }
   ],
   "source": [
    "df.Destination.value_counts()"
   ],
   "metadata": {
    "collapsed": false,
    "ExecuteTime": {
     "end_time": "2023-05-24T15:04:45.714587296Z",
     "start_time": "2023-05-24T15:04:45.565498020Z"
    }
   }
  },
  {
   "cell_type": "markdown",
   "source": [
    "No obvious dependency but looks like passengers who travel to planets 1 and 2 have slightly higher chances"
   ],
   "metadata": {
    "collapsed": false
   }
  },
  {
   "cell_type": "code",
   "execution_count": 75,
   "outputs": [
    {
     "data": {
      "text/plain": "     Transported\nVIP             \n0           4302\n1             76",
      "text/html": "<div>\n<style scoped>\n    .dataframe tbody tr th:only-of-type {\n        vertical-align: middle;\n    }\n\n    .dataframe tbody tr th {\n        vertical-align: top;\n    }\n\n    .dataframe thead th {\n        text-align: right;\n    }\n</style>\n<table border=\"1\" class=\"dataframe\">\n  <thead>\n    <tr style=\"text-align: right;\">\n      <th></th>\n      <th>Transported</th>\n    </tr>\n    <tr>\n      <th>VIP</th>\n      <th></th>\n    </tr>\n  </thead>\n  <tbody>\n    <tr>\n      <th>0</th>\n      <td>4302</td>\n    </tr>\n    <tr>\n      <th>1</th>\n      <td>76</td>\n    </tr>\n  </tbody>\n</table>\n</div>"
     },
     "execution_count": 75,
     "metadata": {},
     "output_type": "execute_result"
    }
   ],
   "source": [
    "df[[\"VIP\", \"Transported\"]].groupby(\"VIP\").agg(\"sum\")"
   ],
   "metadata": {
    "collapsed": false,
    "ExecuteTime": {
     "end_time": "2023-05-24T15:04:47.651449573Z",
     "start_time": "2023-05-24T15:04:47.480113068Z"
    }
   }
  },
  {
   "cell_type": "code",
   "execution_count": 76,
   "outputs": [
    {
     "data": {
      "text/plain": "0    8494\n1     199\nName: VIP, dtype: int64"
     },
     "execution_count": 76,
     "metadata": {},
     "output_type": "execute_result"
    }
   ],
   "source": [
    "df.VIP.value_counts()"
   ],
   "metadata": {
    "collapsed": false,
    "ExecuteTime": {
     "end_time": "2023-05-24T15:04:48.645288678Z",
     "start_time": "2023-05-24T15:04:48.587820714Z"
    }
   }
  },
  {
   "cell_type": "markdown",
   "source": [
    "No obvious dependency between VIP and regular passengers survival rate"
   ],
   "metadata": {
    "collapsed": false
   }
  },
  {
   "cell_type": "code",
   "execution_count": 77,
   "outputs": [
    {
     "data": {
      "text/plain": "             Transported\nRoomService             \n0                   3615\n1                    763",
      "text/html": "<div>\n<style scoped>\n    .dataframe tbody tr th:only-of-type {\n        vertical-align: middle;\n    }\n\n    .dataframe tbody tr th {\n        vertical-align: top;\n    }\n\n    .dataframe thead th {\n        text-align: right;\n    }\n</style>\n<table border=\"1\" class=\"dataframe\">\n  <thead>\n    <tr style=\"text-align: right;\">\n      <th></th>\n      <th>Transported</th>\n    </tr>\n    <tr>\n      <th>RoomService</th>\n      <th></th>\n    </tr>\n  </thead>\n  <tbody>\n    <tr>\n      <th>0</th>\n      <td>3615</td>\n    </tr>\n    <tr>\n      <th>1</th>\n      <td>763</td>\n    </tr>\n  </tbody>\n</table>\n</div>"
     },
     "execution_count": 77,
     "metadata": {},
     "output_type": "execute_result"
    }
   ],
   "source": [
    "df[[\"RoomService\", \"Transported\"]].groupby(\"RoomService\").agg(\"sum\")"
   ],
   "metadata": {
    "collapsed": false,
    "ExecuteTime": {
     "end_time": "2023-05-24T15:04:50.584839729Z",
     "start_time": "2023-05-24T15:04:50.438731983Z"
    }
   }
  },
  {
   "cell_type": "code",
   "execution_count": 78,
   "outputs": [
    {
     "data": {
      "text/plain": "0    5758\n1    2935\nName: RoomService, dtype: int64"
     },
     "execution_count": 78,
     "metadata": {},
     "output_type": "execute_result"
    }
   ],
   "source": [
    "df.RoomService.value_counts()"
   ],
   "metadata": {
    "collapsed": false,
    "ExecuteTime": {
     "end_time": "2023-05-24T15:04:51.498205976Z",
     "start_time": "2023-05-24T15:04:51.259366963Z"
    }
   }
  },
  {
   "cell_type": "markdown",
   "source": [
    "Passengers who didn't use room service have higher survival rate"
   ],
   "metadata": {
    "collapsed": false
   }
  },
  {
   "cell_type": "code",
   "execution_count": 79,
   "outputs": [
    {
     "data": {
      "text/plain": "           Transported\nFoodCourt             \n0                 3323\n1                 1055",
      "text/html": "<div>\n<style scoped>\n    .dataframe tbody tr th:only-of-type {\n        vertical-align: middle;\n    }\n\n    .dataframe tbody tr th {\n        vertical-align: top;\n    }\n\n    .dataframe thead th {\n        text-align: right;\n    }\n</style>\n<table border=\"1\" class=\"dataframe\">\n  <thead>\n    <tr style=\"text-align: right;\">\n      <th></th>\n      <th>Transported</th>\n    </tr>\n    <tr>\n      <th>FoodCourt</th>\n      <th></th>\n    </tr>\n  </thead>\n  <tbody>\n    <tr>\n      <th>0</th>\n      <td>3323</td>\n    </tr>\n    <tr>\n      <th>1</th>\n      <td>1055</td>\n    </tr>\n  </tbody>\n</table>\n</div>"
     },
     "execution_count": 79,
     "metadata": {},
     "output_type": "execute_result"
    }
   ],
   "source": [
    "df[[\"FoodCourt\", \"Transported\"]].groupby(\"FoodCourt\").agg(\"sum\")"
   ],
   "metadata": {
    "collapsed": false,
    "ExecuteTime": {
     "end_time": "2023-05-24T15:04:52.929848550Z",
     "start_time": "2023-05-24T15:04:52.742258178Z"
    }
   }
  },
  {
   "cell_type": "code",
   "execution_count": 80,
   "outputs": [
    {
     "data": {
      "text/plain": "0    5639\n1    3054\nName: FoodCourt, dtype: int64"
     },
     "execution_count": 80,
     "metadata": {},
     "output_type": "execute_result"
    }
   ],
   "source": [
    "df.FoodCourt.value_counts()"
   ],
   "metadata": {
    "collapsed": false,
    "ExecuteTime": {
     "end_time": "2023-05-24T15:04:53.656087958Z",
     "start_time": "2023-05-24T15:04:53.568368204Z"
    }
   }
  },
  {
   "cell_type": "markdown",
   "source": [
    "Passengers who used food court service have higher survival rate"
   ],
   "metadata": {
    "collapsed": false
   }
  },
  {
   "cell_type": "code",
   "execution_count": 81,
   "outputs": [
    {
     "data": {
      "text/plain": "     Transported\nSpa             \n0           3494\n1            884",
      "text/html": "<div>\n<style scoped>\n    .dataframe tbody tr th:only-of-type {\n        vertical-align: middle;\n    }\n\n    .dataframe tbody tr th {\n        vertical-align: top;\n    }\n\n    .dataframe thead th {\n        text-align: right;\n    }\n</style>\n<table border=\"1\" class=\"dataframe\">\n  <thead>\n    <tr style=\"text-align: right;\">\n      <th></th>\n      <th>Transported</th>\n    </tr>\n    <tr>\n      <th>Spa</th>\n      <th></th>\n    </tr>\n  </thead>\n  <tbody>\n    <tr>\n      <th>0</th>\n      <td>3494</td>\n    </tr>\n    <tr>\n      <th>1</th>\n      <td>884</td>\n    </tr>\n  </tbody>\n</table>\n</div>"
     },
     "execution_count": 81,
     "metadata": {},
     "output_type": "execute_result"
    }
   ],
   "source": [
    "df[[\"Spa\", \"Transported\"]].groupby(\"Spa\").agg(\"sum\")"
   ],
   "metadata": {
    "collapsed": false,
    "ExecuteTime": {
     "end_time": "2023-05-24T15:04:55.265379298Z",
     "start_time": "2023-05-24T15:04:55.163405765Z"
    }
   }
  },
  {
   "cell_type": "code",
   "execution_count": 82,
   "outputs": [
    {
     "data": {
      "text/plain": "0    5507\n1    3186\nName: Spa, dtype: int64"
     },
     "execution_count": 82,
     "metadata": {},
     "output_type": "execute_result"
    }
   ],
   "source": [
    "df.Spa.value_counts()"
   ],
   "metadata": {
    "collapsed": false,
    "ExecuteTime": {
     "end_time": "2023-05-24T15:04:56.086488402Z",
     "start_time": "2023-05-24T15:04:55.951498485Z"
    }
   }
  },
  {
   "cell_type": "markdown",
   "source": [
    "Passengers who didn't use spa service have much higher survival rate"
   ],
   "metadata": {
    "collapsed": false
   }
  },
  {
   "cell_type": "code",
   "execution_count": 83,
   "outputs": [
    {
     "data": {
      "text/plain": "        Transported\nVRDeck             \n0              3549\n1               829",
      "text/html": "<div>\n<style scoped>\n    .dataframe tbody tr th:only-of-type {\n        vertical-align: middle;\n    }\n\n    .dataframe tbody tr th {\n        vertical-align: top;\n    }\n\n    .dataframe thead th {\n        text-align: right;\n    }\n</style>\n<table border=\"1\" class=\"dataframe\">\n  <thead>\n    <tr style=\"text-align: right;\">\n      <th></th>\n      <th>Transported</th>\n    </tr>\n    <tr>\n      <th>VRDeck</th>\n      <th></th>\n    </tr>\n  </thead>\n  <tbody>\n    <tr>\n      <th>0</th>\n      <td>3549</td>\n    </tr>\n    <tr>\n      <th>1</th>\n      <td>829</td>\n    </tr>\n  </tbody>\n</table>\n</div>"
     },
     "execution_count": 83,
     "metadata": {},
     "output_type": "execute_result"
    }
   ],
   "source": [
    "df[[\"VRDeck\", \"Transported\"]].groupby(\"VRDeck\").agg(\"sum\")"
   ],
   "metadata": {
    "collapsed": false,
    "ExecuteTime": {
     "end_time": "2023-05-24T15:04:57.761255804Z",
     "start_time": "2023-05-24T15:04:57.600980668Z"
    }
   }
  },
  {
   "cell_type": "code",
   "execution_count": 84,
   "outputs": [
    {
     "data": {
      "text/plain": "0    5683\n1    3010\nName: VRDeck, dtype: int64"
     },
     "execution_count": 84,
     "metadata": {},
     "output_type": "execute_result"
    }
   ],
   "source": [
    "df.VRDeck.value_counts()"
   ],
   "metadata": {
    "collapsed": false,
    "ExecuteTime": {
     "end_time": "2023-05-24T15:04:58.698703863Z",
     "start_time": "2023-05-24T15:04:58.509797200Z"
    }
   }
  },
  {
   "cell_type": "markdown",
   "source": [
    "Passengers who didn't use VRDeck service have much higher survival rate"
   ],
   "metadata": {
    "collapsed": false
   }
  },
  {
   "cell_type": "code",
   "execution_count": 85,
   "outputs": [
    {
     "data": {
      "text/plain": "         Transported\nCompany             \n0               2174\n1               2204",
      "text/html": "<div>\n<style scoped>\n    .dataframe tbody tr th:only-of-type {\n        vertical-align: middle;\n    }\n\n    .dataframe tbody tr th {\n        vertical-align: top;\n    }\n\n    .dataframe thead th {\n        text-align: right;\n    }\n</style>\n<table border=\"1\" class=\"dataframe\">\n  <thead>\n    <tr style=\"text-align: right;\">\n      <th></th>\n      <th>Transported</th>\n    </tr>\n    <tr>\n      <th>Company</th>\n      <th></th>\n    </tr>\n  </thead>\n  <tbody>\n    <tr>\n      <th>0</th>\n      <td>2174</td>\n    </tr>\n    <tr>\n      <th>1</th>\n      <td>2204</td>\n    </tr>\n  </tbody>\n</table>\n</div>"
     },
     "execution_count": 85,
     "metadata": {},
     "output_type": "execute_result"
    }
   ],
   "source": [
    "df[[\"Company\", \"Transported\"]].groupby(\"Company\").agg(\"sum\")"
   ],
   "metadata": {
    "collapsed": false,
    "ExecuteTime": {
     "end_time": "2023-05-24T15:05:00.486857900Z",
     "start_time": "2023-05-24T15:05:00.261690286Z"
    }
   }
  },
  {
   "cell_type": "code",
   "execution_count": 86,
   "outputs": [
    {
     "data": {
      "text/plain": "0    4805\n1    3888\nName: Company, dtype: int64"
     },
     "execution_count": 86,
     "metadata": {},
     "output_type": "execute_result"
    }
   ],
   "source": [
    "df.Company.value_counts()"
   ],
   "metadata": {
    "collapsed": false,
    "ExecuteTime": {
     "end_time": "2023-05-24T15:05:01.332259326Z",
     "start_time": "2023-05-24T15:05:01.174466731Z"
    }
   }
  },
  {
   "cell_type": "markdown",
   "source": [
    "No obvious dependency: passengers without company survived slightly more often"
   ],
   "metadata": {
    "collapsed": false
   }
  },
  {
   "cell_type": "code",
   "execution_count": 87,
   "outputs": [],
   "source": [
    "# check dependency between nu,ber of group and survival rate\n",
    "survived = df[[\"Number\", \"Transported\"]].groupby(\"Number\").agg(\"sum\")"
   ],
   "metadata": {
    "collapsed": false,
    "ExecuteTime": {
     "end_time": "2023-05-24T15:05:03.025670987Z",
     "start_time": "2023-05-24T15:05:02.954886274Z"
    }
   }
  },
  {
   "cell_type": "code",
   "execution_count": 88,
   "outputs": [],
   "source": [
    "all_pas = df.Number.value_counts()"
   ],
   "metadata": {
    "collapsed": false,
    "ExecuteTime": {
     "end_time": "2023-05-24T15:05:03.781429986Z",
     "start_time": "2023-05-24T15:05:03.712328562Z"
    }
   }
  },
  {
   "cell_type": "code",
   "execution_count": 89,
   "outputs": [
    {
     "name": "stdout",
     "output_type": "stream",
     "text": [
      "[45.24, 53.8, 59.31, 64.08, 59.25, 61.49, 54.11, 39.42]\n"
     ]
    }
   ],
   "source": [
    "# check percentage\n",
    "result = []\n",
    "for i in range(8):\n",
    "    percent = round((survived[\"Transported\"][i] / all_pas[i] * 100), 2)\n",
    "    result.append(percent)\n",
    "\n",
    "print(result)"
   ],
   "metadata": {
    "collapsed": false,
    "ExecuteTime": {
     "end_time": "2023-05-24T15:05:04.544782916Z",
     "start_time": "2023-05-24T15:05:04.415585952Z"
    }
   }
  },
  {
   "cell_type": "markdown",
   "source": [
    "No obvious dependency between number of group and survival rate"
   ],
   "metadata": {
    "collapsed": false
   }
  },
  {
   "cell_type": "code",
   "execution_count": 90,
   "outputs": [],
   "source": [
    "# Check Deck/survival dependency\n",
    "survived = df[[\"Deck\", \"Transported\"]].groupby(\"Deck\").agg(\"sum\")\n",
    "all_pas = df.Deck.value_counts()"
   ],
   "metadata": {
    "collapsed": false,
    "ExecuteTime": {
     "end_time": "2023-05-24T15:05:05.988189301Z",
     "start_time": "2023-05-24T15:05:05.931656995Z"
    }
   }
  },
  {
   "cell_type": "code",
   "execution_count": 91,
   "outputs": [
    {
     "name": "stdout",
     "output_type": "stream",
     "text": [
      "[49.61, 73.43, 68.01, 43.31, 35.73, 44.36, 51.62]\n"
     ]
    }
   ],
   "source": [
    "result = []\n",
    "for i in range(7):\n",
    "    percent = round((survived[\"Transported\"][i] / all_pas[i] * 100), 2)\n",
    "    result.append(percent)\n",
    "\n",
    "print(result)"
   ],
   "metadata": {
    "collapsed": false,
    "ExecuteTime": {
     "end_time": "2023-05-24T15:05:06.645638989Z",
     "start_time": "2023-05-24T15:05:06.572801456Z"
    }
   }
  },
  {
   "cell_type": "markdown",
   "source": [
    "Passengers on deck B survived more often"
   ],
   "metadata": {
    "collapsed": false
   }
  },
  {
   "cell_type": "code",
   "execution_count": 92,
   "outputs": [
    {
     "data": {
      "text/plain": "      Transported\nSide             \n0            2480\n1            1898",
      "text/html": "<div>\n<style scoped>\n    .dataframe tbody tr th:only-of-type {\n        vertical-align: middle;\n    }\n\n    .dataframe tbody tr th {\n        vertical-align: top;\n    }\n\n    .dataframe thead th {\n        text-align: right;\n    }\n</style>\n<table border=\"1\" class=\"dataframe\">\n  <thead>\n    <tr style=\"text-align: right;\">\n      <th></th>\n      <th>Transported</th>\n    </tr>\n    <tr>\n      <th>Side</th>\n      <th></th>\n    </tr>\n  </thead>\n  <tbody>\n    <tr>\n      <th>0</th>\n      <td>2480</td>\n    </tr>\n    <tr>\n      <th>1</th>\n      <td>1898</td>\n    </tr>\n  </tbody>\n</table>\n</div>"
     },
     "execution_count": 92,
     "metadata": {},
     "output_type": "execute_result"
    }
   ],
   "source": [
    "# Side/survival dependency\n",
    "df[[\"Side\", \"Transported\"]].groupby(\"Side\").agg(\"sum\")"
   ],
   "metadata": {
    "collapsed": false,
    "ExecuteTime": {
     "end_time": "2023-05-24T15:05:08.089938830Z",
     "start_time": "2023-05-24T15:05:07.907522924Z"
    }
   }
  },
  {
   "cell_type": "code",
   "execution_count": 93,
   "outputs": [
    {
     "data": {
      "text/plain": "0    4487\n1    4206\nName: Side, dtype: int64"
     },
     "execution_count": 93,
     "metadata": {},
     "output_type": "execute_result"
    }
   ],
   "source": [
    "df.Side.value_counts()"
   ],
   "metadata": {
    "collapsed": false,
    "ExecuteTime": {
     "end_time": "2023-05-24T15:05:09.012043817Z",
     "start_time": "2023-05-24T15:05:08.743157672Z"
    }
   }
  },
  {
   "cell_type": "code",
   "execution_count": 94,
   "outputs": [
    {
     "name": "stdout",
     "output_type": "stream",
     "text": [
      "[55.27, 45.13]\n"
     ]
    }
   ],
   "source": [
    "survived = df[[\"Side\", \"Transported\"]].groupby(\"Side\").agg(\"sum\")\n",
    "all_pas = df.Side.value_counts()\n",
    "\n",
    "result = []\n",
    "for i in range(2):\n",
    "    percent = round((survived[\"Transported\"][i] / all_pas[i] * 100), 2)\n",
    "    result.append(percent)\n",
    "\n",
    "print(result)"
   ],
   "metadata": {
    "collapsed": false,
    "ExecuteTime": {
     "end_time": "2023-05-24T15:05:10.156357679Z",
     "start_time": "2023-05-24T15:05:10.063154662Z"
    }
   }
  },
  {
   "cell_type": "markdown",
   "source": [
    "Passengers on P side survived slightly more often"
   ],
   "metadata": {
    "collapsed": false
   }
  },
  {
   "cell_type": "markdown",
   "source": [
    "**Observations**\n",
    "1. No obvious dependence between home planet and survival rate. Approx. 50% of survivals for each planet\n",
    "2. Survival percentage is higher for passengers who were in cryo sleep\n",
    "3. No obvious dependency but looks like passengers who travel to planets 1 and 2 have slightly higher chances\n",
    "4. No obvious dependency between VIP and regular passengers survival rate\n",
    "5. Passengers who didn't use room service have higher survival rate\n",
    "6. Passengers who used food court service have higher survival rate\n",
    "7. Passengers who didn't use spa service have much higher survival rate\n",
    "8. Passengers who didn’t use VRDeck service have much higher survival rate\n",
    "9. No obvious dependency: passengers without company survived slightly more often\n",
    "10. No obvious dependency between number of group and survival rate\n",
    "11. Passengers on deck B survived more often\n",
    "12. Passengers on P side survived slightly more often"
   ],
   "metadata": {
    "collapsed": false
   }
  },
  {
   "cell_type": "code",
   "execution_count": null,
   "outputs": [],
   "source": [],
   "metadata": {
    "collapsed": false
   }
  }
 ],
 "metadata": {
  "kernelspec": {
   "display_name": "Python 3",
   "language": "python",
   "name": "python3"
  },
  "language_info": {
   "codemirror_mode": {
    "name": "ipython",
    "version": 2
   },
   "file_extension": ".py",
   "mimetype": "text/x-python",
   "name": "python",
   "nbconvert_exporter": "python",
   "pygments_lexer": "ipython2",
   "version": "2.7.6"
  }
 },
 "nbformat": 4,
 "nbformat_minor": 0
}
