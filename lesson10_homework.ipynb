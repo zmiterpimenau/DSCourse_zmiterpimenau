{
 "cells": [
  {
   "cell_type": "code",
   "execution_count": 1,
   "outputs": [],
   "source": [
    "import numpy as np"
   ],
   "metadata": {
    "collapsed": false,
    "ExecuteTime": {
     "end_time": "2023-06-04T20:25:40.727687153Z",
     "start_time": "2023-06-04T20:25:40.632571209Z"
    }
   }
  },
  {
   "cell_type": "code",
   "execution_count": 2,
   "outputs": [],
   "source": [
    "# initiate variables\n",
    "scalar1 = 1\n",
    "scalar2 = 2\n",
    "np_scalar1 = np.array(scalar1)\n",
    "np_scalar2 = np.array(scalar2)\n",
    "\n",
    "vector1 = [1, 2, 3, 4]\n",
    "vector2 = [5, 6, 7, 8]\n",
    "np_vector1 = np.array(vector1)\n",
    "np_vector2 = np.array(vector2)\n",
    "\n",
    "matrix1 = [\n",
    "    [1, 2, 3, 4],\n",
    "    [5, 6, 7, 8]\n",
    "]\n",
    "matrix2 = [\n",
    "    [11, 12, 13, 14],\n",
    "    [15, 16, 17, 18]\n",
    "]\n",
    "np_matrix1 = np.array(matrix1)\n",
    "np_matrix2 = np.array(matrix2)"
   ],
   "metadata": {
    "collapsed": false,
    "ExecuteTime": {
     "end_time": "2023-06-04T20:25:42.127527525Z",
     "start_time": "2023-06-04T20:25:42.084985450Z"
    }
   }
  },
  {
   "cell_type": "markdown",
   "source": [
    "**ADD**"
   ],
   "metadata": {
    "collapsed": false
   }
  },
  {
   "cell_type": "markdown",
   "source": [
    "scalar + scalar"
   ],
   "metadata": {
    "collapsed": false
   }
  },
  {
   "cell_type": "code",
   "execution_count": 3,
   "outputs": [
    {
     "name": "stdout",
     "output_type": "stream",
     "text": [
      "3 3\n"
     ]
    }
   ],
   "source": [
    "# numpy\n",
    "np_res = np_scalar1 + np_scalar2\n",
    "\n",
    "# python\n",
    "py_res = scalar1 + scalar2\n",
    "\n",
    "print(np_res, py_res)"
   ],
   "metadata": {
    "collapsed": false,
    "ExecuteTime": {
     "end_time": "2023-06-04T20:25:44.070742333Z",
     "start_time": "2023-06-04T20:25:44.041194842Z"
    }
   }
  },
  {
   "cell_type": "markdown",
   "source": [
    "scalar + vector"
   ],
   "metadata": {
    "collapsed": false
   }
  },
  {
   "cell_type": "code",
   "execution_count": 4,
   "outputs": [
    {
     "name": "stdout",
     "output_type": "stream",
     "text": [
      "[2 3 4 5] [2, 3, 4, 5]\n"
     ]
    }
   ],
   "source": [
    "# numpy\n",
    "np_res = np_scalar1 + np_vector1\n",
    "\n",
    "# python\n",
    "def matsum_vector_scalar(vector, scalar):\n",
    "    return [v + scalar for v in vector]\n",
    "\n",
    "py_res = matsum_vector_scalar(vector1, scalar1)\n",
    "\n",
    "print(np_res, py_res)"
   ],
   "metadata": {
    "collapsed": false,
    "ExecuteTime": {
     "end_time": "2023-06-04T20:25:45.192377260Z",
     "start_time": "2023-06-04T20:25:45.165102139Z"
    }
   }
  },
  {
   "cell_type": "markdown",
   "source": [
    "scalar + matrix"
   ],
   "metadata": {
    "collapsed": false
   }
  },
  {
   "cell_type": "code",
   "execution_count": 5,
   "outputs": [
    {
     "name": "stdout",
     "output_type": "stream",
     "text": [
      "[[2 3 4 5]\n",
      " [6 7 8 9]] [[2, 3, 4, 5], [6, 7, 8, 9]]\n"
     ]
    }
   ],
   "source": [
    "# numpy\n",
    "np_res = np_scalar1 + np_matrix1\n",
    "\n",
    "# python\n",
    "def matsum_matrix_scalar(matrix, scalar):\n",
    "    return [[v + scalar for v in row] for row in matrix]\n",
    "\n",
    "py_res = matsum_matrix_scalar(matrix1, scalar1)\n",
    "\n",
    "print(np_res, py_res)"
   ],
   "metadata": {
    "collapsed": false,
    "ExecuteTime": {
     "end_time": "2023-06-04T20:25:46.331803923Z",
     "start_time": "2023-06-04T20:25:46.274755313Z"
    }
   }
  },
  {
   "cell_type": "markdown",
   "source": [
    "vector + vector"
   ],
   "metadata": {
    "collapsed": false
   }
  },
  {
   "cell_type": "code",
   "execution_count": 6,
   "outputs": [
    {
     "name": "stdout",
     "output_type": "stream",
     "text": [
      "[ 6  8 10 12] [6, 8, 10, 12]\n"
     ]
    }
   ],
   "source": [
    "# numpy\n",
    "np_res = np_vector1 + np_vector2\n",
    "\n",
    "# python\n",
    "def matsum_vector_vector(vector_first, vector_second):\n",
    "    result = []\n",
    "    for v_f, v_s in zip(vector_first, vector_second):\n",
    "        result.append(v_f + v_s)\n",
    "    return result\n",
    "\n",
    "py_res = matsum_vector_vector(vector1, vector2)\n",
    "\n",
    "print(np_res, py_res)"
   ],
   "metadata": {
    "collapsed": false,
    "ExecuteTime": {
     "end_time": "2023-06-04T20:25:47.521668867Z",
     "start_time": "2023-06-04T20:25:47.489236421Z"
    }
   }
  },
  {
   "cell_type": "markdown",
   "source": [
    "vector + matrix"
   ],
   "metadata": {
    "collapsed": false
   }
  },
  {
   "cell_type": "code",
   "execution_count": 7,
   "outputs": [
    {
     "name": "stdout",
     "output_type": "stream",
     "text": [
      "[[ 2  4  6  8]\n",
      " [ 6  8 10 12]] [[2, 4, 6, 8], [6, 8, 10, 12]]\n"
     ]
    }
   ],
   "source": [
    "# numpy\n",
    "np_res = np_vector1 + np_matrix1\n",
    "\n",
    "# python\n",
    "def matsum_vector_matrix(vector, matrix):\n",
    "    result = []\n",
    "    for row in matrix:\n",
    "        tmp = []\n",
    "        for vec, mat in zip(vector, row):\n",
    "            tmp.append(vec + mat)\n",
    "        result.append(tmp)\n",
    "    return result\n",
    "\n",
    "py_res = matsum_vector_matrix(vector1, matrix1)\n",
    "\n",
    "print(np_res, py_res)"
   ],
   "metadata": {
    "collapsed": false,
    "ExecuteTime": {
     "end_time": "2023-06-04T20:25:48.507364459Z",
     "start_time": "2023-06-04T20:25:48.481666052Z"
    }
   }
  },
  {
   "cell_type": "markdown",
   "source": [
    "matrix + matrix"
   ],
   "metadata": {
    "collapsed": false
   }
  },
  {
   "cell_type": "code",
   "execution_count": 8,
   "outputs": [
    {
     "name": "stdout",
     "output_type": "stream",
     "text": [
      "[[12 14 16 18]\n",
      " [20 22 24 26]] [[12, 14, 16, 18], [20, 22, 24, 26]]\n"
     ]
    }
   ],
   "source": [
    "# numpy\n",
    "np_res = np_matrix1 + np_matrix2\n",
    "\n",
    "# python\n",
    "def matsum_matrix_matrix(matrix_first, matrix_second):\n",
    "    result = []\n",
    "    for i in range(len(matrix_first)):\n",
    "        tmp = []\n",
    "        for j in range(len(matrix_first[i])):\n",
    "            tmp.append(matrix_first[i][j] + matrix_second[i][j])\n",
    "        result.append(tmp)\n",
    "    return result\n",
    "\n",
    "py_res = matsum_matrix_matrix(matrix1, matrix2)\n",
    "\n",
    "print(np_res, py_res)"
   ],
   "metadata": {
    "collapsed": false,
    "ExecuteTime": {
     "end_time": "2023-06-04T20:25:49.520874807Z",
     "start_time": "2023-06-04T20:25:49.493525988Z"
    }
   }
  },
  {
   "cell_type": "markdown",
   "source": [
    "**MULTIPLY**"
   ],
   "metadata": {
    "collapsed": false
   }
  },
  {
   "cell_type": "markdown",
   "source": [
    "scalar * scalar"
   ],
   "metadata": {
    "collapsed": false
   }
  },
  {
   "cell_type": "code",
   "execution_count": 9,
   "outputs": [
    {
     "name": "stdout",
     "output_type": "stream",
     "text": [
      "2 2\n"
     ]
    }
   ],
   "source": [
    "# numpy\n",
    "np_res = np.dot(np_scalar1, np_scalar2)\n",
    "\n",
    "# python\n",
    "py_res = scalar1 * scalar2\n",
    "\n",
    "print(np_res, py_res)"
   ],
   "metadata": {
    "collapsed": false,
    "ExecuteTime": {
     "end_time": "2023-06-04T20:25:51.341722627Z",
     "start_time": "2023-06-04T20:25:51.315684904Z"
    }
   }
  },
  {
   "cell_type": "markdown",
   "source": [
    "scalar * vector"
   ],
   "metadata": {
    "collapsed": false
   }
  },
  {
   "cell_type": "code",
   "execution_count": 10,
   "outputs": [
    {
     "name": "stdout",
     "output_type": "stream",
     "text": [
      "[1 2 3 4] [1, 2, 3, 4]\n"
     ]
    }
   ],
   "source": [
    "# numpy\n",
    "np_res = np.dot(np_scalar1, np_vector1)\n",
    "\n",
    "# python\n",
    "def matmul_vector_scalar(vector, scalar):\n",
    "    return [v * scalar for v in vector]\n",
    "\n",
    "py_res = matmul_vector_scalar(vector1, scalar1)\n",
    "\n",
    "print(np_res, py_res)"
   ],
   "metadata": {
    "collapsed": false,
    "ExecuteTime": {
     "end_time": "2023-06-04T20:25:52.443662788Z",
     "start_time": "2023-06-04T20:25:52.415745842Z"
    }
   }
  },
  {
   "cell_type": "markdown",
   "source": [
    "scalar * matrix"
   ],
   "metadata": {
    "collapsed": false
   }
  },
  {
   "cell_type": "code",
   "execution_count": 11,
   "outputs": [
    {
     "name": "stdout",
     "output_type": "stream",
     "text": [
      "[[1 2 3 4]\n",
      " [5 6 7 8]] [[1, 2, 3, 4], [5, 6, 7, 8]]\n"
     ]
    }
   ],
   "source": [
    "# numpy\n",
    "np_res = np.dot(np_scalar1, np_matrix1)\n",
    "\n",
    "# python\n",
    "def matmul_matrix_scalar(matrix, scalar):\n",
    "    return [[v * scalar for v in row] for row in matrix]\n",
    "\n",
    "py_res = matmul_matrix_scalar(matrix1, scalar1)\n",
    "\n",
    "print(np_res, py_res)"
   ],
   "metadata": {
    "collapsed": false,
    "ExecuteTime": {
     "end_time": "2023-06-04T20:25:53.538035947Z",
     "start_time": "2023-06-04T20:25:53.508007895Z"
    }
   }
  },
  {
   "cell_type": "markdown",
   "source": [
    "vector * vector"
   ],
   "metadata": {
    "collapsed": false
   }
  },
  {
   "cell_type": "code",
   "execution_count": 12,
   "outputs": [
    {
     "name": "stdout",
     "output_type": "stream",
     "text": [
      "70 70\n"
     ]
    }
   ],
   "source": [
    "# numpy\n",
    "np_res = np.dot(np_vector1, np_vector2)\n",
    "\n",
    "# python\n",
    "def matmul_vector_vector(vector_first, vector_second):\n",
    "    result = 0\n",
    "    for v_f, v_s in zip(vector_first, vector_second):\n",
    "        result += v_f * v_s\n",
    "    return result\n",
    "\n",
    "py_res = matmul_vector_vector(vector1, vector2)\n",
    "\n",
    "print(np_res, py_res)"
   ],
   "metadata": {
    "collapsed": false,
    "ExecuteTime": {
     "end_time": "2023-06-04T20:25:54.612276713Z",
     "start_time": "2023-06-04T20:25:54.583011209Z"
    }
   }
  },
  {
   "cell_type": "markdown",
   "source": [
    "vector * matrix"
   ],
   "metadata": {
    "collapsed": false
   }
  },
  {
   "cell_type": "code",
   "execution_count": 13,
   "outputs": [
    {
     "name": "stdout",
     "output_type": "stream",
     "text": [
      "[30 70] [30, 70]\n"
     ]
    }
   ],
   "source": [
    "# numpy\n",
    "np_res =  np.dot(np_matrix1, np_vector1)\n",
    "\n",
    "#python\n",
    "def matmul_vector_matrix(matrix, vector):\n",
    "    result = []\n",
    "    for row in matrix:\n",
    "        tmp = 0\n",
    "        for m_v, v in zip(row, vector):\n",
    "            tmp += m_v * v\n",
    "        result.append(tmp)\n",
    "    return result\n",
    "\n",
    "py_res = matmul_vector_matrix(matrix1, vector1)\n",
    "\n",
    "print(np_res, py_res)"
   ],
   "metadata": {
    "collapsed": false,
    "ExecuteTime": {
     "end_time": "2023-06-04T20:25:55.626369290Z",
     "start_time": "2023-06-04T20:25:55.601209536Z"
    }
   }
  },
  {
   "cell_type": "markdown",
   "source": [
    "matrix * matrix"
   ],
   "metadata": {
    "collapsed": false
   }
  },
  {
   "cell_type": "code",
   "execution_count": 14,
   "outputs": [
    {
     "data": {
      "text/plain": "[[1, 2, 3, 4], [5, 6, 7, 8]]"
     },
     "execution_count": 14,
     "metadata": {},
     "output_type": "execute_result"
    }
   ],
   "source": [
    "matrix1"
   ],
   "metadata": {
    "collapsed": false,
    "ExecuteTime": {
     "end_time": "2023-06-04T20:25:59.866825359Z",
     "start_time": "2023-06-04T20:25:59.787502475Z"
    }
   }
  },
  {
   "cell_type": "code",
   "execution_count": 15,
   "outputs": [],
   "source": [
    "def transposition(matrix):\n",
    "    matrixT = []\n",
    "    for j in range(len(matrix[0])):\n",
    "        tmp = []\n",
    "        for i in range(len(matrix)):\n",
    "            tmp.append(matrix[i][j])\n",
    "        matrixT.append(tmp)\n",
    "\n",
    "    return matrixT"
   ],
   "metadata": {
    "collapsed": false,
    "ExecuteTime": {
     "end_time": "2023-06-04T20:26:01.454639756Z",
     "start_time": "2023-06-04T20:26:01.424762160Z"
    }
   }
  },
  {
   "cell_type": "code",
   "execution_count": 16,
   "outputs": [
    {
     "data": {
      "text/plain": "[[1, 5], [2, 6], [3, 7], [4, 8]]"
     },
     "execution_count": 16,
     "metadata": {},
     "output_type": "execute_result"
    }
   ],
   "source": [
    "transposition(matrix1)"
   ],
   "metadata": {
    "collapsed": false,
    "ExecuteTime": {
     "end_time": "2023-06-04T20:26:02.768546368Z",
     "start_time": "2023-06-04T20:26:02.697899795Z"
    }
   }
  },
  {
   "cell_type": "code",
   "execution_count": 17,
   "outputs": [],
   "source": [
    "matrix3 = transposition(matrix2)"
   ],
   "metadata": {
    "collapsed": false,
    "ExecuteTime": {
     "end_time": "2023-06-04T20:26:03.682601092Z",
     "start_time": "2023-06-04T20:26:03.621091875Z"
    }
   }
  },
  {
   "cell_type": "code",
   "execution_count": 18,
   "outputs": [
    {
     "data": {
      "text/plain": "[[1, 2, 3, 4], [5, 6, 7, 8]]"
     },
     "execution_count": 18,
     "metadata": {},
     "output_type": "execute_result"
    }
   ],
   "source": [
    "matrix1"
   ],
   "metadata": {
    "collapsed": false,
    "ExecuteTime": {
     "end_time": "2023-06-04T20:26:04.533972306Z",
     "start_time": "2023-06-04T20:26:04.518461549Z"
    }
   }
  },
  {
   "cell_type": "code",
   "execution_count": 19,
   "outputs": [
    {
     "data": {
      "text/plain": "[[11, 12, 13, 14], [15, 16, 17, 18]]"
     },
     "execution_count": 19,
     "metadata": {},
     "output_type": "execute_result"
    }
   ],
   "source": [
    "matrix2"
   ],
   "metadata": {
    "collapsed": false,
    "ExecuteTime": {
     "end_time": "2023-06-04T20:26:05.311615972Z",
     "start_time": "2023-06-04T20:26:05.299162614Z"
    }
   }
  },
  {
   "cell_type": "code",
   "execution_count": 20,
   "outputs": [
    {
     "data": {
      "text/plain": "[[11, 15], [12, 16], [13, 17], [14, 18]]"
     },
     "execution_count": 20,
     "metadata": {},
     "output_type": "execute_result"
    }
   ],
   "source": [
    "matrix3"
   ],
   "metadata": {
    "collapsed": false,
    "ExecuteTime": {
     "end_time": "2023-06-04T20:26:06.016677031Z",
     "start_time": "2023-06-04T20:26:05.938883964Z"
    }
   }
  },
  {
   "cell_type": "code",
   "execution_count": 21,
   "outputs": [
    {
     "data": {
      "text/plain": "[[11, 12, 13, 14], [15, 16, 17, 18]]"
     },
     "execution_count": 21,
     "metadata": {},
     "output_type": "execute_result"
    }
   ],
   "source": [
    "matrix4 = transposition(matrix3)\n",
    "matrix4"
   ],
   "metadata": {
    "collapsed": false,
    "ExecuteTime": {
     "end_time": "2023-06-04T20:26:07.155958435Z",
     "start_time": "2023-06-04T20:26:07.140333390Z"
    }
   }
  },
  {
   "cell_type": "code",
   "execution_count": 22,
   "outputs": [
    {
     "name": "stdout",
     "output_type": "stream",
     "text": [
      "[[130 170]\n",
      " [330 434]] [[130, 170], [330, 434]]\n"
     ]
    }
   ],
   "source": [
    "# numpy\n",
    "np_res = np.dot(np_matrix1, np_matrix2.T)\n",
    "\n",
    "# python\n",
    "def matmul_matrix_matrix(matrix_first, matrix_second):\n",
    "    result = []\n",
    "    matrix_second = transposition(matrix_second)\n",
    "    for i in range(len(matrix_first)):\n",
    "        middle = []\n",
    "        for j in range(len(matrix_second)):\n",
    "            tmp = 0\n",
    "            for z in range(len(matrix_first[0])):\n",
    "                tmp += matrix_first[i][z] * matrix_second[j][z]\n",
    "            middle.append(tmp)\n",
    "        result.append(middle)\n",
    "    return result\n",
    "\n",
    "py_res = matmul_matrix_matrix(matrix1, matrix3)\n",
    "\n",
    "print(np_res, py_res)"
   ],
   "metadata": {
    "collapsed": false,
    "ExecuteTime": {
     "end_time": "2023-06-04T20:26:08.221769928Z",
     "start_time": "2023-06-04T20:26:08.142271124Z"
    }
   }
  },
  {
   "cell_type": "markdown",
   "source": [
    "**CALCULATOR**"
   ],
   "metadata": {
    "collapsed": false
   }
  },
  {
   "cell_type": "code",
   "execution_count": 23,
   "outputs": [],
   "source": [
    "def calculator(object1, object2, operation):\n",
    "    \"\"\"\n",
    "    This function can add or multiply two scalars, vectors and matrices.\n",
    "    Also, it can give a description of the error if action is not possible\n",
    "    object1: scalar (int) or vector (list) or matrix (list)\n",
    "    object2: scalar (int) or vector (list) or matrix (list)\n",
    "    operation: type of operation (add or multiply) -> str\n",
    "    return: int or list result depending on type of operation\n",
    "    \"\"\"\n",
    "\n",
    "    def type_checker(object):\n",
    "        \"\"\"\n",
    "        This functions checks type of input object: scalar/vector/matrix\n",
    "        object: int or list\n",
    "        return: type of object -> str, or error message\n",
    "        \"\"\"\n",
    "        if type(object) == int:\n",
    "            return \"scalar\"\n",
    "        elif type(object) != int and type(object[0]) == int:\n",
    "            return \"vector\"\n",
    "        elif type(object) != int and type(object) != list:\n",
    "            print(\"Wrong format\")\n",
    "        elif type(object) != int and type(object[0]) != int:\n",
    "            return \"matrix\"\n",
    "        else:\n",
    "            return \"Wrong format\"\n",
    "\n",
    "    def get_dims(object) -> list:\n",
    "        \"\"\"\n",
    "        This function is for gettingdims of object (vector or matrix)\n",
    "        object: vector or matrix -> list\n",
    "        return: tuple with object's dims\n",
    "        \"\"\"\n",
    "        if type_checker(object) == \"vector\":\n",
    "            dims = (len(object), 1)\n",
    "        elif type_checker(object) == \"matrix\":\n",
    "            dims = (len(object), len(object[0]))\n",
    "        else:\n",
    "            dims = \"Scalars don't have dims\"\n",
    "        return dims\n",
    "\n",
    "    def transposition(matrix) -> list:\n",
    "        \"\"\"\n",
    "        Transposition of matrix\n",
    "        matrix: list\n",
    "        return: transpositted matrix\n",
    "        \"\"\"\n",
    "        matrixT = []\n",
    "        for j in range(len(matrix[0])):\n",
    "            tmp = []\n",
    "            for i in range(len(matrix)):\n",
    "                tmp.append(matrix[i][j])\n",
    "            matrixT.append(tmp)\n",
    "        return matrixT\n",
    "\n",
    "    # calculation functions\n",
    "    def matsum_vector_scalar(vector, scalar):\n",
    "        return [v + scalar for v in vector]\n",
    "\n",
    "    def matsum_matrix_scalar(matrix, scalar):\n",
    "        return [[v + scalar for v in row] for row in matrix]\n",
    "\n",
    "    def matsum_vector_vector(vector_first, vector_second):\n",
    "        result = []\n",
    "        for v_f, v_s in zip(vector_first, vector_second):\n",
    "            result.append(v_f + v_s)\n",
    "        return result\n",
    "\n",
    "    def matsum_vector_matrix(vector, matrix):\n",
    "        result = []\n",
    "        for row in matrix:\n",
    "            tmp = []\n",
    "            for vec, mat in zip(vector, row):\n",
    "                tmp.append(vec + mat)\n",
    "            result.append(tmp)\n",
    "        return result\n",
    "\n",
    "    def matsum_matrix_matrix(matrix_first, matrix_second):\n",
    "        result = []\n",
    "        for i in range(len(matrix_first)):\n",
    "            tmp = []\n",
    "            for j in range(len(matrix_first[i])):\n",
    "                tmp.append(matrix_first[i][j] + matrix_second[i][j])\n",
    "            result.append(tmp)\n",
    "        return result\n",
    "\n",
    "    def matmul_vector_scalar(vector, scalar):\n",
    "        return [v * scalar for v in vector]\n",
    "\n",
    "    def matmul_matrix_scalar(matrix, scalar):\n",
    "        return [[v * scalar for v in row] for row in matrix]\n",
    "\n",
    "    def matmul_vector_vector(vector_first, vector_second):\n",
    "        result = 0\n",
    "        for v_f, v_s in zip(vector_first, vector_second):\n",
    "            result += v_f * v_s\n",
    "        return result\n",
    "\n",
    "    def matmul_vector_matrix(matrix, vector):\n",
    "        result = []\n",
    "        for row in matrix:\n",
    "            tmp = 0\n",
    "            for m_v, v in zip(row, vector):\n",
    "                tmp += m_v * v\n",
    "            result.append(tmp)\n",
    "        return result\n",
    "\n",
    "    def matmul_matrix_matrix(matrix_first, matrix_second):\n",
    "        result = []\n",
    "        matrix_second = transposition(matrix_second)\n",
    "        for i in range(len(matrix_first)):\n",
    "            middle = []\n",
    "            for j in range(len(matrix_second)):\n",
    "                tmp = 0\n",
    "                for z in range(len(matrix_first[0])):\n",
    "                    tmp += matrix_first[i][z] * matrix_second[j][z]\n",
    "                middle.append(tmp)\n",
    "            result.append(middle)\n",
    "        return result\n",
    "\n",
    "    # main body: checks operation, and if operation is possible\n",
    "    # returns final result\n",
    "    if operation == \"+\":\n",
    "        if type_checker(object1) == \"scalar\" and type_checker(object2) == \"scalar\":\n",
    "            result = object1 + object2\n",
    "\n",
    "        elif type_checker(object1) == \"scalar\" and type_checker(object2) == \"vector\":\n",
    "            result = matsum_vector_scalar(object2, object1)\n",
    "        elif type_checker(object1) == \"vector\" and type_checker(object2) == \"scalar\":\n",
    "            result = matsum_vector_scalar(object1, object2)\n",
    "\n",
    "        elif type_checker(object1) == \"scalar\" and type_checker(object2) == \"matrix\":\n",
    "            result = matsum_matrix_scalar(object2, object1)\n",
    "        elif type_checker(object1) == \"matrix\" and type_checker(object2) == \"scalar\":\n",
    "            result = matsum_matrix_scalar(object1, object2)\n",
    "\n",
    "\n",
    "        elif type_checker(object1) == \"vector\" and type_checker(object2) == \"vector\":\n",
    "            if get_dims(object1) == get_dims(object2):\n",
    "                result = matsum_vector_vector(object1, object2)\n",
    "            else:\n",
    "                result = \"I can't add vectors with different dims\"\n",
    "\n",
    "\n",
    "        elif type_checker(object1) == \"vector\" and type_checker(object2) == \"matrix\":\n",
    "            if get_dims(object1)[0] == get_dims(object2)[1]:\n",
    "                result = matsum_vector_matrix(object1, object2)\n",
    "            else:\n",
    "                result = \"I can't add vector and matrix with different dims\"\n",
    "        elif type_checker(object1) == \"matrix\" and type_checker(object2) == \"vector\":\n",
    "            if get_dims(object2)[0] == get_dims(object1)[1]:\n",
    "                result = matsum_vector_matrix(object2, object1)\n",
    "            else:\n",
    "                result = \"I can't add vector and matrix with different dims\"\n",
    "\n",
    "\n",
    "        elif type_checker(object1) == \"matrix\" and type_checker(object2) == \"matrix\":\n",
    "            if get_dims(object1) == get_dims(object2):\n",
    "                result = matsum_matrix_matrix(object1, object2)\n",
    "            else:\n",
    "                result = \"I can't add matrices with different dims\"\n",
    "\n",
    "\n",
    "    elif operation == \"*\":\n",
    "        if type_checker(object1) == \"scalar\" and type_checker(object2) == \"scalar\":\n",
    "            result = object1 * object2\n",
    "\n",
    "        elif type_checker(object1) == \"scalar\" and type_checker(object2) == \"vector\":\n",
    "            result = matmul_vector_scalar(object2, object1)\n",
    "        elif type_checker(object1) == \"vector\" and type_checker(object2) == \"scalar\":\n",
    "            result = matmul_vector_scalar(object1, object2)\n",
    "\n",
    "        elif type_checker(object1) == \"scalar\" and type_checker(object2) == \"matrix\":\n",
    "            result = matmul_matrix_scalar(object2, object1)\n",
    "        elif type_checker(object1) == \"matrix\" and type_checker(object2) == \"scalar\":\n",
    "            result = matmul_matrix_scalar(object1, object2)\n",
    "\n",
    "        elif type_checker(object1) == \"vector\" and type_checker(object2) == \"vector\":\n",
    "            if get_dims(object1) == get_dims(object2):\n",
    "                result = matmul_vector_vector(object1, object2)\n",
    "            else:\n",
    "                result = \"I can't multiply vectors with different dims\"\n",
    "\n",
    "        elif type_checker(object1) == \"matrix\" and type_checker(object2) == \"vector\":\n",
    "            if get_dims(object1)[1] == get_dims(object2)[0]:\n",
    "                result = matmul_vector_matrix(object1, object2)\n",
    "            else:\n",
    "                result = \"I can't multiply vector and matrix with different dims\"\n",
    "        elif type_checker(object1) == \"vector\" and type_checker(object2) == \"matrix\":\n",
    "            if get_dims(object1)[0] == get_dims(object2)[1]:\n",
    "                result = f\"I can multiply these vector and matrix only if change their places\\n\" \\\n",
    "                         f\"{matmul_vector_matrix(object2, object1)}\"\n",
    "            else:\n",
    "                result = \"I can't multiply vector and matrix with different dims\"\n",
    "\n",
    "        elif type_checker(object1) == \"matrix\" and type_checker(object2) == \"matrix\":\n",
    "            if get_dims(object1)[1] == get_dims(object2)[0]:\n",
    "                result = matmul_matrix_matrix(object1, object2)\n",
    "            elif get_dims(object1)[0] == get_dims(object2)[1]:\n",
    "                result = f\"I can multiply these matrixes only if change their places\\n\" \\\n",
    "                         f\"{matmul_matrix_matrix(object2, object1)}\"\n",
    "            elif get_dims(object1)[1] == get_dims(object2)[1]:\n",
    "                result = f\"I can multiply these matrices only if transposit the second one\\n\" \\\n",
    "                         f\"{matmul_matrix_matrix(object1, transposition(object2))}\"\n",
    "            else:\n",
    "                result = \"I can't multiply matrices with different dims\"\n",
    "\n",
    "        else:\n",
    "           result = \"Wrong format\"\n",
    "\n",
    "    else:\n",
    "        result = \"I don't know this operation\"\n",
    "\n",
    "    return result"
   ],
   "metadata": {
    "collapsed": false,
    "ExecuteTime": {
     "end_time": "2023-06-04T20:26:25.233952575Z",
     "start_time": "2023-06-04T20:26:25.114994267Z"
    }
   }
  },
  {
   "cell_type": "code",
   "execution_count": 24,
   "outputs": [
    {
     "name": "stdout",
     "output_type": "stream",
     "text": [
      "[[130 330]\n",
      " [170 434]]\n"
     ]
    }
   ],
   "source": [
    "res = np.dot(np_matrix2, np_matrix1.T)\n",
    "print(res)"
   ],
   "metadata": {
    "collapsed": false,
    "ExecuteTime": {
     "end_time": "2023-06-04T20:26:26.509742368Z",
     "start_time": "2023-06-04T20:26:26.494283203Z"
    }
   }
  },
  {
   "cell_type": "code",
   "execution_count": 25,
   "outputs": [],
   "source": [
    "mat1 = [\n",
    "    [0, 1, 2, 3, 4, 5, 6, 7, 8, 9],\n",
    "    [9, 8, 7, 6, 5, 4, 3, 2, 1, 0],\n",
    "    [1, 1, 1, 1, 1, 1, 1, 1, 1, 1],\n",
    "    [0, 10, 20, 30, 40, 50, 60, 70, 80, 90]\n",
    "]\n",
    "mat2 = [\n",
    "    [0, 0],\n",
    "    [1, 1],\n",
    "    [2, 2],\n",
    "    [3, 3],\n",
    "    [4, 4],\n",
    "    [5, 5],\n",
    "    [6, 6],\n",
    "    [7, 7],\n",
    "    [8, 8],\n",
    "    [9, 9]\n",
    "]\n",
    "\n",
    "nmat1 = np.array(mat1)\n",
    "nmat2 = np.array(mat2)"
   ],
   "metadata": {
    "collapsed": false,
    "ExecuteTime": {
     "end_time": "2023-06-04T20:26:27.626905610Z",
     "start_time": "2023-06-04T20:26:27.538077049Z"
    }
   }
  },
  {
   "cell_type": "code",
   "execution_count": 26,
   "outputs": [
    {
     "data": {
      "text/plain": "array([[ 285,  285],\n       [ 120,  120],\n       [  45,   45],\n       [2850, 2850]])"
     },
     "execution_count": 26,
     "metadata": {},
     "output_type": "execute_result"
    }
   ],
   "source": [
    "np.dot(nmat1, nmat2)\n"
   ],
   "metadata": {
    "collapsed": false,
    "ExecuteTime": {
     "end_time": "2023-06-04T20:26:28.533844712Z",
     "start_time": "2023-06-04T20:26:28.445664057Z"
    }
   }
  },
  {
   "cell_type": "code",
   "execution_count": 27,
   "outputs": [
    {
     "data": {
      "text/plain": "[[285, 285], [120, 120], [45, 45], [2850, 2850]]"
     },
     "execution_count": 27,
     "metadata": {},
     "output_type": "execute_result"
    }
   ],
   "source": [
    "calculator(mat1, mat2, '*')"
   ],
   "metadata": {
    "collapsed": false,
    "ExecuteTime": {
     "end_time": "2023-06-04T20:26:29.750310565Z",
     "start_time": "2023-06-04T20:26:29.661135282Z"
    }
   }
  },
  {
   "cell_type": "code",
   "execution_count": 28,
   "outputs": [
    {
     "data": {
      "text/plain": "\"I don't know this operation\""
     },
     "execution_count": 28,
     "metadata": {},
     "output_type": "execute_result"
    }
   ],
   "source": [
    "calculator(mat1, mat2, '/')"
   ],
   "metadata": {
    "collapsed": false,
    "ExecuteTime": {
     "end_time": "2023-06-04T20:26:30.574692675Z",
     "start_time": "2023-06-04T20:26:30.529243028Z"
    }
   }
  },
  {
   "cell_type": "code",
   "execution_count": 29,
   "outputs": [
    {
     "ename": "ValueError",
     "evalue": "shapes (10,2) and (4,10) not aligned: 2 (dim 1) != 4 (dim 0)",
     "output_type": "error",
     "traceback": [
      "\u001B[0;31m---------------------------------------------------------------------------\u001B[0m",
      "\u001B[0;31mValueError\u001B[0m                                Traceback (most recent call last)",
      "Cell \u001B[0;32mIn[29], line 1\u001B[0m\n\u001B[0;32m----> 1\u001B[0m \u001B[43mnp\u001B[49m\u001B[38;5;241;43m.\u001B[39;49m\u001B[43mdot\u001B[49m\u001B[43m(\u001B[49m\u001B[43mmat2\u001B[49m\u001B[43m,\u001B[49m\u001B[43m \u001B[49m\u001B[43mmat1\u001B[49m\u001B[43m)\u001B[49m\n",
      "File \u001B[0;32m<__array_function__ internals>:200\u001B[0m, in \u001B[0;36mdot\u001B[0;34m(*args, **kwargs)\u001B[0m\n",
      "\u001B[0;31mValueError\u001B[0m: shapes (10,2) and (4,10) not aligned: 2 (dim 1) != 4 (dim 0)"
     ]
    }
   ],
   "source": [
    "np.dot(mat2, mat1)"
   ],
   "metadata": {
    "collapsed": false,
    "ExecuteTime": {
     "end_time": "2023-06-04T20:26:32.976714756Z",
     "start_time": "2023-06-04T20:26:31.449159398Z"
    }
   }
  },
  {
   "cell_type": "code",
   "execution_count": 30,
   "outputs": [
    {
     "name": "stdout",
     "output_type": "stream",
     "text": [
      "I can multiply these matrixes only if change their places\n",
      "[[285, 285], [120, 120], [45, 45], [2850, 2850]]\n"
     ]
    }
   ],
   "source": [
    "print(calculator(mat2, mat1, '*'))"
   ],
   "metadata": {
    "collapsed": false,
    "ExecuteTime": {
     "end_time": "2023-06-04T20:26:38.327162536Z",
     "start_time": "2023-06-04T20:26:38.311883719Z"
    }
   }
  },
  {
   "cell_type": "code",
   "execution_count": 31,
   "outputs": [
    {
     "name": "stdout",
     "output_type": "stream",
     "text": [
      "Wrong format\n",
      "Wrong format\n",
      "Wrong format\n",
      "Wrong format\n",
      "Wrong format\n",
      "Wrong format\n",
      "Wrong format\n",
      "Wrong format\n",
      "Wrong format\n"
     ]
    },
    {
     "data": {
      "text/plain": "'Wrong format'"
     },
     "execution_count": 31,
     "metadata": {},
     "output_type": "execute_result"
    }
   ],
   "source": [
    "calculator('a', mat1, '*')"
   ],
   "metadata": {
    "collapsed": false,
    "ExecuteTime": {
     "end_time": "2023-06-04T20:26:44.904603644Z",
     "start_time": "2023-06-04T20:26:44.858493882Z"
    }
   }
  },
  {
   "cell_type": "code",
   "execution_count": 32,
   "outputs": [
    {
     "data": {
      "text/plain": "2"
     },
     "execution_count": 32,
     "metadata": {},
     "output_type": "execute_result"
    }
   ],
   "source": [
    "calculator(1, 2, '*')"
   ],
   "metadata": {
    "collapsed": false,
    "ExecuteTime": {
     "end_time": "2023-06-04T20:26:45.940072197Z",
     "start_time": "2023-06-04T20:26:45.923279095Z"
    }
   }
  },
  {
   "cell_type": "code",
   "execution_count": 33,
   "outputs": [
    {
     "data": {
      "text/plain": "[[0, 1, 2, 3, 4, 5, 6, 7], [0, 1, 2, 3, 4, 5, 6, 7]]"
     },
     "execution_count": 33,
     "metadata": {},
     "output_type": "execute_result"
    }
   ],
   "source": [
    "new_mat1 = []\n",
    "for i in range(2):\n",
    "    tmp = []\n",
    "    for j in range(8):\n",
    "        tmp.append(j)\n",
    "    new_mat1.append(tmp)\n",
    "\n",
    "n_mat1 = np.array(new_mat1)\n",
    "new_mat1"
   ],
   "metadata": {
    "collapsed": false,
    "ExecuteTime": {
     "end_time": "2023-06-04T20:26:46.965963037Z",
     "start_time": "2023-06-04T20:26:46.883970962Z"
    }
   }
  },
  {
   "cell_type": "code",
   "execution_count": 34,
   "outputs": [
    {
     "data": {
      "text/plain": "[[0, 1], [0, 1], [0, 1], [0, 1], [0, 1], [0, 1], [0, 1], [0, 1]]"
     },
     "execution_count": 34,
     "metadata": {},
     "output_type": "execute_result"
    }
   ],
   "source": [
    "new_mat2 = []\n",
    "for i in range(8):\n",
    "    tmp = []\n",
    "    for j in range(2):\n",
    "        tmp.append(j)\n",
    "    new_mat2.append(tmp)\n",
    "\n",
    "n_mat2 = np.array(new_mat2)\n",
    "new_mat2"
   ],
   "metadata": {
    "collapsed": false,
    "ExecuteTime": {
     "end_time": "2023-06-04T20:26:47.994885675Z",
     "start_time": "2023-06-04T20:26:47.935647538Z"
    }
   }
  },
  {
   "cell_type": "code",
   "execution_count": 35,
   "outputs": [
    {
     "data": {
      "text/plain": "\"I can't add matrices with different dims\""
     },
     "execution_count": 35,
     "metadata": {},
     "output_type": "execute_result"
    }
   ],
   "source": [
    "calculator(new_mat1, new_mat2, '+')"
   ],
   "metadata": {
    "collapsed": false,
    "ExecuteTime": {
     "end_time": "2023-06-04T20:26:51.177252534Z",
     "start_time": "2023-06-04T20:26:51.165344555Z"
    }
   }
  },
  {
   "cell_type": "code",
   "execution_count": 36,
   "outputs": [
    {
     "ename": "ValueError",
     "evalue": "operands could not be broadcast together with shapes (2,8) (8,2) ",
     "output_type": "error",
     "traceback": [
      "\u001B[0;31m---------------------------------------------------------------------------\u001B[0m",
      "\u001B[0;31mValueError\u001B[0m                                Traceback (most recent call last)",
      "Cell \u001B[0;32mIn[36], line 1\u001B[0m\n\u001B[0;32m----> 1\u001B[0m \u001B[43mn_mat1\u001B[49m\u001B[43m \u001B[49m\u001B[38;5;241;43m+\u001B[39;49m\u001B[43m \u001B[49m\u001B[43mn_mat2\u001B[49m\n",
      "\u001B[0;31mValueError\u001B[0m: operands could not be broadcast together with shapes (2,8) (8,2) "
     ]
    }
   ],
   "source": [
    "n_mat1 + n_mat2"
   ],
   "metadata": {
    "collapsed": false,
    "ExecuteTime": {
     "end_time": "2023-06-04T20:26:56.701841857Z",
     "start_time": "2023-06-04T20:26:56.562724352Z"
    }
   }
  },
  {
   "cell_type": "code",
   "execution_count": 37,
   "outputs": [
    {
     "data": {
      "text/plain": "[[0, 2, 4, 6, 8, 10, 12, 14], [0, 2, 4, 6, 8, 10, 12, 14]]"
     },
     "execution_count": 37,
     "metadata": {},
     "output_type": "execute_result"
    }
   ],
   "source": [
    "calculator(new_mat1, new_mat1, '+')"
   ],
   "metadata": {
    "collapsed": false,
    "ExecuteTime": {
     "end_time": "2023-06-04T20:26:57.619840976Z",
     "start_time": "2023-06-04T20:26:57.606845348Z"
    }
   }
  },
  {
   "cell_type": "code",
   "execution_count": 38,
   "outputs": [
    {
     "data": {
      "text/plain": "array([[ 0,  2,  4,  6,  8, 10, 12, 14],\n       [ 0,  2,  4,  6,  8, 10, 12, 14]])"
     },
     "execution_count": 38,
     "metadata": {},
     "output_type": "execute_result"
    }
   ],
   "source": [
    "n_mat1 + n_mat1"
   ],
   "metadata": {
    "collapsed": false,
    "ExecuteTime": {
     "end_time": "2023-06-04T20:26:59.045799480Z",
     "start_time": "2023-06-04T20:26:59.029997368Z"
    }
   }
  },
  {
   "cell_type": "code",
   "execution_count": 39,
   "outputs": [
    {
     "data": {
      "text/plain": "[[0, 28], [0, 28]]"
     },
     "execution_count": 39,
     "metadata": {},
     "output_type": "execute_result"
    }
   ],
   "source": [
    "calculator(new_mat1, new_mat2, '*')"
   ],
   "metadata": {
    "collapsed": false,
    "ExecuteTime": {
     "end_time": "2023-06-04T20:27:00.826645343Z",
     "start_time": "2023-06-04T20:27:00.760536567Z"
    }
   }
  },
  {
   "cell_type": "code",
   "execution_count": 40,
   "outputs": [
    {
     "data": {
      "text/plain": "array([[ 0, 28],\n       [ 0, 28]])"
     },
     "execution_count": 40,
     "metadata": {},
     "output_type": "execute_result"
    }
   ],
   "source": [
    "np.dot(n_mat1, n_mat2)"
   ],
   "metadata": {
    "collapsed": false,
    "ExecuteTime": {
     "end_time": "2023-06-04T20:27:01.866262477Z",
     "start_time": "2023-06-04T20:27:01.807945699Z"
    }
   }
  },
  {
   "cell_type": "code",
   "execution_count": null,
   "outputs": [],
   "source": [],
   "metadata": {
    "collapsed": false
   }
  }
 ],
 "metadata": {
  "kernelspec": {
   "display_name": "Python 3",
   "language": "python",
   "name": "python3"
  },
  "language_info": {
   "codemirror_mode": {
    "name": "ipython",
    "version": 2
   },
   "file_extension": ".py",
   "mimetype": "text/x-python",
   "name": "python",
   "nbconvert_exporter": "python",
   "pygments_lexer": "ipython2",
   "version": "2.7.6"
  }
 },
 "nbformat": 4,
 "nbformat_minor": 0
}
