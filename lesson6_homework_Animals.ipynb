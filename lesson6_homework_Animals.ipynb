{
 "cells": [
  {
   "cell_type": "code",
   "execution_count": 1,
   "outputs": [],
   "source": [
    "import abc\n",
    "import time\n",
    "import datetime\n",
    "import random"
   ],
   "metadata": {
    "collapsed": false,
    "ExecuteTime": {
     "end_time": "2023-05-21T16:23:41.781829991Z",
     "start_time": "2023-05-21T16:23:41.776995094Z"
    }
   }
  },
  {
   "cell_type": "markdown",
   "source": [
    "**Parent class Animal**"
   ],
   "metadata": {
    "collapsed": false
   }
  },
  {
   "cell_type": "code",
   "execution_count": 2,
   "outputs": [],
   "source": [
    "class Animal(abc.ABC):\n",
    "\n",
    "    def __init__(self, name: str, sex: str, age: int, height: int, weight:int):\n",
    "        self.name = name\n",
    "        self.sex = sex\n",
    "        self.age = age\n",
    "        self.height = height\n",
    "        self.weight = weight\n",
    "\n",
    "    @abc.abstractmethod\n",
    "    def move(self) -> str:\n",
    "        pass\n",
    "\n",
    "    @abc.abstractmethod\n",
    "    def __eq__(self, other):\n",
    "        \"\"\"\n",
    "        Compare objects' (animals') species and sexes for reproduction purposes\n",
    "        :param other: another animal object\n",
    "        :return: flag integer\n",
    "        \"\"\"\n",
    "        pass\n",
    "\n",
    "    @abc.abstractmethod\n",
    "    def __str__(self):\n",
    "        pass"
   ],
   "metadata": {
    "collapsed": false,
    "ExecuteTime": {
     "end_time": "2023-05-21T16:23:43.942060924Z",
     "start_time": "2023-05-21T16:23:43.923299738Z"
    }
   }
  },
  {
   "cell_type": "markdown",
   "source": [
    "**Classes for functionality: Speed, Reproduction, Vet**"
   ],
   "metadata": {
    "collapsed": false
   }
  },
  {
   "cell_type": "code",
   "execution_count": 3,
   "outputs": [],
   "source": [
    "class Speed:\n",
    "\n",
    "    def __init__(self, weight: int, height: int, sex: str, age: int):\n",
    "        \"\"\"\n",
    "        This class calculates object's speed based on its params below.\n",
    "        self.__param_rate vars are protected since they are coefficients for final calculation.\n",
    "        Result of calculation is self.speed attribute\n",
    "        :param weight: object's weight in kg -> int\n",
    "        :param height: object's height in cm -> int\n",
    "        :param sex: object's sex (male or female) -> str\n",
    "        :param age: object's age in years -> int\n",
    "        \"\"\"\n",
    "        self.weight = weight\n",
    "        self.height = height\n",
    "        self.sex = sex\n",
    "        self.age = age\n",
    "        self.__sex_rate = 1 if self.sex.lower() == \"male\" else 0.9\n",
    "        self.__age_rate = self.__age_average_rate()\n",
    "        self.__speed_calc = lambda height, sex_rate, age_rate: round((height/100 * sex_rate * age_rate * 60), 2)\n",
    "        self.speed = self.__speed_calc(self.height, self.__sex_rate, self.__age_rate)\n",
    "\n",
    "    def __age_average_rate(self):\n",
    "        if self.age == 0:\n",
    "            age_rate = 0.1\n",
    "        elif 1 < self.age <= 5:\n",
    "            age_rate = 1\n",
    "        else:\n",
    "            age_rate = 0.7\n",
    "        return age_rate"
   ],
   "metadata": {
    "collapsed": false,
    "ExecuteTime": {
     "end_time": "2023-05-21T16:23:44.883140232Z",
     "start_time": "2023-05-21T16:23:44.854606447Z"
    }
   }
  },
  {
   "cell_type": "code",
   "execution_count": 4,
   "outputs": [],
   "source": [
    "class Reproduction:\n",
    "\n",
    "    @staticmethod\n",
    "    def create_new(first_animal, second_animal) -> object:\n",
    "        \"\"\"\n",
    "        First step is to perform check on reproduction compatibility.\\n\n",
    "        If check is successful - create a new object from two given.\\n\n",
    "        If not - error message.\n",
    "        :param first_animal: object with all attributes\n",
    "        :param second_animal: another object with all attributes\n",
    "        :return: a new animal object or error message\n",
    "        \"\"\"\n",
    "        output = ''\n",
    "        Flag = False\n",
    "        if (first_animal == second_animal) == 1:\n",
    "            output += f\"{first_animal.name} and {second_animal.name} can't have children\\n\" \\\n",
    "                      f\"They are different species: {first_animal.__class__.__name__.lower()} and \" \\\n",
    "                      f\"{second_animal.__class__.__name__.lower()}\"\n",
    "        elif (first_animal == second_animal) == 2:\n",
    "            output += f\"{first_animal.name} and {second_animal.name} can't have children\\n\" \\\n",
    "                      f\"They have the same sex.\"\n",
    "        elif first_animal.age > 7 or second_animal.age > 7:\n",
    "            old_animal = first_animal if first_animal.age > 7 else second_animal\n",
    "            output += f\"{first_animal.name} and {second_animal.name} can't have children\\n\" \\\n",
    "                      f\"{old_animal.name} is too old for it.\"\n",
    "        elif first_animal.age <= 1 or second_animal.age <= 1:\n",
    "            young_animal = first_animal if first_animal.age <= 1 else second_animal\n",
    "            output += f\"{first_animal.name} and {second_animal.name} can't have children\\n\" \\\n",
    "                      f\"{young_animal.name} is too young for it.\"\n",
    "        else:\n",
    "            animal_type = first_animal.__class__\n",
    "            output += f\"A child were born from {first_animal.name} \" \\\n",
    "                      f\"and {second_animal.name} at \" \\\n",
    "                      f\"{datetime.datetime.now().replace(microsecond=0)}\\n\" \\\n",
    "                      f\"Here it is:\"\n",
    "            name = first_animal.name[:int(len(first_animal.name)/2)] +\\\n",
    "                  second_animal.name[int(len(second_animal.name)/2):]\n",
    "            sexes = ['male', 'female']\n",
    "            sex = random.choice(sexes)\n",
    "            age = 0\n",
    "            height = int((first_animal.height + second_animal.height) / 10)\n",
    "            weight = int((first_animal.weight + second_animal.weight) / 40)\n",
    "            new_animal = animal_type(name, sex, age, height, weight)\n",
    "            Flag = True\n",
    "\n",
    "        print(output)\n",
    "        if Flag:\n",
    "            print(f\"Name: {new_animal.name}, \"\n",
    "                  f\"sex: {new_animal.sex}, \"\n",
    "                  f\"age: {new_animal.age} years old, \"\n",
    "                  f\"height: {new_animal.height} cm, \"\n",
    "                  f\"weight: {new_animal.weight} kg.\")\n",
    "            return new_animal\n"
   ],
   "metadata": {
    "collapsed": false,
    "ExecuteTime": {
     "end_time": "2023-05-21T16:23:45.404156423Z",
     "start_time": "2023-05-21T16:23:45.369848137Z"
    }
   }
  },
  {
   "cell_type": "code",
   "execution_count": 5,
   "outputs": [],
   "source": [
    "class Vet:\n",
    "\n",
    "\n",
    "    @staticmethod\n",
    "    def check_animal(animal: object) -> str:\n",
    "        \"\"\"\n",
    "        Returns text with results of animal's inspection\n",
    "        :param animal: input object to inspect\n",
    "        :return: str text with inspections result + save the same to the file\n",
    "        \"\"\"\n",
    "        \n",
    "        def collect_data(animal: object) -> list:\n",
    "            \"\"\"\n",
    "            Collect data for further output\n",
    "            :param animal: object\n",
    "            :return: list of characteristics\n",
    "            \"\"\"\n",
    "            analyses = []\n",
    "            \n",
    "            sex_output = \"He\" if animal.sex == \"male\" else \"She\"\n",
    "            analyses.append(sex_output)\n",
    "            \n",
    "            if animal.weight_rate == 1:\n",
    "                weight_output = \"Weight is perfect!\"\n",
    "            elif animal.weight_rate < 1:\n",
    "                weight_output = \"Weight is higher than normal. Need another diet\"\n",
    "            else:\n",
    "                weight_output = \"Weight is lower than normal. Need another diet\"\n",
    "            analyses.append(weight_output)\n",
    "\n",
    "            if animal.age > 7:\n",
    "                age_output = f\"{animal.name} can't have children -\" \\\n",
    "                          f\"{analyses[0]} is too old for it.\"\n",
    "            elif animal.age <= 1:\n",
    "                age_output = f\"{animal.name} can't have children -\" \\\n",
    "                          f\"{sex_output} is too young for it.\"\n",
    "            else:\n",
    "                age_output = f\"{animal.name} can have children\"\n",
    "            analyses.append(age_output)\n",
    "\n",
    "            return analyses\n",
    "\n",
    "\n",
    "        anamnesis = collect_data(animal)\n",
    "        test_result = f\"{animal.name} is a {animal.__class__.__name__.lower()}\\n\" \\\n",
    "                      f\"{anamnesis[0]} is {animal.age} years old, \" \\\n",
    "                      f\"{animal.height} cm tall, {animal.weight} kg.\\n\" \\\n",
    "                      f\"{anamnesis[1]}\\n{anamnesis[2]}\\n\" \\\n",
    "                      f\"Max speed {animal.speed} km/h\"\n",
    "\n",
    "        with open(\"./data/vet_check_results.txt\", \"a\") as file:\n",
    "            file.write(f\"START OF INSPRCTION\\n\"\n",
    "                       f\"{test_result}\\n\"\n",
    "                       f\"END OF INSPECTION\\n\\n\")\n",
    "\n",
    "        return test_result"
   ],
   "metadata": {
    "collapsed": false,
    "ExecuteTime": {
     "end_time": "2023-05-21T16:23:45.926403490Z",
     "start_time": "2023-05-21T16:23:45.890803695Z"
    }
   }
  },
  {
   "cell_type": "markdown",
   "source": [
    "**Decorators**"
   ],
   "metadata": {
    "collapsed": false
   }
  },
  {
   "cell_type": "code",
   "execution_count": 6,
   "outputs": [],
   "source": [
    "def function_time(func):\n",
    "    \"\"\"\n",
    "    Simple decorator to calculate time of function execution\n",
    "    :param func: function to check\n",
    "    :return: text message with float time number in ms\n",
    "    \"\"\"\n",
    "    def wrapper(*args):\n",
    "        start = time.time()\n",
    "        func(*args)\n",
    "        end = time.time()\n",
    "        result = float(round(((end - start) * 1000), 5))\n",
    "        return f\"<{func.__name__}> executed at \" \\\n",
    "               f\"{datetime.datetime.now().replace(microsecond=0)} in \" \\\n",
    "               f\"'{result} ms'\\n\\n\"\n",
    "    return wrapper\n",
    "\n",
    "    #return \"Function n: time of execution: t\""
   ],
   "metadata": {
    "collapsed": false,
    "ExecuteTime": {
     "end_time": "2023-05-21T16:23:46.799477007Z",
     "start_time": "2023-05-21T16:23:46.776558554Z"
    }
   }
  },
  {
   "cell_type": "code",
   "execution_count": 7,
   "outputs": [],
   "source": [
    "def print_result(func):\n",
    "    \"\"\"\n",
    "    Decorator to save function results in the file.\\n\n",
    "    Function result is what the input function returns.\n",
    "    :param func: input function\n",
    "    :return:result of the function are saved in the \"animal_move.txt\" file\n",
    "    \"\"\"\n",
    "    def wrapper(*args):\n",
    "        result = func(*args)\n",
    "        print(func(*args))\n",
    "        with open(\"./data/animal_move.txt\", \"a\") as file:\n",
    "            file.write(\n",
    "                f\"<{func.__name__}>: \"\n",
    "                f\"Executed at {datetime.datetime.now().replace(microsecond=0)}\\n\"\n",
    "                f\"Output result: '{result}'\\n\"\n",
    "            )\n",
    "    wrapper.__name__ = func.__name__\n",
    "    return wrapper"
   ],
   "metadata": {
    "collapsed": false,
    "ExecuteTime": {
     "end_time": "2023-05-21T16:23:47.338339971Z",
     "start_time": "2023-05-21T16:23:47.289035950Z"
    }
   }
  },
  {
   "cell_type": "markdown",
   "source": [
    "**Children classes: Dog, Cat, Horse**"
   ],
   "metadata": {
    "collapsed": false
   }
  },
  {
   "cell_type": "code",
   "execution_count": 8,
   "outputs": [],
   "source": [
    "class Dog(Animal):\n",
    "\n",
    "    def __init__(self, name: str, sex: str, age, height, weight):\n",
    "        super().__init__(name, sex, age, height, weight)\n",
    "        self.weight_rate = self.height / (self.weight * 2)\n",
    "        self.__speed_rate = 1\n",
    "        self.speed = Speed(self.weight, self.height, self.sex, self.age).speed * self.weight_rate * self.__speed_rate\n",
    "\n",
    "\n",
    "    @function_time\n",
    "    @print_result\n",
    "    def move(self, distance: int) -> str:\n",
    "        time.sleep(1)\n",
    "        movement_time = round((distance / self.speed), 2)\n",
    "        return f\"{self.__class__.__name__} {self.name} covers distance {distance} km in {movement_time} hours\\n\\n\"\n",
    "\n",
    "    def __eq__(self, other):\n",
    "        if self.__class__.__name__ != other.__class__.__name__:\n",
    "            return 1\n",
    "        elif self.sex == other.sex:\n",
    "            return 2\n",
    "        else:\n",
    "            return 0\n",
    "\n",
    "    def __str__(self):\n",
    "        return f\"<{self.name}> is object of class {self.__class__.__name__}\""
   ],
   "metadata": {
    "collapsed": false,
    "ExecuteTime": {
     "end_time": "2023-05-21T16:23:48.213363615Z",
     "start_time": "2023-05-21T16:23:48.163685442Z"
    }
   }
  },
  {
   "cell_type": "code",
   "execution_count": 9,
   "outputs": [],
   "source": [
    "class Cat(Animal):\n",
    "\n",
    "    def __init__(self, name: str, sex: str, age, height, weight):\n",
    "        super().__init__(name, sex, age, height, weight)\n",
    "        self.weight_rate = self.height / (self.weight * 2)\n",
    "        self.__speed_rate = 4\n",
    "        self.speed = Speed(self.weight, self.height, self.sex, self.age).speed * self.weight_rate * self.__speed_rate\n",
    "\n",
    "\n",
    "    @function_time\n",
    "    @print_result\n",
    "    def move(self, distance: int) -> str:\n",
    "        time.sleep(1)\n",
    "        movement_time = round((distance / self.speed), 2)\n",
    "        return f\"{self.__class__.__name__} {self.name} covers distance {distance} km in {movement_time} hours\\n\\n\"\n",
    "\n",
    "    def __eq__(self, other):\n",
    "        if self.__class__.__name__ != other.__class__.__name__:\n",
    "            return 1\n",
    "        elif self.sex == other.sex:\n",
    "            return 2\n",
    "        else:\n",
    "            return 0\n",
    "\n",
    "    def __str__(self):\n",
    "        return f\"<{self.name}> is object of class {self.__class__.__name__}\""
   ],
   "metadata": {
    "collapsed": false,
    "ExecuteTime": {
     "end_time": "2023-05-21T16:23:48.674495633Z",
     "start_time": "2023-05-21T16:23:48.647992436Z"
    }
   }
  },
  {
   "cell_type": "code",
   "execution_count": 10,
   "outputs": [],
   "source": [
    "class Horse(Animal):\n",
    "\n",
    "    def __init__(self, name: str, sex: str, age, height, weight):\n",
    "        super().__init__(name, sex, age, height, weight)\n",
    "        self.weight_rate = (self.height * 2) / self.weight\n",
    "        self.__speed_rate = 1\n",
    "        self.speed = Speed(self.weight, self.height, self.sex, self.age).speed * self.weight_rate * self.__speed_rate\n",
    "\n",
    "\n",
    "    @function_time\n",
    "    @print_result\n",
    "    def move(self, distance: int) -> str:\n",
    "        time.sleep(1)\n",
    "        movement_time = round((distance / self.speed), 2)\n",
    "        return f\"{self.__class__.__name__} {self.name} covers distance {distance} km in {movement_time} hours\\n\\n\"\n",
    "\n",
    "    def __eq__(self, other):\n",
    "        if self.__class__.__name__ != other.__class__.__name__:\n",
    "            return 1\n",
    "        elif self.sex == other.sex:\n",
    "            return 2\n",
    "        else:\n",
    "            return 0\n",
    "\n",
    "    def __str__(self):\n",
    "        return f\"<{self.name}> is object of class {self.__class__.__name__}\""
   ],
   "metadata": {
    "collapsed": false,
    "ExecuteTime": {
     "end_time": "2023-05-21T16:23:49.237045494Z",
     "start_time": "2023-05-21T16:23:49.183236733Z"
    }
   }
  },
  {
   "cell_type": "markdown",
   "source": [
    "**Check functionality:\n",
    "    - create object of different children\n",
    "    - use attribute .speed to check class Speed()\n",
    "    - perform move() function to check decorators**"
   ],
   "metadata": {
    "collapsed": false
   }
  },
  {
   "cell_type": "code",
   "execution_count": 11,
   "outputs": [],
   "source": [
    "dog = Dog(\"Rex\", \"male\", age=5, height=50, weight=25)"
   ],
   "metadata": {
    "collapsed": false,
    "ExecuteTime": {
     "end_time": "2023-05-21T16:23:50.153326045Z",
     "start_time": "2023-05-21T16:23:50.100428553Z"
    }
   }
  },
  {
   "cell_type": "code",
   "execution_count": 12,
   "outputs": [
    {
     "data": {
      "text/plain": "30.0"
     },
     "execution_count": 12,
     "metadata": {},
     "output_type": "execute_result"
    }
   ],
   "source": [
    "dog.speed"
   ],
   "metadata": {
    "collapsed": false,
    "ExecuteTime": {
     "end_time": "2023-05-21T16:23:50.987903951Z",
     "start_time": "2023-05-21T16:23:50.933467639Z"
    }
   }
  },
  {
   "cell_type": "code",
   "execution_count": 13,
   "outputs": [
    {
     "name": "stdout",
     "output_type": "stream",
     "text": [
      "Dog Rex covers distance 10 km in 0.33 hours\n",
      "\n",
      "\n"
     ]
    },
    {
     "data": {
      "text/plain": "\"<move> executed at 2023-05-21 19:23:54 in '2002.496 ms'\\n\\n\""
     },
     "execution_count": 13,
     "metadata": {},
     "output_type": "execute_result"
    }
   ],
   "source": [
    "dog.move(10)"
   ],
   "metadata": {
    "collapsed": false,
    "ExecuteTime": {
     "end_time": "2023-05-21T16:23:54.024957314Z",
     "start_time": "2023-05-21T16:23:52.002187687Z"
    }
   }
  },
  {
   "cell_type": "code",
   "execution_count": 14,
   "outputs": [],
   "source": [
    "cat = Cat(\"Garfield\", \"male\", age=3, height=20, weight=15)"
   ],
   "metadata": {
    "collapsed": false,
    "ExecuteTime": {
     "end_time": "2023-05-21T16:23:54.025352776Z",
     "start_time": "2023-05-21T16:23:54.019775273Z"
    }
   }
  },
  {
   "cell_type": "code",
   "execution_count": 15,
   "outputs": [
    {
     "data": {
      "text/plain": "32.0"
     },
     "execution_count": 15,
     "metadata": {},
     "output_type": "execute_result"
    }
   ],
   "source": [
    "cat.speed"
   ],
   "metadata": {
    "collapsed": false,
    "ExecuteTime": {
     "end_time": "2023-05-21T16:23:54.996062563Z",
     "start_time": "2023-05-21T16:23:54.940086772Z"
    }
   }
  },
  {
   "cell_type": "code",
   "execution_count": 16,
   "outputs": [
    {
     "name": "stdout",
     "output_type": "stream",
     "text": [
      "Cat Garfield covers distance 10 km in 0.31 hours\n",
      "\n",
      "\n"
     ]
    },
    {
     "data": {
      "text/plain": "\"<move> executed at 2023-05-21 19:23:57 in '2003.01194 ms'\\n\\n\""
     },
     "execution_count": 16,
     "metadata": {},
     "output_type": "execute_result"
    }
   ],
   "source": [
    "cat.move(10)"
   ],
   "metadata": {
    "collapsed": false,
    "ExecuteTime": {
     "end_time": "2023-05-21T16:23:57.549098440Z",
     "start_time": "2023-05-21T16:23:55.532597594Z"
    }
   }
  },
  {
   "cell_type": "code",
   "execution_count": 17,
   "outputs": [],
   "source": [
    "horse = Horse(\"Fasty\", \"male\", age=4, height=150, weight=300)"
   ],
   "metadata": {
    "collapsed": false,
    "ExecuteTime": {
     "end_time": "2023-05-21T16:23:58.442917972Z",
     "start_time": "2023-05-21T16:23:58.432346951Z"
    }
   }
  },
  {
   "cell_type": "code",
   "execution_count": 18,
   "outputs": [
    {
     "data": {
      "text/plain": "90.0"
     },
     "execution_count": 18,
     "metadata": {},
     "output_type": "execute_result"
    }
   ],
   "source": [
    "horse.speed"
   ],
   "metadata": {
    "collapsed": false,
    "ExecuteTime": {
     "end_time": "2023-05-21T16:23:58.983738834Z",
     "start_time": "2023-05-21T16:23:58.921283578Z"
    }
   }
  },
  {
   "cell_type": "code",
   "execution_count": 19,
   "outputs": [
    {
     "name": "stdout",
     "output_type": "stream",
     "text": [
      "Horse Fasty covers distance 10 km in 0.11 hours\n",
      "\n",
      "\n"
     ]
    },
    {
     "data": {
      "text/plain": "\"<move> executed at 2023-05-21 19:24:01 in '2001.75357 ms'\\n\\n\""
     },
     "execution_count": 19,
     "metadata": {},
     "output_type": "execute_result"
    }
   ],
   "source": [
    "horse.move(10)"
   ],
   "metadata": {
    "collapsed": false,
    "ExecuteTime": {
     "end_time": "2023-05-21T16:24:01.985637736Z",
     "start_time": "2023-05-21T16:23:59.966497241Z"
    }
   }
  },
  {
   "cell_type": "code",
   "execution_count": 20,
   "outputs": [],
   "source": [
    "dog2 = Dog(\"Jim\", \"male\", 4, 40, 20)"
   ],
   "metadata": {
    "collapsed": false,
    "ExecuteTime": {
     "end_time": "2023-05-21T16:24:02.711163190Z",
     "start_time": "2023-05-21T16:24:02.692433932Z"
    }
   }
  },
  {
   "cell_type": "code",
   "execution_count": 21,
   "outputs": [
    {
     "name": "stdout",
     "output_type": "stream",
     "text": [
      "Dog Jim covers distance 100 km in 4.17 hours\n",
      "\n",
      "\n"
     ]
    },
    {
     "data": {
      "text/plain": "\"<move> executed at 2023-05-21 19:24:05 in '2002.50578 ms'\\n\\n\""
     },
     "execution_count": 21,
     "metadata": {},
     "output_type": "execute_result"
    }
   ],
   "source": [
    "dog2.move(100)"
   ],
   "metadata": {
    "collapsed": false,
    "ExecuteTime": {
     "end_time": "2023-05-21T16:24:05.375795749Z",
     "start_time": "2023-05-21T16:24:03.359521757Z"
    }
   }
  },
  {
   "cell_type": "code",
   "execution_count": 22,
   "outputs": [],
   "source": [
    "dog3 = Dog(\"Jessie\", \"female\", 4, 40, 25)"
   ],
   "metadata": {
    "collapsed": false,
    "ExecuteTime": {
     "end_time": "2023-05-21T16:24:07.450592409Z",
     "start_time": "2023-05-21T16:24:07.404265155Z"
    }
   }
  },
  {
   "cell_type": "code",
   "execution_count": 23,
   "outputs": [
    {
     "name": "stdout",
     "output_type": "stream",
     "text": [
      "Dog Jessie covers distance 100 km in 5.79 hours\n",
      "\n",
      "\n"
     ]
    },
    {
     "data": {
      "text/plain": "\"<move> executed at 2023-05-21 19:24:10 in '2002.43974 ms'\\n\\n\""
     },
     "execution_count": 23,
     "metadata": {},
     "output_type": "execute_result"
    }
   ],
   "source": [
    "dog3.move(100)"
   ],
   "metadata": {
    "collapsed": false,
    "ExecuteTime": {
     "end_time": "2023-05-21T16:24:10.156121212Z",
     "start_time": "2023-05-21T16:24:08.142965834Z"
    }
   }
  },
  {
   "cell_type": "code",
   "execution_count": 24,
   "outputs": [],
   "source": [
    "dog4 = Dog(\"Issi\", \"female\", 1, 30, 15)"
   ],
   "metadata": {
    "collapsed": false,
    "ExecuteTime": {
     "end_time": "2023-05-21T16:24:14.108917124Z",
     "start_time": "2023-05-21T16:24:14.078009389Z"
    }
   }
  },
  {
   "cell_type": "code",
   "execution_count": 25,
   "outputs": [
    {
     "name": "stdout",
     "output_type": "stream",
     "text": [
      "Dog Issi covers distance 100 km in 8.82 hours\n",
      "\n",
      "\n"
     ]
    },
    {
     "data": {
      "text/plain": "\"<move> executed at 2023-05-21 19:24:16 in '2003.15094 ms'\\n\\n\""
     },
     "execution_count": 25,
     "metadata": {},
     "output_type": "execute_result"
    }
   ],
   "source": [
    "dog4.move(100)"
   ],
   "metadata": {
    "collapsed": false,
    "ExecuteTime": {
     "end_time": "2023-05-21T16:24:16.906479979Z",
     "start_time": "2023-05-21T16:24:14.885990551Z"
    }
   }
  },
  {
   "cell_type": "markdown",
   "source": [
    "**Check functionality:\n",
    "    - create Vet class object\n",
    "    - use method .check_animal to check some objects created before**"
   ],
   "metadata": {
    "collapsed": false
   }
  },
  {
   "cell_type": "code",
   "execution_count": 26,
   "outputs": [],
   "source": [
    "doctor = Vet()"
   ],
   "metadata": {
    "collapsed": false,
    "ExecuteTime": {
     "end_time": "2023-05-21T16:24:18.113158043Z",
     "start_time": "2023-05-21T16:24:18.083140692Z"
    }
   }
  },
  {
   "cell_type": "code",
   "execution_count": 27,
   "outputs": [
    {
     "data": {
      "text/plain": "'Rex is a dog\\nHe is 5 years old, 50 cm tall, 25 kg.\\nWeight is perfect!\\nRex can have children\\nMax speed 30.0 km/h'"
     },
     "execution_count": 27,
     "metadata": {},
     "output_type": "execute_result"
    }
   ],
   "source": [
    "doctor.check_animal(dog)"
   ],
   "metadata": {
    "collapsed": false,
    "ExecuteTime": {
     "end_time": "2023-05-21T16:24:18.614981650Z",
     "start_time": "2023-05-21T16:24:18.600580679Z"
    }
   }
  },
  {
   "cell_type": "code",
   "execution_count": 28,
   "outputs": [
    {
     "data": {
      "text/plain": "'Fasty is a horse\\nHe is 4 years old, 150 cm tall, 300 kg.\\nWeight is perfect!\\nFasty can have children\\nMax speed 90.0 km/h'"
     },
     "execution_count": 28,
     "metadata": {},
     "output_type": "execute_result"
    }
   ],
   "source": [
    "doctor.check_animal(horse)"
   ],
   "metadata": {
    "collapsed": false,
    "ExecuteTime": {
     "end_time": "2023-05-21T16:24:19.104196438Z",
     "start_time": "2023-05-21T16:24:19.025945153Z"
    }
   }
  },
  {
   "cell_type": "code",
   "execution_count": 29,
   "outputs": [
    {
     "data": {
      "text/plain": "'Garfield is a cat\\nHe is 3 years old, 20 cm tall, 15 kg.\\nWeight is higher than normal. Need another diet\\nGarfield can have children\\nMax speed 32.0 km/h'"
     },
     "execution_count": 29,
     "metadata": {},
     "output_type": "execute_result"
    }
   ],
   "source": [
    "doctor.check_animal(cat)"
   ],
   "metadata": {
    "collapsed": false,
    "ExecuteTime": {
     "end_time": "2023-05-21T16:24:19.684221595Z",
     "start_time": "2023-05-21T16:24:19.622258730Z"
    }
   }
  },
  {
   "cell_type": "code",
   "execution_count": 30,
   "outputs": [
    {
     "name": "stdout",
     "output_type": "stream",
     "text": [
      "Jim is a dog\n",
      "He is 4 years old, 40 cm tall, 20 kg.\n",
      "Weight is perfect!\n",
      "Jim can have children\n",
      "Max speed 24.0 km/h\n"
     ]
    }
   ],
   "source": [
    "print(doctor.check_animal(dog2))"
   ],
   "metadata": {
    "collapsed": false,
    "ExecuteTime": {
     "end_time": "2023-05-21T16:24:20.139696909Z",
     "start_time": "2023-05-21T16:24:20.127741565Z"
    }
   }
  },
  {
   "cell_type": "code",
   "execution_count": 31,
   "outputs": [
    {
     "name": "stdout",
     "output_type": "stream",
     "text": [
      "Jessie is a dog\n",
      "She is 4 years old, 40 cm tall, 25 kg.\n",
      "Weight is higher than normal. Need another diet\n",
      "Jessie can have children\n",
      "Max speed 17.28 km/h\n"
     ]
    }
   ],
   "source": [
    "print(doctor.check_animal(dog3))"
   ],
   "metadata": {
    "collapsed": false,
    "ExecuteTime": {
     "end_time": "2023-05-21T16:24:20.687381071Z",
     "start_time": "2023-05-21T16:24:20.665661194Z"
    }
   }
  },
  {
   "cell_type": "markdown",
   "source": [
    "**Check functionality:\n",
    "    - create additional animals\n",
    "    - check work of class Reproduction**"
   ],
   "metadata": {
    "collapsed": false
   }
  },
  {
   "cell_type": "code",
   "execution_count": 32,
   "outputs": [],
   "source": [
    "children = Reproduction()"
   ],
   "metadata": {
    "collapsed": false,
    "ExecuteTime": {
     "end_time": "2023-05-21T16:24:21.829012709Z",
     "start_time": "2023-05-21T16:24:21.758483840Z"
    }
   }
  },
  {
   "cell_type": "code",
   "execution_count": 33,
   "outputs": [
    {
     "name": "stdout",
     "output_type": "stream",
     "text": [
      "Rex and Garfield can't have children\n",
      "They are different species: dog and cat\n"
     ]
    }
   ],
   "source": [
    "children.create_new(dog, cat)"
   ],
   "metadata": {
    "collapsed": false,
    "ExecuteTime": {
     "end_time": "2023-05-21T16:24:22.111569117Z",
     "start_time": "2023-05-21T16:24:22.096636783Z"
    }
   }
  },
  {
   "cell_type": "code",
   "execution_count": 34,
   "outputs": [
    {
     "name": "stdout",
     "output_type": "stream",
     "text": [
      "Rex and Fasty can't have children\n",
      "They are different species: dog and horse\n"
     ]
    }
   ],
   "source": [
    "children.create_new(dog, horse)"
   ],
   "metadata": {
    "collapsed": false,
    "ExecuteTime": {
     "end_time": "2023-05-21T16:24:22.707968455Z",
     "start_time": "2023-05-21T16:24:22.671568966Z"
    }
   }
  },
  {
   "cell_type": "code",
   "execution_count": 35,
   "outputs": [
    {
     "name": "stdout",
     "output_type": "stream",
     "text": [
      "A child were born from Rex and Jessie at 2023-05-21 19:24:23\n",
      "Here it is:\n",
      "Name: Rsie, sex: female, age: 0 years old, height: 9 cm, weight: 1 kg.\n"
     ]
    }
   ],
   "source": [
    "new_child = children.create_new(dog, dog3)"
   ],
   "metadata": {
    "collapsed": false,
    "ExecuteTime": {
     "end_time": "2023-05-21T16:24:23.153662347Z",
     "start_time": "2023-05-21T16:24:23.098207576Z"
    }
   }
  },
  {
   "cell_type": "code",
   "execution_count": 36,
   "outputs": [
    {
     "name": "stdout",
     "output_type": "stream",
     "text": [
      "Rex and Jim can't have children\n",
      "They have the same sex.\n"
     ]
    }
   ],
   "source": [
    "children.create_new(dog, dog2)"
   ],
   "metadata": {
    "collapsed": false,
    "ExecuteTime": {
     "end_time": "2023-05-21T16:24:23.605761862Z",
     "start_time": "2023-05-21T16:24:23.591027748Z"
    }
   }
  },
  {
   "cell_type": "code",
   "execution_count": 37,
   "outputs": [
    {
     "name": "stdout",
     "output_type": "stream",
     "text": [
      "Rex and Issi can't have children\n",
      "Issi is too young for it.\n"
     ]
    }
   ],
   "source": [
    "children.create_new(dog, dog4)"
   ],
   "metadata": {
    "collapsed": false,
    "ExecuteTime": {
     "end_time": "2023-05-21T16:24:24.095646007Z",
     "start_time": "2023-05-21T16:24:24.069738392Z"
    }
   }
  },
  {
   "cell_type": "code",
   "execution_count": 38,
   "outputs": [
    {
     "name": "stdout",
     "output_type": "stream",
     "text": [
      "Garfield and Fasty can't have children\n",
      "They are different species: cat and horse\n"
     ]
    }
   ],
   "source": [
    "children.create_new(cat, horse)"
   ],
   "metadata": {
    "collapsed": false,
    "ExecuteTime": {
     "end_time": "2023-05-21T16:24:24.694296761Z",
     "start_time": "2023-05-21T16:24:24.620730167Z"
    }
   }
  },
  {
   "cell_type": "code",
   "execution_count": null,
   "outputs": [],
   "source": [],
   "metadata": {
    "collapsed": false
   }
  }
 ],
 "metadata": {
  "kernelspec": {
   "display_name": "Python 3",
   "language": "python",
   "name": "python3"
  },
  "language_info": {
   "codemirror_mode": {
    "name": "ipython",
    "version": 2
   },
   "file_extension": ".py",
   "mimetype": "text/x-python",
   "name": "python",
   "nbconvert_exporter": "python",
   "pygments_lexer": "ipython2",
   "version": "2.7.6"
  }
 },
 "nbformat": 4,
 "nbformat_minor": 0
}
