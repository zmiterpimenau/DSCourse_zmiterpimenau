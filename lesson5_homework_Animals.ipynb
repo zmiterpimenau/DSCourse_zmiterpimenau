{
 "cells": [
  {
   "cell_type": "markdown",
   "source": [
    "* Animal:\n",
    "    - common attributes for all: name, color, age, host's name, voice and height\n",
    "    - common methods:\n",
    "        -- all animals can be described;\n",
    "        -- it is possible to get a living place by host's name if any\n",
    "        -- height and sound calculating depending on age (as private methods)\n",
    "* Dog:\n",
    "    - same attributes as Animal + biting type\n",
    "    - same methods as Animal + specified describer\n",
    "* Cat:\n",
    "    - same attributes as Animal + biting type\n",
    "    - same methods as Animal + specified describer\n",
    "* Horse:\n",
    "    - same attributes as Animal + biting type\n",
    "    - same methods as Animal + specified describer\n"
   ],
   "metadata": {
    "collapsed": false
   }
  },
  {
   "cell_type": "code",
   "execution_count": 14,
   "outputs": [],
   "source": [
    "class Animal:\n",
    "\n",
    "    def __init__(\n",
    "            self, name: str, color: str, age: int, host='', sound='sound', height=0\n",
    "    ):\n",
    "        self.name = name\n",
    "        self.color = color\n",
    "        self.age = age\n",
    "        self.host = host\n",
    "        self.height = height\n",
    "        self.sound = sound\n",
    "        self.place = self._living_place()\n",
    "\n",
    "\n",
    "\n",
    "    def _living_place(self) -> str:\n",
    "        if self.host == \"\":\n",
    "            return \"It's a free animal, and it lives where it wants\"\n",
    "        else:\n",
    "            return f\"It lives at {self.host}'s house\"\n",
    "\n",
    "    def _height_calculation(self) -> float:\n",
    "        temp_var = self.height\n",
    "        if self.age <= 1:\n",
    "            temp_var /= 2\n",
    "        return  temp_var\n",
    "\n",
    "    def _calculate_sound(self) -> str:\n",
    "        if self.age > 2:\n",
    "            return self.sound.upper() * 2\n",
    "        else:\n",
    "            return self.sound.lower()\n",
    "\n",
    "    def describer(self) -> str:\n",
    "        output = (\n",
    "                \"It is a \" + self.color.lower() + \" \" +\n",
    "                self.__class__.__name__.lower() + \" named \" +\n",
    "                self.name + \"\\n\" + \"It is \" + str(self.age) +\n",
    "                \" years old and \" + str(self._height_calculation()) +\n",
    "                \" cm tall\\n\" + self._living_place() +\n",
    "                \"\\n\" + \"It says \" + self._calculate_sound()\n",
    "        )\n",
    "        return output\n"
   ],
   "metadata": {
    "collapsed": false,
    "ExecuteTime": {
     "end_time": "2023-05-17T12:42:59.019714263Z",
     "start_time": "2023-05-17T12:42:59.002721764Z"
    }
   }
  },
  {
   "cell_type": "code",
   "execution_count": 15,
   "outputs": [],
   "source": [
    "class Dog(Animal):\n",
    "\n",
    "    def __init__(self, name: str, color: str, age: int, host: str):\n",
    "        super().__init__(name, color, age, host, sound='woof', height=30.0)\n",
    "        self.bite = \"fang\"\n",
    "\n",
    "    def dog_describer(self):\n",
    "        if self.bite:\n",
    "            output = super().describer() +\"\\nIt can bite you with a \" + self.bite.lower()\n",
    "        else:\n",
    "            output = super().describer() +\"\\nIt can't bite you but it can do something else\"\n",
    "        print(output)\n",
    "\n",
    "\n"
   ],
   "metadata": {
    "collapsed": false,
    "ExecuteTime": {
     "end_time": "2023-05-17T12:43:04.735531107Z",
     "start_time": "2023-05-17T12:43:04.722346683Z"
    }
   }
  },
  {
   "cell_type": "code",
   "execution_count": 16,
   "outputs": [],
   "source": [
    "class Cat(Animal):\n",
    "\n",
    "    def __init__(self, name: str, color: str, age: int, host: str):\n",
    "        super().__init__(name, color, age, host, sound='meow', height=20.0)\n",
    "        self.bite = False\n",
    "\n",
    "    def cat_describer(self):\n",
    "        if self.bite:\n",
    "            output = super().describer() +\"\\nIt can bite you with a \" + self.bite.lower()\n",
    "        else:\n",
    "            output = super().describer() +\"\\nIt can't bite you but it can do something else\"\n",
    "        print(output)"
   ],
   "metadata": {
    "collapsed": false,
    "ExecuteTime": {
     "end_time": "2023-05-17T12:43:05.566750495Z",
     "start_time": "2023-05-17T12:43:05.543416542Z"
    }
   }
  },
  {
   "cell_type": "code",
   "execution_count": 17,
   "outputs": [],
   "source": [
    "class Horse(Animal):\n",
    "\n",
    "    def __init__(self, name: str, color: str, age: int, host: str):\n",
    "        super().__init__(name, color, age, host, sound='neigh', height=200.0)\n",
    "        self.bite = \"Teeth\"\n",
    "\n",
    "    def horse_describer(self):\n",
    "        if self.bite:\n",
    "            output = super().describer() +\"\\nIt can bite you with a \" + self.bite.lower()\n",
    "        else:\n",
    "            output = super().describer() +\"\\nIt can't bite you but it can do something else\"\n",
    "        print(output)"
   ],
   "metadata": {
    "collapsed": false,
    "ExecuteTime": {
     "end_time": "2023-05-17T12:43:06.806938664Z",
     "start_time": "2023-05-17T12:43:06.758430252Z"
    }
   }
  },
  {
   "cell_type": "code",
   "execution_count": 18,
   "outputs": [],
   "source": [
    "dog = Dog(\"Rex\", \"Brown\", 3, \"J\")\n"
   ],
   "metadata": {
    "collapsed": false,
    "ExecuteTime": {
     "end_time": "2023-05-17T12:43:08.119212291Z",
     "start_time": "2023-05-17T12:43:08.103673676Z"
    }
   }
  },
  {
   "cell_type": "code",
   "execution_count": 19,
   "outputs": [
    {
     "name": "stdout",
     "output_type": "stream",
     "text": [
      "It is a brown dog named Rex\n",
      "It is 3 years old and 30.0 cm tall\n",
      "It lives at J's house\n",
      "It says WOOFWOOF\n"
     ]
    }
   ],
   "source": [
    "print(dog.describer())"
   ],
   "metadata": {
    "collapsed": false,
    "ExecuteTime": {
     "end_time": "2023-05-17T12:43:09.291766855Z",
     "start_time": "2023-05-17T12:43:09.271548694Z"
    }
   }
  },
  {
   "cell_type": "code",
   "execution_count": 20,
   "outputs": [
    {
     "name": "stdout",
     "output_type": "stream",
     "text": [
      "It is a brown dog named Rex\n",
      "It is 3 years old and 30.0 cm tall\n",
      "It lives at J's house\n",
      "It says WOOFWOOF\n",
      "It can bite you with a fang\n"
     ]
    }
   ],
   "source": [
    "dog.dog_describer()"
   ],
   "metadata": {
    "collapsed": false,
    "ExecuteTime": {
     "end_time": "2023-05-17T12:43:10.600631064Z",
     "start_time": "2023-05-17T12:43:10.591090730Z"
    }
   }
  },
  {
   "cell_type": "code",
   "execution_count": 21,
   "outputs": [],
   "source": [
    "cat = Cat(\"Milly\", \"white\", 4, \"J\")"
   ],
   "metadata": {
    "collapsed": false,
    "ExecuteTime": {
     "end_time": "2023-05-17T12:43:12.060669113Z",
     "start_time": "2023-05-17T12:43:12.051989426Z"
    }
   }
  },
  {
   "cell_type": "code",
   "execution_count": 22,
   "outputs": [
    {
     "name": "stdout",
     "output_type": "stream",
     "text": [
      "It is a white cat named Milly\n",
      "It is 4 years old and 20.0 cm tall\n",
      "It lives at J's house\n",
      "It says MEOWMEOW\n"
     ]
    }
   ],
   "source": [
    "print(cat.describer())"
   ],
   "metadata": {
    "collapsed": false,
    "ExecuteTime": {
     "end_time": "2023-05-17T12:43:13.367102949Z",
     "start_time": "2023-05-17T12:43:13.356722583Z"
    }
   }
  },
  {
   "cell_type": "code",
   "execution_count": 23,
   "outputs": [
    {
     "name": "stdout",
     "output_type": "stream",
     "text": [
      "It is a white cat named Milly\n",
      "It is 4 years old and 20.0 cm tall\n",
      "It lives at J's house\n",
      "It says MEOWMEOW\n",
      "It can't bite you but it can do something else\n"
     ]
    }
   ],
   "source": [
    "cat.cat_describer()"
   ],
   "metadata": {
    "collapsed": false,
    "ExecuteTime": {
     "end_time": "2023-05-17T12:43:14.503188597Z",
     "start_time": "2023-05-17T12:43:14.492732138Z"
    }
   }
  },
  {
   "cell_type": "code",
   "execution_count": 24,
   "outputs": [],
   "source": [
    "horse = Horse(\"Fasty\", \"black\", 1, \"\")"
   ],
   "metadata": {
    "collapsed": false,
    "ExecuteTime": {
     "end_time": "2023-05-17T12:43:15.838782872Z",
     "start_time": "2023-05-17T12:43:15.825851373Z"
    }
   }
  },
  {
   "cell_type": "code",
   "execution_count": 26,
   "outputs": [
    {
     "name": "stdout",
     "output_type": "stream",
     "text": [
      "It is a black horse named Fasty\n",
      "It is 1 years old and 100.0 cm tall\n",
      "It's a free animal, and it lives where it wants\n",
      "It says neigh\n"
     ]
    }
   ],
   "source": [
    "print(horse.describer())"
   ],
   "metadata": {
    "collapsed": false,
    "ExecuteTime": {
     "end_time": "2023-05-17T12:43:17.892172969Z",
     "start_time": "2023-05-17T12:43:17.873410825Z"
    }
   }
  },
  {
   "cell_type": "code",
   "execution_count": 25,
   "outputs": [
    {
     "name": "stdout",
     "output_type": "stream",
     "text": [
      "It is a black horse named Fasty\n",
      "It is 1 years old and 100.0 cm tall\n",
      "It's a free animal, and it lives where it wants\n",
      "It says neigh\n",
      "It can bite you with a teeth\n"
     ]
    }
   ],
   "source": [
    "horse.horse_describer()"
   ],
   "metadata": {
    "collapsed": false,
    "ExecuteTime": {
     "end_time": "2023-05-17T12:43:16.734540141Z",
     "start_time": "2023-05-17T12:43:16.724296276Z"
    }
   }
  },
  {
   "cell_type": "code",
   "execution_count": null,
   "outputs": [],
   "source": [],
   "metadata": {
    "collapsed": false
   }
  }
 ],
 "metadata": {
  "kernelspec": {
   "display_name": "Python 3",
   "language": "python",
   "name": "python3"
  },
  "language_info": {
   "codemirror_mode": {
    "name": "ipython",
    "version": 2
   },
   "file_extension": ".py",
   "mimetype": "text/x-python",
   "name": "python",
   "nbconvert_exporter": "python",
   "pygments_lexer": "ipython2",
   "version": "2.7.6"
  }
 },
 "nbformat": 4,
 "nbformat_minor": 0
}
