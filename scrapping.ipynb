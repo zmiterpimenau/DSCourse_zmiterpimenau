{
 "cells": [
  {
   "cell_type": "code",
   "execution_count": 1,
   "metadata": {
    "collapsed": true,
    "ExecuteTime": {
     "end_time": "2023-05-14T20:11:01.808966491Z",
     "start_time": "2023-05-14T20:11:01.245709890Z"
    }
   },
   "outputs": [],
   "source": [
    "from bs4 import BeautifulSoup\n",
    "import requests\n",
    "import pandas as pd\n",
    "import config"
   ]
  },
  {
   "cell_type": "code",
   "execution_count": 2,
   "outputs": [],
   "source": [
    "url = config.INPUT_DATA_URL"
   ],
   "metadata": {
    "collapsed": false,
    "ExecuteTime": {
     "end_time": "2023-05-14T20:11:05.704341090Z",
     "start_time": "2023-05-14T20:11:05.679725443Z"
    }
   }
  },
  {
   "cell_type": "code",
   "execution_count": 3,
   "outputs": [],
   "source": [
    "# simple try to get text information from the website\n",
    "# target values: quote, author's name, tags\n",
    "\n",
    "#collecting raw data in an empty dictionary with keys = id number, and three values = quote, name, tags\n",
    "final_dict = {}\n",
    "id = 0\n",
    "\n",
    "# variable for the next loop - number of pages on the checking website\n",
    "max_pages = 10\n",
    "\n",
    "#loop for checking every page of the website\n",
    "for page in range(max_pages):\n",
    "    current_url = url + str(page+1)\n",
    "\n",
    "    #get a page and scrap it with BeautifulSoup\n",
    "    html_text = requests.get(current_url).text\n",
    "    soup = BeautifulSoup(html_text, 'lxml')\n",
    "    base = soup.find_all('div', class_ = 'quote')\n",
    "\n",
    "    #get quote, author's name and tags from raw data and save it to the empty dictionary\n",
    "    for i in range(len(base)):\n",
    "        new_info = base[i]\n",
    "        id += 1\n",
    "        final_dict[id] = {}\n",
    "\n",
    "        quote = new_info.find('span', class_ = \"text\").text\n",
    "        author = new_info.find('small').text\n",
    "        tags = new_info.find_all('a', class_ = 'tag')\n",
    "        tag_list = []\n",
    "        for j in range(len(tags)):\n",
    "            tag_list.append(tags[j].text)\n",
    "        tag_str = \", \".join(tag_list)\n",
    "\n",
    "        final_dict[id][\"quote\"] = quote\n",
    "        final_dict[id][\"author\"] = author\n",
    "        final_dict[id][\"tags\"] = tag_str.upper()"
   ],
   "metadata": {
    "collapsed": false,
    "ExecuteTime": {
     "end_time": "2023-05-14T20:11:13.850129954Z",
     "start_time": "2023-05-14T20:11:06.467734138Z"
    }
   }
  },
  {
   "cell_type": "code",
   "execution_count": 4,
   "outputs": [],
   "source": [
    "result = []\n",
    "current_row = 1\n",
    "\n",
    "# converting dictionary data to list format for easier output\n",
    "for i in range(1, len(final_dict) + 1):\n",
    "    result.append([])\n",
    "\n",
    "    result[i-1].append(str(final_dict[i]['quote']))\n",
    "    result[i-1].append(str(final_dict[i]['author']))\n",
    "    result[i-1].append(str(final_dict[i]['tags']))"
   ],
   "metadata": {
    "collapsed": false,
    "ExecuteTime": {
     "end_time": "2023-05-14T20:11:13.865060556Z",
     "start_time": "2023-05-14T20:11:13.860862713Z"
    }
   }
  },
  {
   "cell_type": "code",
   "execution_count": 5,
   "outputs": [],
   "source": [
    "# replacing \";\" with \",\" to avoid mistakes with writing to csv file\n",
    "for i in range(len(result)):\n",
    "    if \";\" in result[i][0]:\n",
    "        result[i][0] = result[i][0].replace(';', ',')"
   ],
   "metadata": {
    "collapsed": false,
    "ExecuteTime": {
     "end_time": "2023-05-14T20:11:13.903659553Z",
     "start_time": "2023-05-14T20:11:13.870376524Z"
    }
   }
  },
  {
   "cell_type": "code",
   "execution_count": 6,
   "outputs": [],
   "source": [
    "#framing data with pandas module\n",
    "df = pd.DataFrame(result, columns=[\"Quote\", \"Author\", \"Tags\"])"
   ],
   "metadata": {
    "collapsed": false,
    "ExecuteTime": {
     "end_time": "2023-05-14T20:11:14.755219182Z",
     "start_time": "2023-05-14T20:11:14.743201421Z"
    }
   }
  },
  {
   "cell_type": "code",
   "execution_count": 7,
   "outputs": [],
   "source": [
    "#saving data to csv file\n",
    "filename = config.OUTPUT_PATH\n",
    "df.to_csv(filename)"
   ],
   "metadata": {
    "collapsed": false,
    "ExecuteTime": {
     "end_time": "2023-05-14T20:11:15.745156042Z",
     "start_time": "2023-05-14T20:11:15.725737406Z"
    }
   }
  },
  {
   "cell_type": "code",
   "execution_count": null,
   "outputs": [],
   "source": [],
   "metadata": {
    "collapsed": false
   }
  }
 ],
 "metadata": {
  "kernelspec": {
   "display_name": "Python 3",
   "language": "python",
   "name": "python3"
  },
  "language_info": {
   "codemirror_mode": {
    "name": "ipython",
    "version": 2
   },
   "file_extension": ".py",
   "mimetype": "text/x-python",
   "name": "python",
   "nbconvert_exporter": "python",
   "pygments_lexer": "ipython2",
   "version": "2.7.6"
  }
 },
 "nbformat": 4,
 "nbformat_minor": 0
}
